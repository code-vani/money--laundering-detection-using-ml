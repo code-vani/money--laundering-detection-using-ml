{
 "cells": [
  {
   "cell_type": "markdown",
   "id": "31e0a566",
   "metadata": {},
   "source": [
    "# **Data Reading & Sampling**"
   ]
  },
  {
   "cell_type": "code",
   "execution_count": 1,
   "id": "347b289e",
   "metadata": {},
   "outputs": [
    {
     "name": "stdout",
     "output_type": "stream",
     "text": [
      "Requirement already satisfied: imbalanced-learn==0.7.0 in c:\\users\\acer\\anaconda3\\envs\\tensorflow1\\lib\\site-packages (0.7.0)\n",
      "Requirement already satisfied: numpy>=1.13.3 in c:\\users\\acer\\anaconda3\\envs\\tensorflow1\\lib\\site-packages (from imbalanced-learn==0.7.0) (1.21.6)\n",
      "Requirement already satisfied: joblib>=0.11 in c:\\users\\acer\\anaconda3\\envs\\tensorflow1\\lib\\site-packages (from imbalanced-learn==0.7.0) (1.1.1)\n",
      "Requirement already satisfied: scikit-learn>=0.23 in c:\\users\\acer\\anaconda3\\envs\\tensorflow1\\lib\\site-packages (from imbalanced-learn==0.7.0) (1.0.2)\n",
      "Requirement already satisfied: scipy>=0.19.1 in c:\\users\\acer\\anaconda3\\envs\\tensorflow1\\lib\\site-packages (from imbalanced-learn==0.7.0) (1.7.3)\n",
      "Requirement already satisfied: threadpoolctl>=2.0.0 in c:\\users\\acer\\anaconda3\\envs\\tensorflow1\\lib\\site-packages (from scikit-learn>=0.23->imbalanced-learn==0.7.0) (2.2.0)\n"
     ]
    }
   ],
   "source": [
    "!pip install imbalanced-learn==0.7.0\n"
   ]
  },
  {
   "cell_type": "code",
   "execution_count": 2,
   "id": "c0a1ca88",
   "metadata": {},
   "outputs": [
    {
     "name": "stdout",
     "output_type": "stream",
     "text": [
      "Requirement already satisfied: xgboost in c:\\users\\acer\\anaconda3\\envs\\tensorflow1\\lib\\site-packages (1.6.2)\n",
      "Requirement already satisfied: numpy in c:\\users\\acer\\anaconda3\\envs\\tensorflow1\\lib\\site-packages (from xgboost) (1.21.6)\n",
      "Requirement already satisfied: scipy in c:\\users\\acer\\anaconda3\\envs\\tensorflow1\\lib\\site-packages (from xgboost) (1.7.3)\n",
      "Note: you may need to restart the kernel to use updated packages.\n"
     ]
    }
   ],
   "source": [
    "pip install xgboost\n"
   ]
  },
  {
   "cell_type": "code",
   "execution_count": 3,
   "id": "ccc9e41a",
   "metadata": {},
   "outputs": [],
   "source": [
    "# Data Handling & Visualization\n",
    "import pandas as pd\n",
    "import numpy as np\n",
    "import matplotlib.pyplot as plt\n",
    "import seaborn as sns\n",
    "\n",
    "# Preprocessing\n",
    "from sklearn.preprocessing import RobustScaler, StandardScaler\n",
    "from sklearn.model_selection import train_test_split, GridSearchCV\n",
    "\n",
    "# Handling Imbalanced Data\n",
    "from imblearn.under_sampling import RandomUnderSampler\n",
    "\n",
    "# Machine Learning Models\n",
    "from sklearn.svm import LinearSVC\n",
    "from sklearn.ensemble import RandomForestClassifier, StackingClassifier\n",
    "from sklearn.linear_model import LogisticRegression\n",
    "import xgboost as xgb\n",
    "\n",
    "# Evaluation Metrics\n",
    "from sklearn.metrics import confusion_matrix, classification_report, roc_auc_score\n",
    "\n",
    "# Pipeline\n",
    "from sklearn.pipeline import make_pipeline\n",
    "\n",
    "# Suppress Warnings\n",
    "import warnings\n",
    "warnings.filterwarnings('ignore')\n"
   ]
  },
  {
   "cell_type": "markdown",
   "id": "02d2db42",
   "metadata": {},
   "source": [
    "**Undersampling** is a technique used to address class imbalance in a dataset, commonly employed when the proportion between classes is significantly skewed. \n",
    "\n",
    "In the context of financial transactions where only a **small portion** is flagged as **money laundering**, undersampling involves reducing the abundance of the majority class (non-money laundering transactions) to match the quantity of the minority class (money laundering transactions). This process randomly selects and removes instances from the majority class until a balanced representation between both classes is achieved. By doing so, it ensures that the model is trained on a more proportionate dataset, mitigating the impact of class imbalance and improving the model's ability to accurately learn and predict across both classes."
   ]
  },
  {
   "cell_type": "code",
   "execution_count": 4,
   "id": "55068305",
   "metadata": {},
   "outputs": [],
   "source": [
    "chunk_size = 100000\n",
    "rus = RandomUnderSampler(random_state=42)\n",
    "undersampled_data = pd.DataFrame()\n",
    "\n",
    "for chunk in pd.read_csv(r\"archive (3)/HI-Large_Trans.csv\", chunksize=chunk_size):\n",
    "    X_chunk = chunk.drop('Is Laundering', axis=1)\n",
    "    y_chunk = chunk['Is Laundering']\n",
    "    \n",
    "    if len(y_chunk.unique()) > 1:\n",
    "        X_rus, y_rus = rus.fit_resample(X_chunk, y_chunk)\n",
    "        chunk_rus = pd.concat([X_rus, y_rus], axis=1)\n",
    "        undersampled_data = pd.concat([undersampled_data, chunk_rus], ignore_index=True)\n"
   ]
  },
  {
   "cell_type": "code",
   "execution_count": 5,
   "id": "ab7d6bfc",
   "metadata": {},
   "outputs": [],
   "source": [
    "df = undersampled_data"
   ]
  },
  {
   "cell_type": "code",
   "execution_count": 6,
   "id": "f8c6cccb",
   "metadata": {},
   "outputs": [],
   "source": [
    "df.to_csv('HI-Large_Trans_Sampled.csv', index=False)"
   ]
  },
  {
   "cell_type": "code",
   "execution_count": 8,
   "id": "affe093d",
   "metadata": {},
   "outputs": [],
   "source": [
    "df = pd.read_csv(\"HI-Large_Trans_Sampled.csv\")"
   ]
  },
  {
   "cell_type": "markdown",
   "id": "3649876e",
   "metadata": {},
   "source": [
    "# **Data Understanding**"
   ]
  },
  {
   "cell_type": "code",
   "execution_count": 9,
   "id": "475ccc3f",
   "metadata": {},
   "outputs": [
    {
     "data": {
      "text/html": [
       "<div>\n",
       "<style scoped>\n",
       "    .dataframe tbody tr th:only-of-type {\n",
       "        vertical-align: middle;\n",
       "    }\n",
       "\n",
       "    .dataframe tbody tr th {\n",
       "        vertical-align: top;\n",
       "    }\n",
       "\n",
       "    .dataframe thead th {\n",
       "        text-align: right;\n",
       "    }\n",
       "</style>\n",
       "<table border=\"1\" class=\"dataframe\">\n",
       "  <thead>\n",
       "    <tr style=\"text-align: right;\">\n",
       "      <th></th>\n",
       "      <th>Timestamp</th>\n",
       "      <th>From Bank</th>\n",
       "      <th>Account</th>\n",
       "      <th>To Bank</th>\n",
       "      <th>Account.1</th>\n",
       "      <th>Amount Received</th>\n",
       "      <th>Receiving Currency</th>\n",
       "      <th>Amount Paid</th>\n",
       "      <th>Payment Currency</th>\n",
       "      <th>Payment Format</th>\n",
       "      <th>Is Laundering</th>\n",
       "    </tr>\n",
       "  </thead>\n",
       "  <tbody>\n",
       "    <tr>\n",
       "      <th>0</th>\n",
       "      <td>2022/08/01 00:11</td>\n",
       "      <td>36738</td>\n",
       "      <td>8033CC480</td>\n",
       "      <td>36738</td>\n",
       "      <td>8033CC480</td>\n",
       "      <td>3282.69</td>\n",
       "      <td>US Dollar</td>\n",
       "      <td>3282.69</td>\n",
       "      <td>US Dollar</td>\n",
       "      <td>Reinvestment</td>\n",
       "      <td>0</td>\n",
       "    </tr>\n",
       "    <tr>\n",
       "      <th>1</th>\n",
       "      <td>2022/08/01 00:19</td>\n",
       "      <td>70</td>\n",
       "      <td>100428660</td>\n",
       "      <td>8381</td>\n",
       "      <td>8035B3E00</td>\n",
       "      <td>27815.14</td>\n",
       "      <td>US Dollar</td>\n",
       "      <td>27815.14</td>\n",
       "      <td>US Dollar</td>\n",
       "      <td>Cheque</td>\n",
       "      <td>1</td>\n",
       "    </tr>\n",
       "    <tr>\n",
       "      <th>2</th>\n",
       "      <td>2022/08/01 00:17</td>\n",
       "      <td>27076</td>\n",
       "      <td>814F9F6E0</td>\n",
       "      <td>27076</td>\n",
       "      <td>814F9F6E0</td>\n",
       "      <td>207177.21</td>\n",
       "      <td>US Dollar</td>\n",
       "      <td>207177.21</td>\n",
       "      <td>US Dollar</td>\n",
       "      <td>Reinvestment</td>\n",
       "      <td>0</td>\n",
       "    </tr>\n",
       "    <tr>\n",
       "      <th>3</th>\n",
       "      <td>2022/08/01 00:16</td>\n",
       "      <td>347207</td>\n",
       "      <td>812A8DFA0</td>\n",
       "      <td>347207</td>\n",
       "      <td>812A8DFA0</td>\n",
       "      <td>1479.74</td>\n",
       "      <td>US Dollar</td>\n",
       "      <td>1479.74</td>\n",
       "      <td>US Dollar</td>\n",
       "      <td>Reinvestment</td>\n",
       "      <td>0</td>\n",
       "    </tr>\n",
       "    <tr>\n",
       "      <th>4</th>\n",
       "      <td>2022/08/01 00:04</td>\n",
       "      <td>21710</td>\n",
       "      <td>80789D110</td>\n",
       "      <td>42935</td>\n",
       "      <td>811EEF2A0</td>\n",
       "      <td>151.27</td>\n",
       "      <td>US Dollar</td>\n",
       "      <td>151.27</td>\n",
       "      <td>US Dollar</td>\n",
       "      <td>Credit Card</td>\n",
       "      <td>0</td>\n",
       "    </tr>\n",
       "    <tr>\n",
       "      <th>5</th>\n",
       "      <td>2022/08/01 00:24</td>\n",
       "      <td>221413</td>\n",
       "      <td>809BA19E0</td>\n",
       "      <td>15027</td>\n",
       "      <td>8104F8A40</td>\n",
       "      <td>2496.59</td>\n",
       "      <td>US Dollar</td>\n",
       "      <td>2496.59</td>\n",
       "      <td>US Dollar</td>\n",
       "      <td>Cash</td>\n",
       "      <td>0</td>\n",
       "    </tr>\n",
       "    <tr>\n",
       "      <th>6</th>\n",
       "      <td>2022/08/01 00:13</td>\n",
       "      <td>32425</td>\n",
       "      <td>80FC90C90</td>\n",
       "      <td>32425</td>\n",
       "      <td>80FC90C90</td>\n",
       "      <td>6.68</td>\n",
       "      <td>US Dollar</td>\n",
       "      <td>6.68</td>\n",
       "      <td>US Dollar</td>\n",
       "      <td>Reinvestment</td>\n",
       "      <td>0</td>\n",
       "    </tr>\n",
       "    <tr>\n",
       "      <th>7</th>\n",
       "      <td>2022/08/01 00:07</td>\n",
       "      <td>10542</td>\n",
       "      <td>80EAEAE10</td>\n",
       "      <td>10542</td>\n",
       "      <td>80EAEAE10</td>\n",
       "      <td>1466123.41</td>\n",
       "      <td>US Dollar</td>\n",
       "      <td>1466123.41</td>\n",
       "      <td>US Dollar</td>\n",
       "      <td>Reinvestment</td>\n",
       "      <td>0</td>\n",
       "    </tr>\n",
       "    <tr>\n",
       "      <th>8</th>\n",
       "      <td>2022/08/01 00:28</td>\n",
       "      <td>70</td>\n",
       "      <td>100428660</td>\n",
       "      <td>29630</td>\n",
       "      <td>814B11040</td>\n",
       "      <td>86532.59</td>\n",
       "      <td>US Dollar</td>\n",
       "      <td>86532.59</td>\n",
       "      <td>US Dollar</td>\n",
       "      <td>Cheque</td>\n",
       "      <td>1</td>\n",
       "    </tr>\n",
       "    <tr>\n",
       "      <th>9</th>\n",
       "      <td>2022/08/01 00:06</td>\n",
       "      <td>215275</td>\n",
       "      <td>816439360</td>\n",
       "      <td>235985</td>\n",
       "      <td>816439870</td>\n",
       "      <td>4163.80</td>\n",
       "      <td>US Dollar</td>\n",
       "      <td>4163.80</td>\n",
       "      <td>US Dollar</td>\n",
       "      <td>ACH</td>\n",
       "      <td>1</td>\n",
       "    </tr>\n",
       "  </tbody>\n",
       "</table>\n",
       "</div>"
      ],
      "text/plain": [
       "          Timestamp  From Bank    Account  To Bank  Account.1  \\\n",
       "0  2022/08/01 00:11      36738  8033CC480    36738  8033CC480   \n",
       "1  2022/08/01 00:19         70  100428660     8381  8035B3E00   \n",
       "2  2022/08/01 00:17      27076  814F9F6E0    27076  814F9F6E0   \n",
       "3  2022/08/01 00:16     347207  812A8DFA0   347207  812A8DFA0   \n",
       "4  2022/08/01 00:04      21710  80789D110    42935  811EEF2A0   \n",
       "5  2022/08/01 00:24     221413  809BA19E0    15027  8104F8A40   \n",
       "6  2022/08/01 00:13      32425  80FC90C90    32425  80FC90C90   \n",
       "7  2022/08/01 00:07      10542  80EAEAE10    10542  80EAEAE10   \n",
       "8  2022/08/01 00:28         70  100428660    29630  814B11040   \n",
       "9  2022/08/01 00:06     215275  816439360   235985  816439870   \n",
       "\n",
       "   Amount Received Receiving Currency  Amount Paid Payment Currency  \\\n",
       "0          3282.69          US Dollar      3282.69        US Dollar   \n",
       "1         27815.14          US Dollar     27815.14        US Dollar   \n",
       "2        207177.21          US Dollar    207177.21        US Dollar   \n",
       "3          1479.74          US Dollar      1479.74        US Dollar   \n",
       "4           151.27          US Dollar       151.27        US Dollar   \n",
       "5          2496.59          US Dollar      2496.59        US Dollar   \n",
       "6             6.68          US Dollar         6.68        US Dollar   \n",
       "7       1466123.41          US Dollar   1466123.41        US Dollar   \n",
       "8         86532.59          US Dollar     86532.59        US Dollar   \n",
       "9          4163.80          US Dollar      4163.80        US Dollar   \n",
       "\n",
       "  Payment Format  Is Laundering  \n",
       "0   Reinvestment              0  \n",
       "1         Cheque              1  \n",
       "2   Reinvestment              0  \n",
       "3   Reinvestment              0  \n",
       "4    Credit Card              0  \n",
       "5           Cash              0  \n",
       "6   Reinvestment              0  \n",
       "7   Reinvestment              0  \n",
       "8         Cheque              1  \n",
       "9            ACH              1  "
      ]
     },
     "execution_count": 9,
     "metadata": {},
     "output_type": "execute_result"
    }
   ],
   "source": [
    "df.head(10)"
   ]
  },
  {
   "cell_type": "code",
   "execution_count": 10,
   "id": "40b8c403",
   "metadata": {
    "scrolled": false
   },
   "outputs": [
    {
     "data": {
      "text/plain": [
       "(451092, 11)"
      ]
     },
     "execution_count": 10,
     "metadata": {},
     "output_type": "execute_result"
    }
   ],
   "source": [
    "df.shape"
   ]
  },
  {
   "cell_type": "code",
   "execution_count": 11,
   "id": "36b5d7d9",
   "metadata": {},
   "outputs": [
    {
     "data": {
      "text/plain": [
       "Index(['Timestamp', 'From Bank', 'Account', 'To Bank', 'Account.1',\n",
       "       'Amount Received', 'Receiving Currency', 'Amount Paid',\n",
       "       'Payment Currency', 'Payment Format', 'Is Laundering'],\n",
       "      dtype='object')"
      ]
     },
     "execution_count": 11,
     "metadata": {},
     "output_type": "execute_result"
    }
   ],
   "source": [
    "df.columns"
   ]
  },
  {
   "cell_type": "code",
   "execution_count": 12,
   "id": "8711bd81",
   "metadata": {},
   "outputs": [
    {
     "data": {
      "text/plain": [
       "Index(['timestamp', 'from_bank', 'account', 'to_bank', 'account_1',\n",
       "       'amount_received', 'receiving_currency', 'amount_paid',\n",
       "       'payment_currency', 'payment_format', 'is_laundering'],\n",
       "      dtype='object')"
      ]
     },
     "execution_count": 12,
     "metadata": {},
     "output_type": "execute_result"
    }
   ],
   "source": [
    "df.columns = [col.replace(' ', '_').replace('.', '_').lower() for col in df.columns]\n",
    "df.columns"
   ]
  },
  {
   "cell_type": "code",
   "execution_count": 13,
   "id": "09e353f5",
   "metadata": {
    "scrolled": true
   },
   "outputs": [
    {
     "name": "stdout",
     "output_type": "stream",
     "text": [
      "<class 'pandas.core.frame.DataFrame'>\n",
      "RangeIndex: 451092 entries, 0 to 451091\n",
      "Data columns (total 11 columns):\n",
      " #   Column              Non-Null Count   Dtype  \n",
      "---  ------              --------------   -----  \n",
      " 0   timestamp           451092 non-null  object \n",
      " 1   from_bank           451092 non-null  int64  \n",
      " 2   account             451092 non-null  object \n",
      " 3   to_bank             451092 non-null  int64  \n",
      " 4   account_1           451092 non-null  object \n",
      " 5   amount_received     451092 non-null  float64\n",
      " 6   receiving_currency  451092 non-null  object \n",
      " 7   amount_paid         451092 non-null  float64\n",
      " 8   payment_currency    451092 non-null  object \n",
      " 9   payment_format      451092 non-null  object \n",
      " 10  is_laundering       451092 non-null  int64  \n",
      "dtypes: float64(2), int64(3), object(6)\n",
      "memory usage: 37.9+ MB\n"
     ]
    }
   ],
   "source": [
    "df.info()"
   ]
  },
  {
   "cell_type": "code",
   "execution_count": 14,
   "id": "271a77bb",
   "metadata": {
    "scrolled": true
   },
   "outputs": [
    {
     "data": {
      "text/plain": [
       "timestamp             0\n",
       "from_bank             0\n",
       "account               0\n",
       "to_bank               0\n",
       "account_1             0\n",
       "amount_received       0\n",
       "receiving_currency    0\n",
       "amount_paid           0\n",
       "payment_currency      0\n",
       "payment_format        0\n",
       "is_laundering         0\n",
       "dtype: int64"
      ]
     },
     "execution_count": 14,
     "metadata": {},
     "output_type": "execute_result"
    }
   ],
   "source": [
    "df.isnull().sum()"
   ]
  },
  {
   "cell_type": "code",
   "execution_count": 15,
   "id": "a50b7622",
   "metadata": {
    "scrolled": true
   },
   "outputs": [
    {
     "data": {
      "text/plain": [
       "0    225546\n",
       "1    225546\n",
       "Name: is_laundering, dtype: int64"
      ]
     },
     "execution_count": 15,
     "metadata": {},
     "output_type": "execute_result"
    }
   ],
   "source": [
    "df['is_laundering'].value_counts()"
   ]
  },
  {
   "cell_type": "markdown",
   "id": "9ed76d71",
   "metadata": {},
   "source": [
    "Displaying an example of money laundering occurrence: **[is_laundering] = 1**"
   ]
  },
  {
   "cell_type": "code",
   "execution_count": 16,
   "id": "20b10b99",
   "metadata": {
    "scrolled": false
   },
   "outputs": [
    {
     "data": {
      "text/html": [
       "<div>\n",
       "<style scoped>\n",
       "    .dataframe tbody tr th:only-of-type {\n",
       "        vertical-align: middle;\n",
       "    }\n",
       "\n",
       "    .dataframe tbody tr th {\n",
       "        vertical-align: top;\n",
       "    }\n",
       "\n",
       "    .dataframe thead th {\n",
       "        text-align: right;\n",
       "    }\n",
       "</style>\n",
       "<table border=\"1\" class=\"dataframe\">\n",
       "  <thead>\n",
       "    <tr style=\"text-align: right;\">\n",
       "      <th></th>\n",
       "      <th>timestamp</th>\n",
       "      <th>from_bank</th>\n",
       "      <th>account</th>\n",
       "      <th>to_bank</th>\n",
       "      <th>account_1</th>\n",
       "      <th>amount_received</th>\n",
       "      <th>receiving_currency</th>\n",
       "      <th>amount_paid</th>\n",
       "      <th>payment_currency</th>\n",
       "      <th>payment_format</th>\n",
       "      <th>is_laundering</th>\n",
       "    </tr>\n",
       "  </thead>\n",
       "  <tbody>\n",
       "    <tr>\n",
       "      <th>1</th>\n",
       "      <td>2022/08/01 00:19</td>\n",
       "      <td>70</td>\n",
       "      <td>100428660</td>\n",
       "      <td>8381</td>\n",
       "      <td>8035B3E00</td>\n",
       "      <td>27815.14</td>\n",
       "      <td>US Dollar</td>\n",
       "      <td>27815.14</td>\n",
       "      <td>US Dollar</td>\n",
       "      <td>Cheque</td>\n",
       "      <td>1</td>\n",
       "    </tr>\n",
       "    <tr>\n",
       "      <th>8</th>\n",
       "      <td>2022/08/01 00:28</td>\n",
       "      <td>70</td>\n",
       "      <td>100428660</td>\n",
       "      <td>29630</td>\n",
       "      <td>814B11040</td>\n",
       "      <td>86532.59</td>\n",
       "      <td>US Dollar</td>\n",
       "      <td>86532.59</td>\n",
       "      <td>US Dollar</td>\n",
       "      <td>Cheque</td>\n",
       "      <td>1</td>\n",
       "    </tr>\n",
       "    <tr>\n",
       "      <th>9</th>\n",
       "      <td>2022/08/01 00:06</td>\n",
       "      <td>215275</td>\n",
       "      <td>816439360</td>\n",
       "      <td>235985</td>\n",
       "      <td>816439870</td>\n",
       "      <td>4163.80</td>\n",
       "      <td>US Dollar</td>\n",
       "      <td>4163.80</td>\n",
       "      <td>US Dollar</td>\n",
       "      <td>ACH</td>\n",
       "      <td>1</td>\n",
       "    </tr>\n",
       "    <tr>\n",
       "      <th>10</th>\n",
       "      <td>2022/08/01 00:05</td>\n",
       "      <td>70</td>\n",
       "      <td>100428660</td>\n",
       "      <td>220255</td>\n",
       "      <td>818305750</td>\n",
       "      <td>10111.03</td>\n",
       "      <td>US Dollar</td>\n",
       "      <td>10111.03</td>\n",
       "      <td>US Dollar</td>\n",
       "      <td>Cheque</td>\n",
       "      <td>1</td>\n",
       "    </tr>\n",
       "    <tr>\n",
       "      <th>11</th>\n",
       "      <td>2022/08/01 00:16</td>\n",
       "      <td>70</td>\n",
       "      <td>100428660</td>\n",
       "      <td>1922</td>\n",
       "      <td>8192DF510</td>\n",
       "      <td>162.16</td>\n",
       "      <td>US Dollar</td>\n",
       "      <td>162.16</td>\n",
       "      <td>US Dollar</td>\n",
       "      <td>Cash</td>\n",
       "      <td>1</td>\n",
       "    </tr>\n",
       "    <tr>\n",
       "      <th>12</th>\n",
       "      <td>2022/08/01 00:08</td>\n",
       "      <td>70</td>\n",
       "      <td>100428660</td>\n",
       "      <td>253568</td>\n",
       "      <td>819B9C7A0</td>\n",
       "      <td>13785.54</td>\n",
       "      <td>US Dollar</td>\n",
       "      <td>13785.54</td>\n",
       "      <td>US Dollar</td>\n",
       "      <td>Cash</td>\n",
       "      <td>1</td>\n",
       "    </tr>\n",
       "    <tr>\n",
       "      <th>13</th>\n",
       "      <td>2022/08/01 00:10</td>\n",
       "      <td>70</td>\n",
       "      <td>100428660</td>\n",
       "      <td>167996</td>\n",
       "      <td>81C0AA460</td>\n",
       "      <td>20918.99</td>\n",
       "      <td>US Dollar</td>\n",
       "      <td>20918.99</td>\n",
       "      <td>US Dollar</td>\n",
       "      <td>Cheque</td>\n",
       "      <td>1</td>\n",
       "    </tr>\n",
       "    <tr>\n",
       "      <th>38</th>\n",
       "      <td>2022/08/01 00:26</td>\n",
       "      <td>70</td>\n",
       "      <td>100428660</td>\n",
       "      <td>273388</td>\n",
       "      <td>82290C460</td>\n",
       "      <td>10541.83</td>\n",
       "      <td>US Dollar</td>\n",
       "      <td>10541.83</td>\n",
       "      <td>US Dollar</td>\n",
       "      <td>Cheque</td>\n",
       "      <td>1</td>\n",
       "    </tr>\n",
       "    <tr>\n",
       "      <th>39</th>\n",
       "      <td>2022/08/09 05:14</td>\n",
       "      <td>952</td>\n",
       "      <td>8139F54E0</td>\n",
       "      <td>111632</td>\n",
       "      <td>8062C56E0</td>\n",
       "      <td>5331.44</td>\n",
       "      <td>US Dollar</td>\n",
       "      <td>5331.44</td>\n",
       "      <td>US Dollar</td>\n",
       "      <td>ACH</td>\n",
       "      <td>1</td>\n",
       "    </tr>\n",
       "    <tr>\n",
       "      <th>40</th>\n",
       "      <td>2022/08/13 13:09</td>\n",
       "      <td>111632</td>\n",
       "      <td>8062C56E0</td>\n",
       "      <td>8456</td>\n",
       "      <td>81363F620</td>\n",
       "      <td>5602.59</td>\n",
       "      <td>US Dollar</td>\n",
       "      <td>5602.59</td>\n",
       "      <td>US Dollar</td>\n",
       "      <td>ACH</td>\n",
       "      <td>1</td>\n",
       "    </tr>\n",
       "  </tbody>\n",
       "</table>\n",
       "</div>"
      ],
      "text/plain": [
       "           timestamp  from_bank    account  to_bank  account_1  \\\n",
       "1   2022/08/01 00:19         70  100428660     8381  8035B3E00   \n",
       "8   2022/08/01 00:28         70  100428660    29630  814B11040   \n",
       "9   2022/08/01 00:06     215275  816439360   235985  816439870   \n",
       "10  2022/08/01 00:05         70  100428660   220255  818305750   \n",
       "11  2022/08/01 00:16         70  100428660     1922  8192DF510   \n",
       "12  2022/08/01 00:08         70  100428660   253568  819B9C7A0   \n",
       "13  2022/08/01 00:10         70  100428660   167996  81C0AA460   \n",
       "38  2022/08/01 00:26         70  100428660   273388  82290C460   \n",
       "39  2022/08/09 05:14        952  8139F54E0   111632  8062C56E0   \n",
       "40  2022/08/13 13:09     111632  8062C56E0     8456  81363F620   \n",
       "\n",
       "    amount_received receiving_currency  amount_paid payment_currency  \\\n",
       "1          27815.14          US Dollar     27815.14        US Dollar   \n",
       "8          86532.59          US Dollar     86532.59        US Dollar   \n",
       "9           4163.80          US Dollar      4163.80        US Dollar   \n",
       "10         10111.03          US Dollar     10111.03        US Dollar   \n",
       "11           162.16          US Dollar       162.16        US Dollar   \n",
       "12         13785.54          US Dollar     13785.54        US Dollar   \n",
       "13         20918.99          US Dollar     20918.99        US Dollar   \n",
       "38         10541.83          US Dollar     10541.83        US Dollar   \n",
       "39          5331.44          US Dollar      5331.44        US Dollar   \n",
       "40          5602.59          US Dollar      5602.59        US Dollar   \n",
       "\n",
       "   payment_format  is_laundering  \n",
       "1          Cheque              1  \n",
       "8          Cheque              1  \n",
       "9             ACH              1  \n",
       "10         Cheque              1  \n",
       "11           Cash              1  \n",
       "12           Cash              1  \n",
       "13         Cheque              1  \n",
       "38         Cheque              1  \n",
       "39            ACH              1  \n",
       "40            ACH              1  "
      ]
     },
     "execution_count": 16,
     "metadata": {},
     "output_type": "execute_result"
    }
   ],
   "source": [
    "df_laundering = df[df['is_laundering'] == 1]\n",
    "df_laundering.head(10)"
   ]
  },
  {
   "cell_type": "code",
   "execution_count": 17,
   "id": "020f138d",
   "metadata": {},
   "outputs": [
    {
     "data": {
      "text/html": [
       "<div>\n",
       "<style scoped>\n",
       "    .dataframe tbody tr th:only-of-type {\n",
       "        vertical-align: middle;\n",
       "    }\n",
       "\n",
       "    .dataframe tbody tr th {\n",
       "        vertical-align: top;\n",
       "    }\n",
       "\n",
       "    .dataframe thead th {\n",
       "        text-align: right;\n",
       "    }\n",
       "</style>\n",
       "<table border=\"1\" class=\"dataframe\">\n",
       "  <thead>\n",
       "    <tr style=\"text-align: right;\">\n",
       "      <th></th>\n",
       "      <th>timestamp</th>\n",
       "      <th>from_bank</th>\n",
       "      <th>account</th>\n",
       "      <th>to_bank</th>\n",
       "      <th>account_1</th>\n",
       "      <th>amount_received</th>\n",
       "      <th>receiving_currency</th>\n",
       "      <th>amount_paid</th>\n",
       "      <th>payment_currency</th>\n",
       "      <th>payment_format</th>\n",
       "      <th>is_laundering</th>\n",
       "    </tr>\n",
       "  </thead>\n",
       "  <tbody>\n",
       "    <tr>\n",
       "      <th>225</th>\n",
       "      <td>2022/08/01 01:23</td>\n",
       "      <td>118247</td>\n",
       "      <td>80D272AB0</td>\n",
       "      <td>118247</td>\n",
       "      <td>80D272AB0</td>\n",
       "      <td>251.83</td>\n",
       "      <td>US Dollar</td>\n",
       "      <td>1686.64</td>\n",
       "      <td>Yuan</td>\n",
       "      <td>ACH</td>\n",
       "      <td>0</td>\n",
       "    </tr>\n",
       "    <tr>\n",
       "      <th>254</th>\n",
       "      <td>2022/08/01 00:30</td>\n",
       "      <td>294136</td>\n",
       "      <td>82300BC40</td>\n",
       "      <td>294136</td>\n",
       "      <td>82300BC40</td>\n",
       "      <td>4504452.82</td>\n",
       "      <td>Australian Dollar</td>\n",
       "      <td>2468394.23</td>\n",
       "      <td>UK Pound</td>\n",
       "      <td>ACH</td>\n",
       "      <td>0</td>\n",
       "    </tr>\n",
       "    <tr>\n",
       "      <th>338</th>\n",
       "      <td>2022/08/01 01:33</td>\n",
       "      <td>24583</td>\n",
       "      <td>803067A10</td>\n",
       "      <td>24583</td>\n",
       "      <td>803067A10</td>\n",
       "      <td>1929.27</td>\n",
       "      <td>Euro</td>\n",
       "      <td>2260.69</td>\n",
       "      <td>US Dollar</td>\n",
       "      <td>ACH</td>\n",
       "      <td>0</td>\n",
       "    </tr>\n",
       "    <tr>\n",
       "      <th>428</th>\n",
       "      <td>2022/08/01 02:15</td>\n",
       "      <td>11520</td>\n",
       "      <td>806D96280</td>\n",
       "      <td>11520</td>\n",
       "      <td>806D96280</td>\n",
       "      <td>34456.50</td>\n",
       "      <td>US Dollar</td>\n",
       "      <td>29405.17</td>\n",
       "      <td>Euro</td>\n",
       "      <td>ACH</td>\n",
       "      <td>0</td>\n",
       "    </tr>\n",
       "    <tr>\n",
       "      <th>476</th>\n",
       "      <td>2022/08/01 02:16</td>\n",
       "      <td>16327</td>\n",
       "      <td>8029BB5B0</td>\n",
       "      <td>16327</td>\n",
       "      <td>8029BB5B0</td>\n",
       "      <td>381.76</td>\n",
       "      <td>Canadian Dollar</td>\n",
       "      <td>289.37</td>\n",
       "      <td>US Dollar</td>\n",
       "      <td>ACH</td>\n",
       "      <td>0</td>\n",
       "    </tr>\n",
       "    <tr>\n",
       "      <th>...</th>\n",
       "      <td>...</td>\n",
       "      <td>...</td>\n",
       "      <td>...</td>\n",
       "      <td>...</td>\n",
       "      <td>...</td>\n",
       "      <td>...</td>\n",
       "      <td>...</td>\n",
       "      <td>...</td>\n",
       "      <td>...</td>\n",
       "      <td>...</td>\n",
       "      <td>...</td>\n",
       "    </tr>\n",
       "    <tr>\n",
       "      <th>14728</th>\n",
       "      <td>2022/08/04 09:46</td>\n",
       "      <td>15325</td>\n",
       "      <td>82BC16F00</td>\n",
       "      <td>15325</td>\n",
       "      <td>82BC16F00</td>\n",
       "      <td>6144.63</td>\n",
       "      <td>Euro</td>\n",
       "      <td>7200.17</td>\n",
       "      <td>US Dollar</td>\n",
       "      <td>ACH</td>\n",
       "      <td>0</td>\n",
       "    </tr>\n",
       "    <tr>\n",
       "      <th>14934</th>\n",
       "      <td>2022/08/04 11:02</td>\n",
       "      <td>39447</td>\n",
       "      <td>81041D480</td>\n",
       "      <td>39447</td>\n",
       "      <td>81041D480</td>\n",
       "      <td>2603.50</td>\n",
       "      <td>US Dollar</td>\n",
       "      <td>17437.23</td>\n",
       "      <td>Yuan</td>\n",
       "      <td>ACH</td>\n",
       "      <td>0</td>\n",
       "    </tr>\n",
       "    <tr>\n",
       "      <th>14962</th>\n",
       "      <td>2022/08/04 11:12</td>\n",
       "      <td>115474</td>\n",
       "      <td>80BAF56E0</td>\n",
       "      <td>115474</td>\n",
       "      <td>80BAF56E0</td>\n",
       "      <td>342432.63</td>\n",
       "      <td>Brazil Real</td>\n",
       "      <td>60645.11</td>\n",
       "      <td>US Dollar</td>\n",
       "      <td>ACH</td>\n",
       "      <td>0</td>\n",
       "    </tr>\n",
       "    <tr>\n",
       "      <th>14987</th>\n",
       "      <td>2022/08/04 10:52</td>\n",
       "      <td>37262</td>\n",
       "      <td>8187DC350</td>\n",
       "      <td>37262</td>\n",
       "      <td>8187DC350</td>\n",
       "      <td>175.17</td>\n",
       "      <td>Euro</td>\n",
       "      <td>205.26</td>\n",
       "      <td>US Dollar</td>\n",
       "      <td>ACH</td>\n",
       "      <td>0</td>\n",
       "    </tr>\n",
       "    <tr>\n",
       "      <th>15278</th>\n",
       "      <td>2022/08/04 12:37</td>\n",
       "      <td>213895</td>\n",
       "      <td>808BD8F50</td>\n",
       "      <td>213895</td>\n",
       "      <td>808BD8F50</td>\n",
       "      <td>494.25</td>\n",
       "      <td>Australian Dollar</td>\n",
       "      <td>349.84</td>\n",
       "      <td>US Dollar</td>\n",
       "      <td>ACH</td>\n",
       "      <td>0</td>\n",
       "    </tr>\n",
       "  </tbody>\n",
       "</table>\n",
       "<p>100 rows × 11 columns</p>\n",
       "</div>"
      ],
      "text/plain": [
       "              timestamp  from_bank    account  to_bank  account_1  \\\n",
       "225    2022/08/01 01:23     118247  80D272AB0   118247  80D272AB0   \n",
       "254    2022/08/01 00:30     294136  82300BC40   294136  82300BC40   \n",
       "338    2022/08/01 01:33      24583  803067A10    24583  803067A10   \n",
       "428    2022/08/01 02:15      11520  806D96280    11520  806D96280   \n",
       "476    2022/08/01 02:16      16327  8029BB5B0    16327  8029BB5B0   \n",
       "...                 ...        ...        ...      ...        ...   \n",
       "14728  2022/08/04 09:46      15325  82BC16F00    15325  82BC16F00   \n",
       "14934  2022/08/04 11:02      39447  81041D480    39447  81041D480   \n",
       "14962  2022/08/04 11:12     115474  80BAF56E0   115474  80BAF56E0   \n",
       "14987  2022/08/04 10:52      37262  8187DC350    37262  8187DC350   \n",
       "15278  2022/08/04 12:37     213895  808BD8F50   213895  808BD8F50   \n",
       "\n",
       "       amount_received receiving_currency  amount_paid payment_currency  \\\n",
       "225             251.83          US Dollar      1686.64             Yuan   \n",
       "254         4504452.82  Australian Dollar   2468394.23         UK Pound   \n",
       "338            1929.27               Euro      2260.69        US Dollar   \n",
       "428           34456.50          US Dollar     29405.17             Euro   \n",
       "476             381.76    Canadian Dollar       289.37        US Dollar   \n",
       "...                ...                ...          ...              ...   \n",
       "14728          6144.63               Euro      7200.17        US Dollar   \n",
       "14934          2603.50          US Dollar     17437.23             Yuan   \n",
       "14962        342432.63        Brazil Real     60645.11        US Dollar   \n",
       "14987           175.17               Euro       205.26        US Dollar   \n",
       "15278           494.25  Australian Dollar       349.84        US Dollar   \n",
       "\n",
       "      payment_format  is_laundering  \n",
       "225              ACH              0  \n",
       "254              ACH              0  \n",
       "338              ACH              0  \n",
       "428              ACH              0  \n",
       "476              ACH              0  \n",
       "...              ...            ...  \n",
       "14728            ACH              0  \n",
       "14934            ACH              0  \n",
       "14962            ACH              0  \n",
       "14987            ACH              0  \n",
       "15278            ACH              0  \n",
       "\n",
       "[100 rows x 11 columns]"
      ]
     },
     "execution_count": 17,
     "metadata": {},
     "output_type": "execute_result"
    }
   ],
   "source": [
    "different_amounts = df[df['amount_received'] != df['amount_paid']]\n",
    "different_amounts.head(100)"
   ]
  },
  {
   "cell_type": "markdown",
   "id": "f6bcec90",
   "metadata": {},
   "source": [
    "As it turns out, the divergence in values between **[amount_received]** and **[amount_paid]** is attributed to the discrepancy in **[receiving_currency]** and **[payment_currency]**. Additionally, a majority of transactions utilize the **'ACH'** payment format."
   ]
  },
  {
   "cell_type": "code",
   "execution_count": 18,
   "id": "7b409ad5",
   "metadata": {},
   "outputs": [
    {
     "data": {
      "text/plain": [
       "False    451092\n",
       "dtype: int64"
      ]
     },
     "execution_count": 18,
     "metadata": {},
     "output_type": "execute_result"
    }
   ],
   "source": [
    "same_currency = (df['amount_received'] != df['amount_paid']) & (df['receiving_currency'] == df['payment_currency'])\n",
    "same_currency.value_counts()"
   ]
  },
  {
   "cell_type": "markdown",
   "id": "962482fe",
   "metadata": {},
   "source": [
    "We also found out that there are no transactions that have different **[amount_received]** and **[amount_paid]** while the **[receiving_currency]** and **[payment_currency]** is the same."
   ]
  },
  {
   "cell_type": "code",
   "execution_count": 19,
   "id": "21418565",
   "metadata": {
    "scrolled": true
   },
   "outputs": [
    {
     "data": {
      "text/plain": [
       "ACH             228268\n",
       "Cheque          105256\n",
       "Credit Card      72493\n",
       "Cash             27553\n",
       "Wire              8460\n",
       "Bitcoin           6742\n",
       "Reinvestment      2320\n",
       "Name: payment_format, dtype: int64"
      ]
     },
     "execution_count": 19,
     "metadata": {},
     "output_type": "execute_result"
    }
   ],
   "source": [
    "df['payment_format'].value_counts()"
   ]
  },
  {
   "cell_type": "code",
   "execution_count": 20,
   "id": "3cfc0490",
   "metadata": {},
   "outputs": [
    {
     "data": {
      "text/plain": [
       "ACH            199164\n",
       "Cheque          13260\n",
       "Credit Card      7846\n",
       "Cash             3663\n",
       "Bitcoin          1608\n",
       "Wire                5\n",
       "Name: payment_format, dtype: int64"
      ]
     },
     "execution_count": 20,
     "metadata": {},
     "output_type": "execute_result"
    }
   ],
   "source": [
    "df_laundering['payment_format'].value_counts()"
   ]
  },
  {
   "cell_type": "markdown",
   "id": "021c46e5",
   "metadata": {},
   "source": [
    "**Money laundering** tends to occur when utilizing the [payment_format] **ACH (Automated Clearing House)**: an electronic payment method enabling fund transfers between banks electronically, commonly used for routine payments such as monthly bill payments."
   ]
  },
  {
   "cell_type": "code",
   "execution_count": 21,
   "id": "a4d4547d",
   "metadata": {
    "scrolled": true
   },
   "outputs": [
    {
     "data": {
      "text/plain": [
       "US Dollar            173041\n",
       "Euro                 114091\n",
       "Yuan                  33700\n",
       "UK Pound              17718\n",
       "Ruble                 16110\n",
       "Shekel                14656\n",
       "Yen                   13401\n",
       "Australian Dollar     11751\n",
       "Canadian Dollar       11144\n",
       "Rupee                 10552\n",
       "Swiss Franc            8387\n",
       "Mexican Peso           8069\n",
       "Bitcoin                6740\n",
       "Brazil Real            6278\n",
       "Saudi Riyal            5454\n",
       "Name: payment_currency, dtype: int64"
      ]
     },
     "execution_count": 21,
     "metadata": {},
     "output_type": "execute_result"
    }
   ],
   "source": [
    "df['payment_currency'].value_counts()"
   ]
  },
  {
   "cell_type": "code",
   "execution_count": 22,
   "id": "3598dc46",
   "metadata": {},
   "outputs": [
    {
     "data": {
      "text/plain": [
       "US Dollar            90439\n",
       "Euro                 63086\n",
       "Yuan                 17468\n",
       "UK Pound             10221\n",
       "Ruble                 9089\n",
       "Yen                   7288\n",
       "Rupee                 5249\n",
       "Australian Dollar     5212\n",
       "Shekel                4615\n",
       "Canadian Dollar       3532\n",
       "Swiss Franc           2326\n",
       "Mexican Peso          2165\n",
       "Brazil Real           1806\n",
       "Bitcoin               1608\n",
       "Saudi Riyal           1442\n",
       "Name: payment_currency, dtype: int64"
      ]
     },
     "execution_count": 22,
     "metadata": {},
     "output_type": "execute_result"
    }
   ],
   "source": [
    "df_laundering['payment_currency'].value_counts()"
   ]
  },
  {
   "cell_type": "markdown",
   "id": "bbbe160c",
   "metadata": {},
   "source": [
    "**Money laundering** tends to occur when utilizing [payment_currency] **US Dollar**."
   ]
  },
  {
   "cell_type": "code",
   "execution_count": 23,
   "id": "39bfe734",
   "metadata": {
    "scrolled": true
   },
   "outputs": [
    {
     "data": {
      "text/plain": [
       "US Dollar            172387\n",
       "Euro                 114202\n",
       "Yuan                  33395\n",
       "UK Pound              17728\n",
       "Ruble                 16223\n",
       "Shekel                14799\n",
       "Yen                   13432\n",
       "Australian Dollar     11860\n",
       "Canadian Dollar       11211\n",
       "Rupee                 10581\n",
       "Swiss Franc            8482\n",
       "Mexican Peso           8144\n",
       "Bitcoin                6797\n",
       "Brazil Real            6343\n",
       "Saudi Riyal            5508\n",
       "Name: receiving_currency, dtype: int64"
      ]
     },
     "execution_count": 23,
     "metadata": {},
     "output_type": "execute_result"
    }
   ],
   "source": [
    "df['receiving_currency'].value_counts()"
   ]
  },
  {
   "cell_type": "code",
   "execution_count": 24,
   "id": "a26bcffb",
   "metadata": {},
   "outputs": [
    {
     "data": {
      "text/plain": [
       "US Dollar            90439\n",
       "Euro                 63086\n",
       "Yuan                 17468\n",
       "UK Pound             10221\n",
       "Ruble                 9089\n",
       "Yen                   7288\n",
       "Rupee                 5249\n",
       "Australian Dollar     5212\n",
       "Shekel                4615\n",
       "Canadian Dollar       3532\n",
       "Swiss Franc           2326\n",
       "Mexican Peso          2165\n",
       "Brazil Real           1806\n",
       "Bitcoin               1608\n",
       "Saudi Riyal           1442\n",
       "Name: receiving_currency, dtype: int64"
      ]
     },
     "execution_count": 24,
     "metadata": {},
     "output_type": "execute_result"
    }
   ],
   "source": [
    "df_laundering['receiving_currency'].value_counts()"
   ]
  },
  {
   "cell_type": "markdown",
   "id": "7015d822",
   "metadata": {},
   "source": [
    "The same trend is observed in [receiving_currency], where **Money laundering** tends to occur when using **US Dollar**."
   ]
  },
  {
   "cell_type": "markdown",
   "id": "cdd455b6",
   "metadata": {},
   "source": [
    "# **Splitting the Data (Train & Test)**"
   ]
  },
  {
   "cell_type": "code",
   "execution_count": 25,
   "id": "5fb49f3d",
   "metadata": {},
   "outputs": [],
   "source": [
    "input_df  = df.drop('is_laundering', axis = 1)\n",
    "output_df = df['is_laundering']"
   ]
  },
  {
   "cell_type": "code",
   "execution_count": 26,
   "id": "85f93855",
   "metadata": {},
   "outputs": [],
   "source": [
    "x_train, x_test, y_train, y_test = train_test_split(input_df, output_df, test_size = 0.2, random_state = 42)"
   ]
  },
  {
   "cell_type": "markdown",
   "id": "87ed4b49",
   "metadata": {},
   "source": [
    "# **Exploratory Data Analysis**"
   ]
  },
  {
   "cell_type": "markdown",
   "id": "8d4bb072",
   "metadata": {},
   "source": [
    "### Numerical Data "
   ]
  },
  {
   "cell_type": "markdown",
   "id": "d68d8967",
   "metadata": {},
   "source": [
    "One of the key features of a **boxplot** is its ability to **highlight outliers**. These are data points that lie significantly **outside the interquartile range (IQR)**. In the context of **financial transactions**, outliers in the **amount_received** and **amount_paid** columns could **represent unusually large transactions** that might warrant further investigation, especially in a domain like **anti-money laundering.**"
   ]
  },
  {
   "cell_type": "code",
   "execution_count": 27,
   "id": "80b5d7b2",
   "metadata": {},
   "outputs": [
    {
     "data": {
      "text/plain": [
       "<AxesSubplot:xlabel='amount_received'>"
      ]
     },
     "execution_count": 27,
     "metadata": {},
     "output_type": "execute_result"
    },
    {
     "data": {
      "image/png": "[encoded data removed]",
      "text/plain": [
       "<Figure size 640x480 with 1 Axes>"
      ]
     },
     "metadata": {},
     "output_type": "display_data"
    }
   ],
   "source": [
    "sns.boxplot(x= x_train['amount_received'])"
   ]
  },
  {
   "cell_type": "code",
   "execution_count": 28,
   "id": "3aae1a65",
   "metadata": {},
   "outputs": [],
   "source": [
    "q1 = x_train['amount_received'].quantile(0.25)\n",
    "q3 = x_train['amount_received'].quantile(0.75)\n",
    "iqr = q3 - q1\n",
    "lower_bound = q1 - 1.5 * iqr\n",
    "upper_bound = q3 + 1.5 * iqr\n",
    "outliers = (x_train['amount_received'] < lower_bound) | (x_train['amount_received'] > upper_bound)"
   ]
  },
  {
   "cell_type": "code",
   "execution_count": 29,
   "id": "6cfb86e1",
   "metadata": {},
   "outputs": [
    {
     "name": "stdout",
     "output_type": "stream",
     "text": [
      "Amount Received\n",
      "Number of outliers: 55922\n",
      "Percentage of outliers: 15.496310336323305%\n"
     ]
    }
   ],
   "source": [
    "num_outliers = outliers.sum()\n",
    "percentage_outliers = (num_outliers / len(x_train)) * 100\n",
    "print(\"Amount Received\")\n",
    "print(f\"Number of outliers: {num_outliers}\")\n",
    "print(f\"Percentage of outliers: {percentage_outliers}%\")"
   ]
  },
  {
   "cell_type": "code",
   "execution_count": 30,
   "id": "d93ecbbe",
   "metadata": {},
   "outputs": [
    {
     "data": {
      "text/plain": [
       "<AxesSubplot:xlabel='amount_paid'>"
      ]
     },
     "execution_count": 30,
     "metadata": {},
     "output_type": "execute_result"
    },
    {
     "data": {
      "image/png": "[encoded data removed]",
      "text/plain": [
       "<Figure size 640x480 with 1 Axes>"
      ]
     },
     "metadata": {},
     "output_type": "display_data"
    }
   ],
   "source": [
    "sns.boxplot(x=x_train['amount_paid'])"
   ]
  },
  {
   "cell_type": "code",
   "execution_count": 31,
   "id": "2806a2c1",
   "metadata": {},
   "outputs": [],
   "source": [
    "q1_paid = x_train['amount_paid'].quantile(0.25)\n",
    "q3_paid = x_train['amount_paid'].quantile(0.75)\n",
    "iqr_paid = q3_paid - q1_paid\n",
    "lower_bound_paid = q1_paid - 1.5 * iqr_paid\n",
    "upper_bound_paid = q3_paid + 1.5 * iqr_paid\n",
    "outliers_paid = (x_train['amount_paid'] < lower_bound_paid) | (x_train['amount_paid'] > upper_bound_paid)"
   ]
  },
  {
   "cell_type": "code",
   "execution_count": 32,
   "id": "4ed32229",
   "metadata": {},
   "outputs": [
    {
     "name": "stdout",
     "output_type": "stream",
     "text": [
      "Amount Paid\n",
      "Number of outliers: 55756\n",
      "Percentage of outliers: 15.450310774150463%\n"
     ]
    }
   ],
   "source": [
    "num_outliers_paid = outliers_paid.sum()\n",
    "percentage_outliers_paid = (num_outliers_paid / len(x_train)) * 100\n",
    "print(\"Amount Paid\")\n",
    "print(f\"Number of outliers: {num_outliers_paid}\")\n",
    "print(f\"Percentage of outliers: {percentage_outliers_paid}%\")"
   ]
  },
  {
   "cell_type": "code",
   "execution_count": 33,
   "id": "62658ae3",
   "metadata": {},
   "outputs": [
    {
     "data": {
      "image/png": "[encoded data removed]",
      "text/plain": [
       "<Figure size 1200x600 with 2 Axes>"
      ]
     },
     "metadata": {},
     "output_type": "display_data"
    }
   ],
   "source": [
    "plt.figure(figsize=(12, 6))\n",
    "\n",
    "plt.subplot(1, 2, 1)\n",
    "plt.hist(x_train['amount_received'], bins=50, color='blue', alpha=0.7, log=True)\n",
    "plt.title('Histogram of Amount Received')\n",
    "plt.xlabel('Amount Received')\n",
    "plt.ylabel('Frequency (log scale)')\n",
    "\n",
    "plt.subplot(1, 2, 2)\n",
    "plt.hist(x_train['amount_paid'], bins=50, color='green', alpha=0.7, log=True)\n",
    "plt.title('Histogram of Amount Paid')\n",
    "plt.xlabel('Amount Paid')\n",
    "plt.ylabel('Frequency (log scale)')\n",
    "\n",
    "plt.tight_layout()\n",
    "plt.show()"
   ]
  },
  {
   "cell_type": "code",
   "execution_count": 34,
   "id": "43ee48f9",
   "metadata": {},
   "outputs": [
    {
     "data": {
      "image/png": "[encoded data removed]",
      "text/plain": [
       "<Figure size 800x600 with 1 Axes>"
      ]
     },
     "metadata": {},
     "output_type": "display_data"
    }
   ],
   "source": [
    "plt.figure(figsize=(8, 6))\n",
    "plt.scatter(x_train['amount_received'], x_train['amount_paid'], alpha=0.5)\n",
    "plt.xscale('log')\n",
    "plt.yscale('log')\n",
    "plt.title('Scatter Plot of Amount Received vs Amount Paid')\n",
    "plt.xlabel('Amount Received (log scale)')\n",
    "plt.ylabel('Amount Paid (log scale)')\n",
    "plt.grid(True)\n",
    "plt.show()"
   ]
  },
  {
   "cell_type": "markdown",
   "id": "c0ab2084",
   "metadata": {},
   "source": [
    "### Categorical Data "
   ]
  },
  {
   "cell_type": "code",
   "execution_count": 35,
   "id": "4cbbe212",
   "metadata": {},
   "outputs": [
    {
     "data": {
      "image/png": "[encoded data removed]",
      "text/plain": [
       "<Figure size 1200x500 with 2 Axes>"
      ]
     },
     "metadata": {},
     "output_type": "display_data"
    },
    {
     "data": {
      "image/png": "[encoded data removed]",
      "text/plain": [
       "<Figure size 1200x500 with 2 Axes>"
      ]
     },
     "metadata": {},
     "output_type": "display_data"
    }
   ],
   "source": [
    "columns_to_plot = ['receiving_currency', 'payment_currency']\n",
    "palette = sns.color_palette(\"Set2\")\n",
    "\n",
    "for column in columns_to_plot:\n",
    "    fig, ax = plt.subplots(1, 2, figsize=(12, 5))\n",
    "    fig.suptitle(f'{column} Distribution', fontsize=20)\n",
    "\n",
    "    plt.subplot(1, 2, 1)\n",
    "    x_train[column].value_counts().plot(kind='bar', color=palette)\n",
    "    plt.title('Bar Plot')\n",
    "    plt.xlabel(column)\n",
    "    plt.ylabel('Counts')\n",
    "\n",
    "    plt.subplot(1, 2, 2)\n",
    "    x_train[column].value_counts().plot(kind='pie', autopct=\"%.2f%%\", colors=palette)\n",
    "    plt.title('Pie Chart')\n",
    "    plt.ylabel('')\n",
    "\n",
    "    plt.show()"
   ]
  },
  {
   "cell_type": "code",
   "execution_count": 36,
   "id": "f4e1c42a",
   "metadata": {
    "scrolled": false
   },
   "outputs": [
    {
     "data": {
      "image/png": "[encoded data removed]",
      "text/plain": [
       "<Figure size 1500x1000 with 4 Axes>"
      ]
     },
     "metadata": {},
     "output_type": "display_data"
    }
   ],
   "source": [
    "column = 'payment_format'\n",
    "palette = sns.color_palette(\"tab10\")\n",
    "\n",
    "fig, axs = plt.subplots(2, 2, figsize=(15, 10)) \n",
    "fig.suptitle(f'{column} Distribution', fontsize=20)\n",
    "\n",
    "axs[0, 0].bar(x_train[column].value_counts().index, x_train[column].value_counts().values, color=palette)\n",
    "axs[0, 0].set_title('Overall Distribution - Bar Plot')\n",
    "axs[0, 0].set_xlabel(column)\n",
    "axs[0, 0].set_ylabel('Counts')\n",
    "\n",
    "axs[0, 1].pie(x_train[column].value_counts(), labels=x_train[column].value_counts().index, autopct=\"%.2f%%\", colors=palette)\n",
    "axs[0, 1].set_title('Overall Distribution - Pie Chart')\n",
    "\n",
    "x_train_laundering_0 = x_train[y_train == 0]\n",
    "axs[1, 0].bar(x_train_laundering_0[column].value_counts().index, x_train_laundering_0[column].value_counts().values, color=palette)\n",
    "axs[1, 0].set_title(\"Distribution for 'is_laundering' = 0\")\n",
    "axs[1, 0].set_xlabel(column)\n",
    "axs[1, 0].set_ylabel('Counts')\n",
    "\n",
    "x_train_laundering_1 = x_train[y_train == 1]\n",
    "axs[1, 1].bar(x_train_laundering_1[column].value_counts().index, x_train_laundering_1[column].value_counts().values, color=palette)\n",
    "axs[1, 1].set_title(\"Distribution for 'is_laundering' = 1\")\n",
    "axs[1, 1].set_xlabel(column)\n",
    "axs[1, 1].set_ylabel('Counts')\n",
    "\n",
    "plt.tight_layout()\n",
    "plt.show()"
   ]
  },
  {
   "cell_type": "code",
   "execution_count": 37,
   "id": "9919e9e1",
   "metadata": {},
   "outputs": [
    {
     "data": {
      "image/png": "[encoded data removed]",
      "text/plain": [
       "<Figure size 1200x500 with 2 Axes>"
      ]
     },
     "metadata": {},
     "output_type": "display_data"
    }
   ],
   "source": [
    "fig, ax = plt.subplots(1, 2, figsize=(12, 5))\n",
    "fig.suptitle(f'{column}', fontsize=20) \n",
    "plt.style.use('seaborn')\n",
    "\n",
    "plt.subplot(1, 2, 1)\n",
    "y_train.value_counts().plot(kind='bar', color=sns.color_palette(\"tab10\"))\n",
    "plt.title('Bar Plot')\n",
    "plt.xlabel(column)\n",
    "plt.ylabel('Counts')\n",
    "\n",
    "plt.subplot(1, 2, 2)\n",
    "y_train.value_counts().plot(kind='pie', autopct=\"%.2f%%\", colors=sns.color_palette(\"tab10\"))\n",
    "plt.title('Pie Chart')\n",
    "plt.ylabel('')\n",
    "\n",
    "plt.show()"
   ]
  },
  {
   "cell_type": "code",
   "execution_count": 38,
   "id": "134e29ec",
   "metadata": {},
   "outputs": [
    {
     "data": {
      "image/png": "[encoded data removed]",
      "text/plain": [
       "<Figure size 1000x500 with 1 Axes>"
      ]
     },
     "metadata": {},
     "output_type": "display_data"
    }
   ],
   "source": [
    "x_train['timestamp'] = pd.to_datetime(x_train['timestamp'], format='%Y/%m/%d %H:%M')\n",
    "\n",
    "transactions_by_date = x_train['timestamp'].dt.date.value_counts().sort_index()\n",
    "\n",
    "plt.figure(figsize=(10, 5))\n",
    "transactions_by_date.plot(kind='line', color='red')\n",
    "plt.title('Transaction Counts Over Time')\n",
    "plt.xlabel('Date')\n",
    "plt.ylabel('Number of Transactions')\n",
    "plt.grid(True)\n",
    "plt.show()"
   ]
  },
  {
   "cell_type": "code",
   "execution_count": 39,
   "id": "5636cec9",
   "metadata": {},
   "outputs": [
    {
     "data": {
      "image/png": "[encoded data removed]",
      "text/plain": [
       "<Figure size 1000x500 with 1 Axes>"
      ]
     },
     "metadata": {},
     "output_type": "display_data"
    }
   ],
   "source": [
    "x_train['timestamp'] = pd.to_datetime(x_train['timestamp'], format='%Y/%m/%d %H:%M')\n",
    "\n",
    "start_date = '2022-09-01'\n",
    "end_date = '2022-11-01'\n",
    "filtered_date = x_train[(x_train['timestamp'] >= start_date) & (x_train['timestamp'] <= end_date)]\n",
    "\n",
    "transactions_by_date = filtered_date['timestamp'].dt.date.value_counts().sort_index()\n",
    "\n",
    "plt.figure(figsize=(10, 5))\n",
    "transactions_by_date.plot(kind='line', color='red')\n",
    "plt.title('Transaction Counts Over Time')\n",
    "plt.xlabel('Date')\n",
    "plt.ylabel('Number of Transactions')\n",
    "plt.grid(True)\n",
    "plt.show()"
   ]
  },
  {
   "cell_type": "markdown",
   "id": "0b0e6b7b",
   "metadata": {},
   "source": [
    "# **Feature Engineering**"
   ]
  },
  {
   "cell_type": "markdown",
   "id": "e8833b0a",
   "metadata": {},
   "source": [
    "## **Feature Extraction**"
   ]
  },
  {
   "cell_type": "code",
   "execution_count": 40,
   "id": "b4bcbea4",
   "metadata": {
    "scrolled": true
   },
   "outputs": [
    {
     "data": {
      "text/html": [
       "<div>\n",
       "<style scoped>\n",
       "    .dataframe tbody tr th:only-of-type {\n",
       "        vertical-align: middle;\n",
       "    }\n",
       "\n",
       "    .dataframe tbody tr th {\n",
       "        vertical-align: top;\n",
       "    }\n",
       "\n",
       "    .dataframe thead th {\n",
       "        text-align: right;\n",
       "    }\n",
       "</style>\n",
       "<table border=\"1\" class=\"dataframe\">\n",
       "  <thead>\n",
       "    <tr style=\"text-align: right;\">\n",
       "      <th></th>\n",
       "      <th>timestamp</th>\n",
       "      <th>from_bank</th>\n",
       "      <th>account</th>\n",
       "      <th>to_bank</th>\n",
       "      <th>account_1</th>\n",
       "      <th>amount_received</th>\n",
       "      <th>receiving_currency</th>\n",
       "      <th>amount_paid</th>\n",
       "      <th>payment_currency</th>\n",
       "      <th>payment_format</th>\n",
       "    </tr>\n",
       "  </thead>\n",
       "  <tbody>\n",
       "    <tr>\n",
       "      <th>55116</th>\n",
       "      <td>2022-08-13 15:51:00</td>\n",
       "      <td>112140</td>\n",
       "      <td>80D805990</td>\n",
       "      <td>227535</td>\n",
       "      <td>810EB00A0</td>\n",
       "      <td>761.09</td>\n",
       "      <td>US Dollar</td>\n",
       "      <td>761.09</td>\n",
       "      <td>US Dollar</td>\n",
       "      <td>Cheque</td>\n",
       "    </tr>\n",
       "    <tr>\n",
       "      <th>10084</th>\n",
       "      <td>2022-08-03 07:13:00</td>\n",
       "      <td>210789</td>\n",
       "      <td>808B20D10</td>\n",
       "      <td>140416</td>\n",
       "      <td>84EED9000</td>\n",
       "      <td>108.28</td>\n",
       "      <td>Euro</td>\n",
       "      <td>108.28</td>\n",
       "      <td>Euro</td>\n",
       "      <td>Credit Card</td>\n",
       "    </tr>\n",
       "    <tr>\n",
       "      <th>209295</th>\n",
       "      <td>2022-09-17 00:37:00</td>\n",
       "      <td>70</td>\n",
       "      <td>1004286A8</td>\n",
       "      <td>134945</td>\n",
       "      <td>837FB3960</td>\n",
       "      <td>51.46</td>\n",
       "      <td>Euro</td>\n",
       "      <td>51.46</td>\n",
       "      <td>Euro</td>\n",
       "      <td>Cheque</td>\n",
       "    </tr>\n",
       "    <tr>\n",
       "      <th>301866</th>\n",
       "      <td>2022-10-27 06:44:00</td>\n",
       "      <td>143079</td>\n",
       "      <td>8166DC0F0</td>\n",
       "      <td>58692</td>\n",
       "      <td>8157F4490</td>\n",
       "      <td>1391468.76</td>\n",
       "      <td>Yen</td>\n",
       "      <td>1391468.76</td>\n",
       "      <td>Yen</td>\n",
       "      <td>ACH</td>\n",
       "    </tr>\n",
       "    <tr>\n",
       "      <th>366094</th>\n",
       "      <td>2022-10-19 15:51:00</td>\n",
       "      <td>70</td>\n",
       "      <td>1004289C0</td>\n",
       "      <td>1187494</td>\n",
       "      <td>846DFFCE0</td>\n",
       "      <td>1968421.18</td>\n",
       "      <td>Shekel</td>\n",
       "      <td>1968421.18</td>\n",
       "      <td>Shekel</td>\n",
       "      <td>Cheque</td>\n",
       "    </tr>\n",
       "    <tr>\n",
       "      <th>374535</th>\n",
       "      <td>2022-10-21 09:39:00</td>\n",
       "      <td>261901</td>\n",
       "      <td>83CDFFD00</td>\n",
       "      <td>11853</td>\n",
       "      <td>84575AAF0</td>\n",
       "      <td>57.99</td>\n",
       "      <td>Euro</td>\n",
       "      <td>57.99</td>\n",
       "      <td>Euro</td>\n",
       "      <td>Cheque</td>\n",
       "    </tr>\n",
       "    <tr>\n",
       "      <th>173246</th>\n",
       "      <td>2022-09-18 12:07:00</td>\n",
       "      <td>118303</td>\n",
       "      <td>806E1B810</td>\n",
       "      <td>230636</td>\n",
       "      <td>80F5B1A20</td>\n",
       "      <td>15460.23</td>\n",
       "      <td>US Dollar</td>\n",
       "      <td>15460.23</td>\n",
       "      <td>US Dollar</td>\n",
       "      <td>ACH</td>\n",
       "    </tr>\n",
       "    <tr>\n",
       "      <th>404030</th>\n",
       "      <td>2022-10-27 15:32:00</td>\n",
       "      <td>231260</td>\n",
       "      <td>810B8E330</td>\n",
       "      <td>22112</td>\n",
       "      <td>81F4C1190</td>\n",
       "      <td>4665.41</td>\n",
       "      <td>Euro</td>\n",
       "      <td>4665.41</td>\n",
       "      <td>Euro</td>\n",
       "      <td>Cheque</td>\n",
       "    </tr>\n",
       "    <tr>\n",
       "      <th>54532</th>\n",
       "      <td>2022-08-13 11:16:00</td>\n",
       "      <td>250403</td>\n",
       "      <td>813022090</td>\n",
       "      <td>250403</td>\n",
       "      <td>8130C8C00</td>\n",
       "      <td>483216.42</td>\n",
       "      <td>Yen</td>\n",
       "      <td>483216.42</td>\n",
       "      <td>Yen</td>\n",
       "      <td>ACH</td>\n",
       "    </tr>\n",
       "    <tr>\n",
       "      <th>306772</th>\n",
       "      <td>2022-10-07 12:59:00</td>\n",
       "      <td>219767</td>\n",
       "      <td>8285459E0</td>\n",
       "      <td>31691</td>\n",
       "      <td>8307C3A60</td>\n",
       "      <td>152.07</td>\n",
       "      <td>Euro</td>\n",
       "      <td>152.07</td>\n",
       "      <td>Euro</td>\n",
       "      <td>Cheque</td>\n",
       "    </tr>\n",
       "  </tbody>\n",
       "</table>\n",
       "</div>"
      ],
      "text/plain": [
       "                 timestamp  from_bank    account  to_bank  account_1  \\\n",
       "55116  2022-08-13 15:51:00     112140  80D805990   227535  810EB00A0   \n",
       "10084  2022-08-03 07:13:00     210789  808B20D10   140416  84EED9000   \n",
       "209295 2022-09-17 00:37:00         70  1004286A8   134945  837FB3960   \n",
       "301866 2022-10-27 06:44:00     143079  8166DC0F0    58692  8157F4490   \n",
       "366094 2022-10-19 15:51:00         70  1004289C0  1187494  846DFFCE0   \n",
       "374535 2022-10-21 09:39:00     261901  83CDFFD00    11853  84575AAF0   \n",
       "173246 2022-09-18 12:07:00     118303  806E1B810   230636  80F5B1A20   \n",
       "404030 2022-10-27 15:32:00     231260  810B8E330    22112  81F4C1190   \n",
       "54532  2022-08-13 11:16:00     250403  813022090   250403  8130C8C00   \n",
       "306772 2022-10-07 12:59:00     219767  8285459E0    31691  8307C3A60   \n",
       "\n",
       "        amount_received receiving_currency  amount_paid payment_currency  \\\n",
       "55116            761.09          US Dollar       761.09        US Dollar   \n",
       "10084            108.28               Euro       108.28             Euro   \n",
       "209295            51.46               Euro        51.46             Euro   \n",
       "301866       1391468.76                Yen   1391468.76              Yen   \n",
       "366094       1968421.18             Shekel   1968421.18           Shekel   \n",
       "374535            57.99               Euro        57.99             Euro   \n",
       "173246         15460.23          US Dollar     15460.23        US Dollar   \n",
       "404030          4665.41               Euro      4665.41             Euro   \n",
       "54532         483216.42                Yen    483216.42              Yen   \n",
       "306772           152.07               Euro       152.07             Euro   \n",
       "\n",
       "       payment_format  \n",
       "55116          Cheque  \n",
       "10084     Credit Card  \n",
       "209295         Cheque  \n",
       "301866            ACH  \n",
       "366094         Cheque  \n",
       "374535         Cheque  \n",
       "173246            ACH  \n",
       "404030         Cheque  \n",
       "54532             ACH  \n",
       "306772         Cheque  "
      ]
     },
     "execution_count": 40,
     "metadata": {},
     "output_type": "execute_result"
    }
   ],
   "source": [
    "x_train.head(10)"
   ]
  },
  {
   "cell_type": "code",
   "execution_count": 41,
   "id": "e3240a1d",
   "metadata": {
    "scrolled": false
   },
   "outputs": [
    {
     "name": "stdout",
     "output_type": "stream",
     "text": [
      "<class 'pandas.core.frame.DataFrame'>\n",
      "Int64Index: 360873 entries, 55116 to 121958\n",
      "Data columns (total 10 columns):\n",
      " #   Column              Non-Null Count   Dtype         \n",
      "---  ------              --------------   -----         \n",
      " 0   timestamp           360873 non-null  datetime64[ns]\n",
      " 1   from_bank           360873 non-null  int64         \n",
      " 2   account             360873 non-null  object        \n",
      " 3   to_bank             360873 non-null  int64         \n",
      " 4   account_1           360873 non-null  object        \n",
      " 5   amount_received     360873 non-null  float64       \n",
      " 6   receiving_currency  360873 non-null  object        \n",
      " 7   amount_paid         360873 non-null  float64       \n",
      " 8   payment_currency    360873 non-null  object        \n",
      " 9   payment_format      360873 non-null  object        \n",
      "dtypes: datetime64[ns](1), float64(2), int64(2), object(5)\n",
      "memory usage: 30.3+ MB\n"
     ]
    }
   ],
   "source": [
    "x_train.info()"
   ]
  },
  {
   "cell_type": "code",
   "execution_count": 42,
   "id": "92ff8cad",
   "metadata": {},
   "outputs": [],
   "source": [
    "x_train['timestamp'] = pd.to_datetime(x_train['timestamp'])\n",
    "x_test['timestamp'] = pd.to_datetime(x_test['timestamp'])"
   ]
  },
  {
   "cell_type": "code",
   "execution_count": 43,
   "id": "b957f1ea",
   "metadata": {},
   "outputs": [
    {
     "name": "stdout",
     "output_type": "stream",
     "text": [
      "2022 2023\n"
     ]
    }
   ],
   "source": [
    "x_train['year'] = x_train['timestamp'].dt.year\n",
    "x_test['year'] = x_test['timestamp'].dt.year\n",
    "\n",
    "min_year = x_train['year'].min()\n",
    "max_year = x_train['year'].max()\n",
    "print(min_year, max_year)"
   ]
  },
  {
   "cell_type": "code",
   "execution_count": 44,
   "id": "1a6bc047",
   "metadata": {},
   "outputs": [
    {
     "data": {
      "text/plain": [
       "2022    360746\n",
       "2023       127\n",
       "Name: year, dtype: int64"
      ]
     },
     "execution_count": 44,
     "metadata": {},
     "output_type": "execute_result"
    }
   ],
   "source": [
    "x_train['year'].value_counts()"
   ]
  },
  {
   "cell_type": "code",
   "execution_count": 45,
   "id": "161e092d",
   "metadata": {
    "scrolled": true
   },
   "outputs": [
    {
     "data": {
      "text/html": [
       "<div>\n",
       "<style scoped>\n",
       "    .dataframe tbody tr th:only-of-type {\n",
       "        vertical-align: middle;\n",
       "    }\n",
       "\n",
       "    .dataframe tbody tr th {\n",
       "        vertical-align: top;\n",
       "    }\n",
       "\n",
       "    .dataframe thead th {\n",
       "        text-align: right;\n",
       "    }\n",
       "</style>\n",
       "<table border=\"1\" class=\"dataframe\">\n",
       "  <thead>\n",
       "    <tr style=\"text-align: right;\">\n",
       "      <th></th>\n",
       "      <th>timestamp</th>\n",
       "      <th>from_bank</th>\n",
       "      <th>account</th>\n",
       "      <th>to_bank</th>\n",
       "      <th>account_1</th>\n",
       "      <th>amount_received</th>\n",
       "      <th>receiving_currency</th>\n",
       "      <th>amount_paid</th>\n",
       "      <th>payment_currency</th>\n",
       "      <th>payment_format</th>\n",
       "      <th>year</th>\n",
       "    </tr>\n",
       "  </thead>\n",
       "  <tbody>\n",
       "    <tr>\n",
       "      <th>436497</th>\n",
       "      <td>2023-01-06 14:29:00</td>\n",
       "      <td>1818</td>\n",
       "      <td>801C96840</td>\n",
       "      <td>12893</td>\n",
       "      <td>8011A4560</td>\n",
       "      <td>10438.45</td>\n",
       "      <td>Euro</td>\n",
       "      <td>10438.45</td>\n",
       "      <td>Euro</td>\n",
       "      <td>ACH</td>\n",
       "      <td>2023</td>\n",
       "    </tr>\n",
       "    <tr>\n",
       "      <th>415411</th>\n",
       "      <td>2023-01-03 14:52:00</td>\n",
       "      <td>115079</td>\n",
       "      <td>808746AB0</td>\n",
       "      <td>6521</td>\n",
       "      <td>80270D690</td>\n",
       "      <td>7266.22</td>\n",
       "      <td>Euro</td>\n",
       "      <td>7266.22</td>\n",
       "      <td>Euro</td>\n",
       "      <td>ACH</td>\n",
       "      <td>2023</td>\n",
       "    </tr>\n",
       "    <tr>\n",
       "      <th>442413</th>\n",
       "      <td>2023-01-05 11:25:00</td>\n",
       "      <td>235055</td>\n",
       "      <td>81C8A7C90</td>\n",
       "      <td>237304</td>\n",
       "      <td>80E474200</td>\n",
       "      <td>50560.66</td>\n",
       "      <td>Yuan</td>\n",
       "      <td>50560.66</td>\n",
       "      <td>Yuan</td>\n",
       "      <td>ACH</td>\n",
       "      <td>2023</td>\n",
       "    </tr>\n",
       "    <tr>\n",
       "      <th>415184</th>\n",
       "      <td>2023-01-01 10:19:00</td>\n",
       "      <td>94379</td>\n",
       "      <td>824911650</td>\n",
       "      <td>196972</td>\n",
       "      <td>824B511E0</td>\n",
       "      <td>8660.54</td>\n",
       "      <td>UK Pound</td>\n",
       "      <td>8660.54</td>\n",
       "      <td>UK Pound</td>\n",
       "      <td>ACH</td>\n",
       "      <td>2023</td>\n",
       "    </tr>\n",
       "    <tr>\n",
       "      <th>431207</th>\n",
       "      <td>2023-01-08 20:02:00</td>\n",
       "      <td>11</td>\n",
       "      <td>8013AD3A0</td>\n",
       "      <td>19326</td>\n",
       "      <td>81841EDB0</td>\n",
       "      <td>4538.35</td>\n",
       "      <td>US Dollar</td>\n",
       "      <td>4538.35</td>\n",
       "      <td>US Dollar</td>\n",
       "      <td>ACH</td>\n",
       "      <td>2023</td>\n",
       "    </tr>\n",
       "  </tbody>\n",
       "</table>\n",
       "</div>"
      ],
      "text/plain": [
       "                 timestamp  from_bank    account  to_bank  account_1  \\\n",
       "436497 2023-01-06 14:29:00       1818  801C96840    12893  8011A4560   \n",
       "415411 2023-01-03 14:52:00     115079  808746AB0     6521  80270D690   \n",
       "442413 2023-01-05 11:25:00     235055  81C8A7C90   237304  80E474200   \n",
       "415184 2023-01-01 10:19:00      94379  824911650   196972  824B511E0   \n",
       "431207 2023-01-08 20:02:00         11  8013AD3A0    19326  81841EDB0   \n",
       "\n",
       "        amount_received receiving_currency  amount_paid payment_currency  \\\n",
       "436497         10438.45               Euro     10438.45             Euro   \n",
       "415411          7266.22               Euro      7266.22             Euro   \n",
       "442413         50560.66               Yuan     50560.66             Yuan   \n",
       "415184          8660.54           UK Pound      8660.54         UK Pound   \n",
       "431207          4538.35          US Dollar      4538.35        US Dollar   \n",
       "\n",
       "       payment_format  year  \n",
       "436497            ACH  2023  \n",
       "415411            ACH  2023  \n",
       "442413            ACH  2023  \n",
       "415184            ACH  2023  \n",
       "431207            ACH  2023  "
      ]
     },
     "execution_count": 45,
     "metadata": {},
     "output_type": "execute_result"
    }
   ],
   "source": [
    "x_train[x_train['year'] == 2023].head()"
   ]
  },
  {
   "cell_type": "code",
   "execution_count": 46,
   "id": "8b6d9346",
   "metadata": {},
   "outputs": [
    {
     "data": {
      "text/plain": [
       "2022    360746\n",
       "Name: year, dtype: int64"
      ]
     },
     "execution_count": 46,
     "metadata": {},
     "output_type": "execute_result"
    }
   ],
   "source": [
    "indices_to_drop_train = x_train[x_train['year'] == 2023].index\n",
    "indices_to_drop_test = x_test[x_test['year'] == 2023].index\n",
    "\n",
    "x_train = x_train[x_train['year'] != 2023]\n",
    "x_test = x_test[x_test['year'] != 2023]\n",
    "\n",
    "y_train = y_train.drop(indices_to_drop_train, axis=0)\n",
    "y_test = y_test.drop(indices_to_drop_test, axis=0)\n",
    "\n",
    "x_train['year'].value_counts()"
   ]
  },
  {
   "cell_type": "code",
   "execution_count": 47,
   "id": "1c522850",
   "metadata": {},
   "outputs": [
    {
     "name": "stdout",
     "output_type": "stream",
     "text": [
      "x_train: 360746\n",
      "y_train: 360746\n",
      "x_test: 90192\n",
      "y_test: 90192\n"
     ]
    }
   ],
   "source": [
    "print(\"x_train:\", len(x_train))\n",
    "print(\"y_train:\", len(y_train))\n",
    "print(\"x_test:\", len(x_test))\n",
    "print(\"y_test:\", len(y_test))"
   ]
  },
  {
   "cell_type": "code",
   "execution_count": 48,
   "id": "6cca999d",
   "metadata": {},
   "outputs": [
    {
     "name": "stdout",
     "output_type": "stream",
     "text": [
      "8 12\n"
     ]
    }
   ],
   "source": [
    "x_train['month'] = x_train['timestamp'].dt.month\n",
    "x_test['month'] = x_test['timestamp'].dt.month\n",
    "\n",
    "min_month = x_train['month'].min()\n",
    "max_month = x_train['month'].max()\n",
    "print(min_month, max_month)"
   ]
  },
  {
   "cell_type": "code",
   "execution_count": 49,
   "id": "e68667fe",
   "metadata": {},
   "outputs": [
    {
     "data": {
      "text/plain": [
       "10    120372\n",
       "9     110156\n",
       "8      90956\n",
       "11     36327\n",
       "12      2935\n",
       "Name: month, dtype: int64"
      ]
     },
     "execution_count": 49,
     "metadata": {},
     "output_type": "execute_result"
    }
   ],
   "source": [
    "x_train['month'].value_counts()"
   ]
  },
  {
   "cell_type": "code",
   "execution_count": 50,
   "id": "835739a1",
   "metadata": {
    "scrolled": true
   },
   "outputs": [
    {
     "data": {
      "text/html": [
       "<div>\n",
       "<style scoped>\n",
       "    .dataframe tbody tr th:only-of-type {\n",
       "        vertical-align: middle;\n",
       "    }\n",
       "\n",
       "    .dataframe tbody tr th {\n",
       "        vertical-align: top;\n",
       "    }\n",
       "\n",
       "    .dataframe thead th {\n",
       "        text-align: right;\n",
       "    }\n",
       "</style>\n",
       "<table border=\"1\" class=\"dataframe\">\n",
       "  <thead>\n",
       "    <tr style=\"text-align: right;\">\n",
       "      <th></th>\n",
       "      <th>timestamp</th>\n",
       "      <th>from_bank</th>\n",
       "      <th>account</th>\n",
       "      <th>to_bank</th>\n",
       "      <th>account_1</th>\n",
       "      <th>amount_received</th>\n",
       "      <th>receiving_currency</th>\n",
       "      <th>amount_paid</th>\n",
       "      <th>payment_currency</th>\n",
       "      <th>payment_format</th>\n",
       "      <th>year</th>\n",
       "      <th>month</th>\n",
       "    </tr>\n",
       "  </thead>\n",
       "  <tbody>\n",
       "    <tr>\n",
       "      <th>449714</th>\n",
       "      <td>2022-12-08 22:16:00</td>\n",
       "      <td>12068</td>\n",
       "      <td>81ADF3CB0</td>\n",
       "      <td>161795</td>\n",
       "      <td>8173C0E30</td>\n",
       "      <td>1.102900e+05</td>\n",
       "      <td>Rupee</td>\n",
       "      <td>1.102900e+05</td>\n",
       "      <td>Rupee</td>\n",
       "      <td>ACH</td>\n",
       "      <td>2022</td>\n",
       "      <td>12</td>\n",
       "    </tr>\n",
       "    <tr>\n",
       "      <th>437210</th>\n",
       "      <td>2022-12-03 16:33:00</td>\n",
       "      <td>76077</td>\n",
       "      <td>81BF2B6A0</td>\n",
       "      <td>37293</td>\n",
       "      <td>80E179220</td>\n",
       "      <td>2.449596e+08</td>\n",
       "      <td>US Dollar</td>\n",
       "      <td>2.449596e+08</td>\n",
       "      <td>US Dollar</td>\n",
       "      <td>ACH</td>\n",
       "      <td>2022</td>\n",
       "      <td>12</td>\n",
       "    </tr>\n",
       "    <tr>\n",
       "      <th>439399</th>\n",
       "      <td>2022-12-04 11:02:00</td>\n",
       "      <td>239559</td>\n",
       "      <td>812B611E0</td>\n",
       "      <td>243187</td>\n",
       "      <td>813F38340</td>\n",
       "      <td>6.933840e+03</td>\n",
       "      <td>US Dollar</td>\n",
       "      <td>6.933840e+03</td>\n",
       "      <td>US Dollar</td>\n",
       "      <td>ACH</td>\n",
       "      <td>2022</td>\n",
       "      <td>12</td>\n",
       "    </tr>\n",
       "    <tr>\n",
       "      <th>398781</th>\n",
       "      <td>2022-12-04 17:20:00</td>\n",
       "      <td>3503</td>\n",
       "      <td>8029F5B20</td>\n",
       "      <td>2776</td>\n",
       "      <td>800834870</td>\n",
       "      <td>6.167860e+03</td>\n",
       "      <td>US Dollar</td>\n",
       "      <td>6.167860e+03</td>\n",
       "      <td>US Dollar</td>\n",
       "      <td>ACH</td>\n",
       "      <td>2022</td>\n",
       "      <td>12</td>\n",
       "    </tr>\n",
       "    <tr>\n",
       "      <th>446564</th>\n",
       "      <td>2022-12-08 17:03:00</td>\n",
       "      <td>224028</td>\n",
       "      <td>80FA70520</td>\n",
       "      <td>289579</td>\n",
       "      <td>82889E740</td>\n",
       "      <td>1.043531e+04</td>\n",
       "      <td>Euro</td>\n",
       "      <td>1.043531e+04</td>\n",
       "      <td>Euro</td>\n",
       "      <td>ACH</td>\n",
       "      <td>2022</td>\n",
       "      <td>12</td>\n",
       "    </tr>\n",
       "  </tbody>\n",
       "</table>\n",
       "</div>"
      ],
      "text/plain": [
       "                 timestamp  from_bank    account  to_bank  account_1  \\\n",
       "449714 2022-12-08 22:16:00      12068  81ADF3CB0   161795  8173C0E30   \n",
       "437210 2022-12-03 16:33:00      76077  81BF2B6A0    37293  80E179220   \n",
       "439399 2022-12-04 11:02:00     239559  812B611E0   243187  813F38340   \n",
       "398781 2022-12-04 17:20:00       3503  8029F5B20     2776  800834870   \n",
       "446564 2022-12-08 17:03:00     224028  80FA70520   289579  82889E740   \n",
       "\n",
       "        amount_received receiving_currency   amount_paid payment_currency  \\\n",
       "449714     1.102900e+05              Rupee  1.102900e+05            Rupee   \n",
       "437210     2.449596e+08          US Dollar  2.449596e+08        US Dollar   \n",
       "439399     6.933840e+03          US Dollar  6.933840e+03        US Dollar   \n",
       "398781     6.167860e+03          US Dollar  6.167860e+03        US Dollar   \n",
       "446564     1.043531e+04               Euro  1.043531e+04             Euro   \n",
       "\n",
       "       payment_format  year  month  \n",
       "449714            ACH  2022     12  \n",
       "437210            ACH  2022     12  \n",
       "439399            ACH  2022     12  \n",
       "398781            ACH  2022     12  \n",
       "446564            ACH  2022     12  "
      ]
     },
     "execution_count": 50,
     "metadata": {},
     "output_type": "execute_result"
    }
   ],
   "source": [
    "x_train[x_train['month'] == 12].head()"
   ]
  },
  {
   "cell_type": "code",
   "execution_count": 51,
   "id": "2dc74313",
   "metadata": {},
   "outputs": [
    {
     "data": {
      "text/plain": [
       "10    120372\n",
       "9     110156\n",
       "8      90956\n",
       "11     36327\n",
       "Name: month, dtype: int64"
      ]
     },
     "execution_count": 51,
     "metadata": {},
     "output_type": "execute_result"
    }
   ],
   "source": [
    "indices_to_drop_train = x_train[x_train['month'] == 12].index\n",
    "indices_to_drop_test = x_test[x_test['month'] == 12].index\n",
    "\n",
    "x_train = x_train[x_train['month'] != 12]\n",
    "x_test = x_test[x_test['month'] != 12]\n",
    "\n",
    "y_train = y_train.drop(indices_to_drop_train, axis = 0)\n",
    "y_test = y_test.drop(indices_to_drop_test, axis = 0)\n",
    "\n",
    "x_train['month'].value_counts()"
   ]
  },
  {
   "cell_type": "code",
   "execution_count": 52,
   "id": "162587b2",
   "metadata": {},
   "outputs": [
    {
     "name": "stdout",
     "output_type": "stream",
     "text": [
      "x_train: 357811\n",
      "y_train: 357811\n",
      "x_test: 89419\n",
      "y_test: 89419\n"
     ]
    }
   ],
   "source": [
    "print(\"x_train:\", len(x_train))\n",
    "print(\"y_train:\", len(y_train))\n",
    "print(\"x_test:\", len(x_test))\n",
    "print(\"y_test:\", len(y_test))"
   ]
  },
  {
   "cell_type": "code",
   "execution_count": 53,
   "id": "536f6489",
   "metadata": {},
   "outputs": [
    {
     "name": "stdout",
     "output_type": "stream",
     "text": [
      "1 31\n"
     ]
    }
   ],
   "source": [
    "x_train['day'] = x_train['timestamp'].dt.day\n",
    "x_test['day'] = x_test['timestamp'].dt.day\n",
    "\n",
    "min_day = x_train['day'].min()\n",
    "max_day = x_train['day'].max()\n",
    "print(min_day, max_day)"
   ]
  },
  {
   "cell_type": "code",
   "execution_count": 54,
   "id": "2f554c8f",
   "metadata": {},
   "outputs": [
    {
     "name": "stdout",
     "output_type": "stream",
     "text": [
      "0 6\n"
     ]
    }
   ],
   "source": [
    "x_train['day_of_week'] = x_train['timestamp'].dt.dayofweek \n",
    "x_test['day_of_week'] = x_test['timestamp'].dt.dayofweek \n",
    "\n",
    "min_day_of_week = x_train['day_of_week'].min()\n",
    "max_day_of_week = x_train['day_of_week'].max()\n",
    "print(min_day_of_week, max_day_of_week)"
   ]
  },
  {
   "cell_type": "code",
   "execution_count": 55,
   "id": "fa5d622a",
   "metadata": {},
   "outputs": [
    {
     "data": {
      "text/plain": [
       "16360"
      ]
     },
     "execution_count": 55,
     "metadata": {},
     "output_type": "execute_result"
    }
   ],
   "source": [
    "x_train[(x_train['month'] == 11) & (x_train['day'] > 5)].shape[0]"
   ]
  },
  {
   "cell_type": "code",
   "execution_count": 56,
   "id": "b9721a2e",
   "metadata": {},
   "outputs": [
    {
     "name": "stdout",
     "output_type": "stream",
     "text": [
      "0 23\n"
     ]
    }
   ],
   "source": [
    "x_train['hour'] = x_train['timestamp'].dt.hour\n",
    "x_test['hour'] = x_test['timestamp'].dt.hour\n",
    "\n",
    "min_hour = x_train['hour'].min()\n",
    "max_hour = x_train['hour'].max()\n",
    "print(min_hour, max_hour)"
   ]
  },
  {
   "cell_type": "code",
   "execution_count": 57,
   "id": "19a65263",
   "metadata": {},
   "outputs": [
    {
     "name": "stdout",
     "output_type": "stream",
     "text": [
      "0 59\n"
     ]
    }
   ],
   "source": [
    "x_train['minute'] = x_train['timestamp'].dt.minute\n",
    "x_test['minute'] = x_test['timestamp'].dt.minute\n",
    "\n",
    "min_minute = x_train['minute'].min()\n",
    "max_minute = x_train['minute'].max()\n",
    "print(min_minute, max_minute)"
   ]
  },
  {
   "cell_type": "code",
   "execution_count": 58,
   "id": "591a66ec",
   "metadata": {},
   "outputs": [],
   "source": [
    "x_train = x_train.drop(columns = ['year'])\n",
    "x_test = x_test.drop(columns = ['year'])\n",
    "\n",
    "x_train = x_train.drop(columns = ['timestamp'])\n",
    "x_test = x_test.drop(columns = ['timestamp'])"
   ]
  },
  {
   "cell_type": "code",
   "execution_count": 59,
   "id": "8b1c8d00",
   "metadata": {
    "scrolled": true
   },
   "outputs": [
    {
     "data": {
      "text/html": [
       "<div>\n",
       "<style scoped>\n",
       "    .dataframe tbody tr th:only-of-type {\n",
       "        vertical-align: middle;\n",
       "    }\n",
       "\n",
       "    .dataframe tbody tr th {\n",
       "        vertical-align: top;\n",
       "    }\n",
       "\n",
       "    .dataframe thead th {\n",
       "        text-align: right;\n",
       "    }\n",
       "</style>\n",
       "<table border=\"1\" class=\"dataframe\">\n",
       "  <thead>\n",
       "    <tr style=\"text-align: right;\">\n",
       "      <th></th>\n",
       "      <th>from_bank</th>\n",
       "      <th>account</th>\n",
       "      <th>to_bank</th>\n",
       "      <th>account_1</th>\n",
       "      <th>amount_received</th>\n",
       "      <th>receiving_currency</th>\n",
       "      <th>amount_paid</th>\n",
       "      <th>payment_currency</th>\n",
       "      <th>payment_format</th>\n",
       "      <th>month</th>\n",
       "      <th>day</th>\n",
       "      <th>day_of_week</th>\n",
       "      <th>hour</th>\n",
       "      <th>minute</th>\n",
       "    </tr>\n",
       "  </thead>\n",
       "  <tbody>\n",
       "    <tr>\n",
       "      <th>55116</th>\n",
       "      <td>112140</td>\n",
       "      <td>80D805990</td>\n",
       "      <td>227535</td>\n",
       "      <td>810EB00A0</td>\n",
       "      <td>761.09</td>\n",
       "      <td>US Dollar</td>\n",
       "      <td>761.09</td>\n",
       "      <td>US Dollar</td>\n",
       "      <td>Cheque</td>\n",
       "      <td>8</td>\n",
       "      <td>13</td>\n",
       "      <td>5</td>\n",
       "      <td>15</td>\n",
       "      <td>51</td>\n",
       "    </tr>\n",
       "    <tr>\n",
       "      <th>10084</th>\n",
       "      <td>210789</td>\n",
       "      <td>808B20D10</td>\n",
       "      <td>140416</td>\n",
       "      <td>84EED9000</td>\n",
       "      <td>108.28</td>\n",
       "      <td>Euro</td>\n",
       "      <td>108.28</td>\n",
       "      <td>Euro</td>\n",
       "      <td>Credit Card</td>\n",
       "      <td>8</td>\n",
       "      <td>3</td>\n",
       "      <td>2</td>\n",
       "      <td>7</td>\n",
       "      <td>13</td>\n",
       "    </tr>\n",
       "    <tr>\n",
       "      <th>209295</th>\n",
       "      <td>70</td>\n",
       "      <td>1004286A8</td>\n",
       "      <td>134945</td>\n",
       "      <td>837FB3960</td>\n",
       "      <td>51.46</td>\n",
       "      <td>Euro</td>\n",
       "      <td>51.46</td>\n",
       "      <td>Euro</td>\n",
       "      <td>Cheque</td>\n",
       "      <td>9</td>\n",
       "      <td>17</td>\n",
       "      <td>5</td>\n",
       "      <td>0</td>\n",
       "      <td>37</td>\n",
       "    </tr>\n",
       "    <tr>\n",
       "      <th>301866</th>\n",
       "      <td>143079</td>\n",
       "      <td>8166DC0F0</td>\n",
       "      <td>58692</td>\n",
       "      <td>8157F4490</td>\n",
       "      <td>1391468.76</td>\n",
       "      <td>Yen</td>\n",
       "      <td>1391468.76</td>\n",
       "      <td>Yen</td>\n",
       "      <td>ACH</td>\n",
       "      <td>10</td>\n",
       "      <td>27</td>\n",
       "      <td>3</td>\n",
       "      <td>6</td>\n",
       "      <td>44</td>\n",
       "    </tr>\n",
       "    <tr>\n",
       "      <th>366094</th>\n",
       "      <td>70</td>\n",
       "      <td>1004289C0</td>\n",
       "      <td>1187494</td>\n",
       "      <td>846DFFCE0</td>\n",
       "      <td>1968421.18</td>\n",
       "      <td>Shekel</td>\n",
       "      <td>1968421.18</td>\n",
       "      <td>Shekel</td>\n",
       "      <td>Cheque</td>\n",
       "      <td>10</td>\n",
       "      <td>19</td>\n",
       "      <td>2</td>\n",
       "      <td>15</td>\n",
       "      <td>51</td>\n",
       "    </tr>\n",
       "    <tr>\n",
       "      <th>374535</th>\n",
       "      <td>261901</td>\n",
       "      <td>83CDFFD00</td>\n",
       "      <td>11853</td>\n",
       "      <td>84575AAF0</td>\n",
       "      <td>57.99</td>\n",
       "      <td>Euro</td>\n",
       "      <td>57.99</td>\n",
       "      <td>Euro</td>\n",
       "      <td>Cheque</td>\n",
       "      <td>10</td>\n",
       "      <td>21</td>\n",
       "      <td>4</td>\n",
       "      <td>9</td>\n",
       "      <td>39</td>\n",
       "    </tr>\n",
       "    <tr>\n",
       "      <th>173246</th>\n",
       "      <td>118303</td>\n",
       "      <td>806E1B810</td>\n",
       "      <td>230636</td>\n",
       "      <td>80F5B1A20</td>\n",
       "      <td>15460.23</td>\n",
       "      <td>US Dollar</td>\n",
       "      <td>15460.23</td>\n",
       "      <td>US Dollar</td>\n",
       "      <td>ACH</td>\n",
       "      <td>9</td>\n",
       "      <td>18</td>\n",
       "      <td>6</td>\n",
       "      <td>12</td>\n",
       "      <td>7</td>\n",
       "    </tr>\n",
       "    <tr>\n",
       "      <th>404030</th>\n",
       "      <td>231260</td>\n",
       "      <td>810B8E330</td>\n",
       "      <td>22112</td>\n",
       "      <td>81F4C1190</td>\n",
       "      <td>4665.41</td>\n",
       "      <td>Euro</td>\n",
       "      <td>4665.41</td>\n",
       "      <td>Euro</td>\n",
       "      <td>Cheque</td>\n",
       "      <td>10</td>\n",
       "      <td>27</td>\n",
       "      <td>3</td>\n",
       "      <td>15</td>\n",
       "      <td>32</td>\n",
       "    </tr>\n",
       "    <tr>\n",
       "      <th>54532</th>\n",
       "      <td>250403</td>\n",
       "      <td>813022090</td>\n",
       "      <td>250403</td>\n",
       "      <td>8130C8C00</td>\n",
       "      <td>483216.42</td>\n",
       "      <td>Yen</td>\n",
       "      <td>483216.42</td>\n",
       "      <td>Yen</td>\n",
       "      <td>ACH</td>\n",
       "      <td>8</td>\n",
       "      <td>13</td>\n",
       "      <td>5</td>\n",
       "      <td>11</td>\n",
       "      <td>16</td>\n",
       "    </tr>\n",
       "    <tr>\n",
       "      <th>306772</th>\n",
       "      <td>219767</td>\n",
       "      <td>8285459E0</td>\n",
       "      <td>31691</td>\n",
       "      <td>8307C3A60</td>\n",
       "      <td>152.07</td>\n",
       "      <td>Euro</td>\n",
       "      <td>152.07</td>\n",
       "      <td>Euro</td>\n",
       "      <td>Cheque</td>\n",
       "      <td>10</td>\n",
       "      <td>7</td>\n",
       "      <td>4</td>\n",
       "      <td>12</td>\n",
       "      <td>59</td>\n",
       "    </tr>\n",
       "  </tbody>\n",
       "</table>\n",
       "</div>"
      ],
      "text/plain": [
       "        from_bank    account  to_bank  account_1  amount_received  \\\n",
       "55116      112140  80D805990   227535  810EB00A0           761.09   \n",
       "10084      210789  808B20D10   140416  84EED9000           108.28   \n",
       "209295         70  1004286A8   134945  837FB3960            51.46   \n",
       "301866     143079  8166DC0F0    58692  8157F4490       1391468.76   \n",
       "366094         70  1004289C0  1187494  846DFFCE0       1968421.18   \n",
       "374535     261901  83CDFFD00    11853  84575AAF0            57.99   \n",
       "173246     118303  806E1B810   230636  80F5B1A20         15460.23   \n",
       "404030     231260  810B8E330    22112  81F4C1190          4665.41   \n",
       "54532      250403  813022090   250403  8130C8C00        483216.42   \n",
       "306772     219767  8285459E0    31691  8307C3A60           152.07   \n",
       "\n",
       "       receiving_currency  amount_paid payment_currency payment_format  month  \\\n",
       "55116           US Dollar       761.09        US Dollar         Cheque      8   \n",
       "10084                Euro       108.28             Euro    Credit Card      8   \n",
       "209295               Euro        51.46             Euro         Cheque      9   \n",
       "301866                Yen   1391468.76              Yen            ACH     10   \n",
       "366094             Shekel   1968421.18           Shekel         Cheque     10   \n",
       "374535               Euro        57.99             Euro         Cheque     10   \n",
       "173246          US Dollar     15460.23        US Dollar            ACH      9   \n",
       "404030               Euro      4665.41             Euro         Cheque     10   \n",
       "54532                 Yen    483216.42              Yen            ACH      8   \n",
       "306772               Euro       152.07             Euro         Cheque     10   \n",
       "\n",
       "        day  day_of_week  hour  minute  \n",
       "55116    13            5    15      51  \n",
       "10084     3            2     7      13  \n",
       "209295   17            5     0      37  \n",
       "301866   27            3     6      44  \n",
       "366094   19            2    15      51  \n",
       "374535   21            4     9      39  \n",
       "173246   18            6    12       7  \n",
       "404030   27            3    15      32  \n",
       "54532    13            5    11      16  \n",
       "306772    7            4    12      59  "
      ]
     },
     "execution_count": 59,
     "metadata": {},
     "output_type": "execute_result"
    }
   ],
   "source": [
    "x_train.head(10)"
   ]
  },
  {
   "cell_type": "markdown",
   "id": "d0eee857",
   "metadata": {},
   "source": [
    "## **Feature Encoding**"
   ]
  },
  {
   "cell_type": "markdown",
   "id": "0d5bee83",
   "metadata": {},
   "source": [
    "### **One-Hot Encoding**"
   ]
  },
  {
   "cell_type": "code",
   "execution_count": 60,
   "id": "8c9209c5",
   "metadata": {},
   "outputs": [],
   "source": [
    "main_currencies = ['US Dollar', 'Euro', 'Yuan', 'UK Pound']\n",
    "others_category = 'Others'\n",
    "\n",
    "x_train['receiving_currency'] = x_train['receiving_currency'].apply(lambda x: x if x in main_currencies else others_category)\n",
    "x_train['payment_currency'] = x_train['payment_currency'].apply(lambda x: x if x in main_currencies else others_category)\n",
    "\n",
    "x_test['receiving_currency'] = x_test['receiving_currency'].apply(lambda x: x if x in main_currencies else others_category)\n",
    "x_test['payment_currency'] = x_test['payment_currency'].apply(lambda x: x if x in main_currencies else others_category)\n",
    "\n",
    "x_train = pd.get_dummies(x_train, columns=['receiving_currency', 'payment_currency'])\n",
    "\n",
    "x_test = pd.get_dummies(x_test, columns=['receiving_currency', 'payment_currency'])\n",
    "x_test = x_test.reindex(columns=x_train.columns, fill_value=0)"
   ]
  },
  {
   "cell_type": "code",
   "execution_count": 61,
   "id": "ea0817da",
   "metadata": {},
   "outputs": [
    {
     "name": "stdout",
     "output_type": "stream",
     "text": [
      "<class 'pandas.core.frame.DataFrame'>\n",
      "Int64Index: 89419 entries, 140606 to 152926\n",
      "Data columns (total 22 columns):\n",
      " #   Column                        Non-Null Count  Dtype  \n",
      "---  ------                        --------------  -----  \n",
      " 0   from_bank                     89419 non-null  int64  \n",
      " 1   account                       89419 non-null  object \n",
      " 2   to_bank                       89419 non-null  int64  \n",
      " 3   account_1                     89419 non-null  object \n",
      " 4   amount_received               89419 non-null  float64\n",
      " 5   amount_paid                   89419 non-null  float64\n",
      " 6   payment_format                89419 non-null  object \n",
      " 7   month                         89419 non-null  int64  \n",
      " 8   day                           89419 non-null  int64  \n",
      " 9   day_of_week                   89419 non-null  int64  \n",
      " 10  hour                          89419 non-null  int64  \n",
      " 11  minute                        89419 non-null  int64  \n",
      " 12  receiving_currency_Euro       89419 non-null  uint8  \n",
      " 13  receiving_currency_Others     89419 non-null  uint8  \n",
      " 14  receiving_currency_UK Pound   89419 non-null  uint8  \n",
      " 15  receiving_currency_US Dollar  89419 non-null  uint8  \n",
      " 16  receiving_currency_Yuan       89419 non-null  uint8  \n",
      " 17  payment_currency_Euro         89419 non-null  uint8  \n",
      " 18  payment_currency_Others       89419 non-null  uint8  \n",
      " 19  payment_currency_UK Pound     89419 non-null  uint8  \n",
      " 20  payment_currency_US Dollar    89419 non-null  uint8  \n",
      " 21  payment_currency_Yuan         89419 non-null  uint8  \n",
      "dtypes: float64(2), int64(7), object(3), uint8(10)\n",
      "memory usage: 9.7+ MB\n"
     ]
    }
   ],
   "source": [
    "x_test.info()"
   ]
  },
  {
   "cell_type": "code",
   "execution_count": 62,
   "id": "1989126c",
   "metadata": {},
   "outputs": [
    {
     "data": {
      "text/html": [
       "<div>\n",
       "<style scoped>\n",
       "    .dataframe tbody tr th:only-of-type {\n",
       "        vertical-align: middle;\n",
       "    }\n",
       "\n",
       "    .dataframe tbody tr th {\n",
       "        vertical-align: top;\n",
       "    }\n",
       "\n",
       "    .dataframe thead th {\n",
       "        text-align: right;\n",
       "    }\n",
       "</style>\n",
       "<table border=\"1\" class=\"dataframe\">\n",
       "  <thead>\n",
       "    <tr style=\"text-align: right;\">\n",
       "      <th></th>\n",
       "      <th>from_bank</th>\n",
       "      <th>account</th>\n",
       "      <th>to_bank</th>\n",
       "      <th>account_1</th>\n",
       "      <th>amount_received</th>\n",
       "      <th>amount_paid</th>\n",
       "      <th>payment_format</th>\n",
       "      <th>month</th>\n",
       "      <th>day</th>\n",
       "      <th>day_of_week</th>\n",
       "      <th>...</th>\n",
       "      <th>receiving_currency_Euro</th>\n",
       "      <th>receiving_currency_Others</th>\n",
       "      <th>receiving_currency_UK Pound</th>\n",
       "      <th>receiving_currency_US Dollar</th>\n",
       "      <th>receiving_currency_Yuan</th>\n",
       "      <th>payment_currency_Euro</th>\n",
       "      <th>payment_currency_Others</th>\n",
       "      <th>payment_currency_UK Pound</th>\n",
       "      <th>payment_currency_US Dollar</th>\n",
       "      <th>payment_currency_Yuan</th>\n",
       "    </tr>\n",
       "  </thead>\n",
       "  <tbody>\n",
       "    <tr>\n",
       "      <th>55116</th>\n",
       "      <td>112140</td>\n",
       "      <td>80D805990</td>\n",
       "      <td>227535</td>\n",
       "      <td>810EB00A0</td>\n",
       "      <td>761.09</td>\n",
       "      <td>761.09</td>\n",
       "      <td>Cheque</td>\n",
       "      <td>8</td>\n",
       "      <td>13</td>\n",
       "      <td>5</td>\n",
       "      <td>...</td>\n",
       "      <td>0</td>\n",
       "      <td>0</td>\n",
       "      <td>0</td>\n",
       "      <td>1</td>\n",
       "      <td>0</td>\n",
       "      <td>0</td>\n",
       "      <td>0</td>\n",
       "      <td>0</td>\n",
       "      <td>1</td>\n",
       "      <td>0</td>\n",
       "    </tr>\n",
       "    <tr>\n",
       "      <th>10084</th>\n",
       "      <td>210789</td>\n",
       "      <td>808B20D10</td>\n",
       "      <td>140416</td>\n",
       "      <td>84EED9000</td>\n",
       "      <td>108.28</td>\n",
       "      <td>108.28</td>\n",
       "      <td>Credit Card</td>\n",
       "      <td>8</td>\n",
       "      <td>3</td>\n",
       "      <td>2</td>\n",
       "      <td>...</td>\n",
       "      <td>1</td>\n",
       "      <td>0</td>\n",
       "      <td>0</td>\n",
       "      <td>0</td>\n",
       "      <td>0</td>\n",
       "      <td>1</td>\n",
       "      <td>0</td>\n",
       "      <td>0</td>\n",
       "      <td>0</td>\n",
       "      <td>0</td>\n",
       "    </tr>\n",
       "    <tr>\n",
       "      <th>209295</th>\n",
       "      <td>70</td>\n",
       "      <td>1004286A8</td>\n",
       "      <td>134945</td>\n",
       "      <td>837FB3960</td>\n",
       "      <td>51.46</td>\n",
       "      <td>51.46</td>\n",
       "      <td>Cheque</td>\n",
       "      <td>9</td>\n",
       "      <td>17</td>\n",
       "      <td>5</td>\n",
       "      <td>...</td>\n",
       "      <td>1</td>\n",
       "      <td>0</td>\n",
       "      <td>0</td>\n",
       "      <td>0</td>\n",
       "      <td>0</td>\n",
       "      <td>1</td>\n",
       "      <td>0</td>\n",
       "      <td>0</td>\n",
       "      <td>0</td>\n",
       "      <td>0</td>\n",
       "    </tr>\n",
       "  </tbody>\n",
       "</table>\n",
       "<p>3 rows × 22 columns</p>\n",
       "</div>"
      ],
      "text/plain": [
       "        from_bank    account  to_bank  account_1  amount_received  \\\n",
       "55116      112140  80D805990   227535  810EB00A0           761.09   \n",
       "10084      210789  808B20D10   140416  84EED9000           108.28   \n",
       "209295         70  1004286A8   134945  837FB3960            51.46   \n",
       "\n",
       "        amount_paid payment_format  month  day  day_of_week  ...  \\\n",
       "55116        761.09         Cheque      8   13            5  ...   \n",
       "10084        108.28    Credit Card      8    3            2  ...   \n",
       "209295        51.46         Cheque      9   17            5  ...   \n",
       "\n",
       "        receiving_currency_Euro  receiving_currency_Others  \\\n",
       "55116                         0                          0   \n",
       "10084                         1                          0   \n",
       "209295                        1                          0   \n",
       "\n",
       "        receiving_currency_UK Pound  receiving_currency_US Dollar  \\\n",
       "55116                             0                             1   \n",
       "10084                             0                             0   \n",
       "209295                            0                             0   \n",
       "\n",
       "        receiving_currency_Yuan  payment_currency_Euro  \\\n",
       "55116                         0                      0   \n",
       "10084                         0                      1   \n",
       "209295                        0                      1   \n",
       "\n",
       "        payment_currency_Others  payment_currency_UK Pound  \\\n",
       "55116                         0                          0   \n",
       "10084                         0                          0   \n",
       "209295                        0                          0   \n",
       "\n",
       "        payment_currency_US Dollar  payment_currency_Yuan  \n",
       "55116                            1                      0  \n",
       "10084                            0                      0  \n",
       "209295                           0                      0  \n",
       "\n",
       "[3 rows x 22 columns]"
      ]
     },
     "execution_count": 62,
     "metadata": {},
     "output_type": "execute_result"
    }
   ],
   "source": [
    "x_train.head(3)"
   ]
  },
  {
   "cell_type": "code",
   "execution_count": 63,
   "id": "5c1c0da7",
   "metadata": {},
   "outputs": [
    {
     "name": "stdout",
     "output_type": "stream",
     "text": [
      "<class 'pandas.core.frame.DataFrame'>\n",
      "Int64Index: 357811 entries, 55116 to 121958\n",
      "Data columns (total 22 columns):\n",
      " #   Column                        Non-Null Count   Dtype  \n",
      "---  ------                        --------------   -----  \n",
      " 0   from_bank                     357811 non-null  int64  \n",
      " 1   account                       357811 non-null  object \n",
      " 2   to_bank                       357811 non-null  int64  \n",
      " 3   account_1                     357811 non-null  object \n",
      " 4   amount_received               357811 non-null  float64\n",
      " 5   amount_paid                   357811 non-null  float64\n",
      " 6   payment_format                357811 non-null  object \n",
      " 7   month                         357811 non-null  int64  \n",
      " 8   day                           357811 non-null  int64  \n",
      " 9   day_of_week                   357811 non-null  int64  \n",
      " 10  hour                          357811 non-null  int64  \n",
      " 11  minute                        357811 non-null  int64  \n",
      " 12  receiving_currency_Euro       357811 non-null  uint8  \n",
      " 13  receiving_currency_Others     357811 non-null  uint8  \n",
      " 14  receiving_currency_UK Pound   357811 non-null  uint8  \n",
      " 15  receiving_currency_US Dollar  357811 non-null  uint8  \n",
      " 16  receiving_currency_Yuan       357811 non-null  uint8  \n",
      " 17  payment_currency_Euro         357811 non-null  uint8  \n",
      " 18  payment_currency_Others       357811 non-null  uint8  \n",
      " 19  payment_currency_UK Pound     357811 non-null  uint8  \n",
      " 20  payment_currency_US Dollar    357811 non-null  uint8  \n",
      " 21  payment_currency_Yuan         357811 non-null  uint8  \n",
      "dtypes: float64(2), int64(7), object(3), uint8(10)\n",
      "memory usage: 38.9+ MB\n"
     ]
    }
   ],
   "source": [
    "x_train.info()"
   ]
  },
  {
   "cell_type": "code",
   "execution_count": 64,
   "id": "5cf242fb",
   "metadata": {},
   "outputs": [],
   "source": [
    "main_payment_formats = ['ACH', 'Cheque', 'Credit Card', 'Cash']\n",
    "others_payment_format = 'Others'\n",
    "\n",
    "x_train['payment_format'] = x_train['payment_format'].apply(lambda x: x if x in main_payment_formats else others_payment_format)\n",
    "x_test['payment_format'] = x_test['payment_format'].apply(lambda x: x if x in main_payment_formats else others_payment_format)\n",
    "\n",
    "x_train = pd.get_dummies(x_train, columns=['payment_format'])\n",
    "\n",
    "x_test = pd.get_dummies(x_test, columns=['payment_format'])\n",
    "x_test = x_test.reindex(columns=x_train.columns, fill_value=0)"
   ]
  },
  {
   "cell_type": "code",
   "execution_count": 65,
   "id": "4f68ef79",
   "metadata": {},
   "outputs": [
    {
     "data": {
      "text/html": [
       "<div>\n",
       "<style scoped>\n",
       "    .dataframe tbody tr th:only-of-type {\n",
       "        vertical-align: middle;\n",
       "    }\n",
       "\n",
       "    .dataframe tbody tr th {\n",
       "        vertical-align: top;\n",
       "    }\n",
       "\n",
       "    .dataframe thead th {\n",
       "        text-align: right;\n",
       "    }\n",
       "</style>\n",
       "<table border=\"1\" class=\"dataframe\">\n",
       "  <thead>\n",
       "    <tr style=\"text-align: right;\">\n",
       "      <th></th>\n",
       "      <th>from_bank</th>\n",
       "      <th>account</th>\n",
       "      <th>to_bank</th>\n",
       "      <th>account_1</th>\n",
       "      <th>amount_received</th>\n",
       "      <th>amount_paid</th>\n",
       "      <th>month</th>\n",
       "      <th>day</th>\n",
       "      <th>day_of_week</th>\n",
       "      <th>hour</th>\n",
       "      <th>...</th>\n",
       "      <th>payment_currency_Euro</th>\n",
       "      <th>payment_currency_Others</th>\n",
       "      <th>payment_currency_UK Pound</th>\n",
       "      <th>payment_currency_US Dollar</th>\n",
       "      <th>payment_currency_Yuan</th>\n",
       "      <th>payment_format_ACH</th>\n",
       "      <th>payment_format_Cash</th>\n",
       "      <th>payment_format_Cheque</th>\n",
       "      <th>payment_format_Credit Card</th>\n",
       "      <th>payment_format_Others</th>\n",
       "    </tr>\n",
       "  </thead>\n",
       "  <tbody>\n",
       "    <tr>\n",
       "      <th>55116</th>\n",
       "      <td>112140</td>\n",
       "      <td>80D805990</td>\n",
       "      <td>227535</td>\n",
       "      <td>810EB00A0</td>\n",
       "      <td>761.09</td>\n",
       "      <td>761.09</td>\n",
       "      <td>8</td>\n",
       "      <td>13</td>\n",
       "      <td>5</td>\n",
       "      <td>15</td>\n",
       "      <td>...</td>\n",
       "      <td>0</td>\n",
       "      <td>0</td>\n",
       "      <td>0</td>\n",
       "      <td>1</td>\n",
       "      <td>0</td>\n",
       "      <td>0</td>\n",
       "      <td>0</td>\n",
       "      <td>1</td>\n",
       "      <td>0</td>\n",
       "      <td>0</td>\n",
       "    </tr>\n",
       "    <tr>\n",
       "      <th>10084</th>\n",
       "      <td>210789</td>\n",
       "      <td>808B20D10</td>\n",
       "      <td>140416</td>\n",
       "      <td>84EED9000</td>\n",
       "      <td>108.28</td>\n",
       "      <td>108.28</td>\n",
       "      <td>8</td>\n",
       "      <td>3</td>\n",
       "      <td>2</td>\n",
       "      <td>7</td>\n",
       "      <td>...</td>\n",
       "      <td>1</td>\n",
       "      <td>0</td>\n",
       "      <td>0</td>\n",
       "      <td>0</td>\n",
       "      <td>0</td>\n",
       "      <td>0</td>\n",
       "      <td>0</td>\n",
       "      <td>0</td>\n",
       "      <td>1</td>\n",
       "      <td>0</td>\n",
       "    </tr>\n",
       "    <tr>\n",
       "      <th>209295</th>\n",
       "      <td>70</td>\n",
       "      <td>1004286A8</td>\n",
       "      <td>134945</td>\n",
       "      <td>837FB3960</td>\n",
       "      <td>51.46</td>\n",
       "      <td>51.46</td>\n",
       "      <td>9</td>\n",
       "      <td>17</td>\n",
       "      <td>5</td>\n",
       "      <td>0</td>\n",
       "      <td>...</td>\n",
       "      <td>1</td>\n",
       "      <td>0</td>\n",
       "      <td>0</td>\n",
       "      <td>0</td>\n",
       "      <td>0</td>\n",
       "      <td>0</td>\n",
       "      <td>0</td>\n",
       "      <td>1</td>\n",
       "      <td>0</td>\n",
       "      <td>0</td>\n",
       "    </tr>\n",
       "    <tr>\n",
       "      <th>301866</th>\n",
       "      <td>143079</td>\n",
       "      <td>8166DC0F0</td>\n",
       "      <td>58692</td>\n",
       "      <td>8157F4490</td>\n",
       "      <td>1391468.76</td>\n",
       "      <td>1391468.76</td>\n",
       "      <td>10</td>\n",
       "      <td>27</td>\n",
       "      <td>3</td>\n",
       "      <td>6</td>\n",
       "      <td>...</td>\n",
       "      <td>0</td>\n",
       "      <td>1</td>\n",
       "      <td>0</td>\n",
       "      <td>0</td>\n",
       "      <td>0</td>\n",
       "      <td>1</td>\n",
       "      <td>0</td>\n",
       "      <td>0</td>\n",
       "      <td>0</td>\n",
       "      <td>0</td>\n",
       "    </tr>\n",
       "    <tr>\n",
       "      <th>366094</th>\n",
       "      <td>70</td>\n",
       "      <td>1004289C0</td>\n",
       "      <td>1187494</td>\n",
       "      <td>846DFFCE0</td>\n",
       "      <td>1968421.18</td>\n",
       "      <td>1968421.18</td>\n",
       "      <td>10</td>\n",
       "      <td>19</td>\n",
       "      <td>2</td>\n",
       "      <td>15</td>\n",
       "      <td>...</td>\n",
       "      <td>0</td>\n",
       "      <td>1</td>\n",
       "      <td>0</td>\n",
       "      <td>0</td>\n",
       "      <td>0</td>\n",
       "      <td>0</td>\n",
       "      <td>0</td>\n",
       "      <td>1</td>\n",
       "      <td>0</td>\n",
       "      <td>0</td>\n",
       "    </tr>\n",
       "  </tbody>\n",
       "</table>\n",
       "<p>5 rows × 26 columns</p>\n",
       "</div>"
      ],
      "text/plain": [
       "        from_bank    account  to_bank  account_1  amount_received  \\\n",
       "55116      112140  80D805990   227535  810EB00A0           761.09   \n",
       "10084      210789  808B20D10   140416  84EED9000           108.28   \n",
       "209295         70  1004286A8   134945  837FB3960            51.46   \n",
       "301866     143079  8166DC0F0    58692  8157F4490       1391468.76   \n",
       "366094         70  1004289C0  1187494  846DFFCE0       1968421.18   \n",
       "\n",
       "        amount_paid  month  day  day_of_week  hour  ...  \\\n",
       "55116        761.09      8   13            5    15  ...   \n",
       "10084        108.28      8    3            2     7  ...   \n",
       "209295        51.46      9   17            5     0  ...   \n",
       "301866   1391468.76     10   27            3     6  ...   \n",
       "366094   1968421.18     10   19            2    15  ...   \n",
       "\n",
       "        payment_currency_Euro  payment_currency_Others  \\\n",
       "55116                       0                        0   \n",
       "10084                       1                        0   \n",
       "209295                      1                        0   \n",
       "301866                      0                        1   \n",
       "366094                      0                        1   \n",
       "\n",
       "        payment_currency_UK Pound  payment_currency_US Dollar  \\\n",
       "55116                           0                           1   \n",
       "10084                           0                           0   \n",
       "209295                          0                           0   \n",
       "301866                          0                           0   \n",
       "366094                          0                           0   \n",
       "\n",
       "        payment_currency_Yuan  payment_format_ACH  payment_format_Cash  \\\n",
       "55116                       0                   0                    0   \n",
       "10084                       0                   0                    0   \n",
       "209295                      0                   0                    0   \n",
       "301866                      0                   1                    0   \n",
       "366094                      0                   0                    0   \n",
       "\n",
       "        payment_format_Cheque  payment_format_Credit Card  \\\n",
       "55116                       1                           0   \n",
       "10084                       0                           1   \n",
       "209295                      1                           0   \n",
       "301866                      0                           0   \n",
       "366094                      1                           0   \n",
       "\n",
       "        payment_format_Others  \n",
       "55116                       0  \n",
       "10084                       0  \n",
       "209295                      0  \n",
       "301866                      0  \n",
       "366094                      0  \n",
       "\n",
       "[5 rows x 26 columns]"
      ]
     },
     "execution_count": 65,
     "metadata": {},
     "output_type": "execute_result"
    }
   ],
   "source": [
    "x_train.head()"
   ]
  },
  {
   "cell_type": "code",
   "execution_count": 66,
   "id": "754e2a27",
   "metadata": {},
   "outputs": [
    {
     "name": "stdout",
     "output_type": "stream",
     "text": [
      "<class 'pandas.core.frame.DataFrame'>\n",
      "Int64Index: 357811 entries, 55116 to 121958\n",
      "Data columns (total 26 columns):\n",
      " #   Column                        Non-Null Count   Dtype  \n",
      "---  ------                        --------------   -----  \n",
      " 0   from_bank                     357811 non-null  int64  \n",
      " 1   account                       357811 non-null  object \n",
      " 2   to_bank                       357811 non-null  int64  \n",
      " 3   account_1                     357811 non-null  object \n",
      " 4   amount_received               357811 non-null  float64\n",
      " 5   amount_paid                   357811 non-null  float64\n",
      " 6   month                         357811 non-null  int64  \n",
      " 7   day                           357811 non-null  int64  \n",
      " 8   day_of_week                   357811 non-null  int64  \n",
      " 9   hour                          357811 non-null  int64  \n",
      " 10  minute                        357811 non-null  int64  \n",
      " 11  receiving_currency_Euro       357811 non-null  uint8  \n",
      " 12  receiving_currency_Others     357811 non-null  uint8  \n",
      " 13  receiving_currency_UK Pound   357811 non-null  uint8  \n",
      " 14  receiving_currency_US Dollar  357811 non-null  uint8  \n",
      " 15  receiving_currency_Yuan       357811 non-null  uint8  \n",
      " 16  payment_currency_Euro         357811 non-null  uint8  \n",
      " 17  payment_currency_Others       357811 non-null  uint8  \n",
      " 18  payment_currency_UK Pound     357811 non-null  uint8  \n",
      " 19  payment_currency_US Dollar    357811 non-null  uint8  \n",
      " 20  payment_currency_Yuan         357811 non-null  uint8  \n",
      " 21  payment_format_ACH            357811 non-null  uint8  \n",
      " 22  payment_format_Cash           357811 non-null  uint8  \n",
      " 23  payment_format_Cheque         357811 non-null  uint8  \n",
      " 24  payment_format_Credit Card    357811 non-null  uint8  \n",
      " 25  payment_format_Others         357811 non-null  uint8  \n",
      "dtypes: float64(2), int64(7), object(2), uint8(15)\n",
      "memory usage: 37.9+ MB\n"
     ]
    }
   ],
   "source": [
    "x_train.info()"
   ]
  },
  {
   "cell_type": "markdown",
   "id": "d309291d",
   "metadata": {},
   "source": [
    "### **Frequency Encoding**"
   ]
  },
  {
   "cell_type": "code",
   "execution_count": 67,
   "id": "20235be3",
   "metadata": {},
   "outputs": [
    {
     "data": {
      "text/plain": [
       "70         37403\n",
       "20          2337\n",
       "0           2329\n",
       "11          2216\n",
       "12          2099\n",
       "           ...  \n",
       "3220877        1\n",
       "2112987        1\n",
       "327246         1\n",
       "3154512        1\n",
       "3101719        1\n",
       "Name: from_bank, Length: 9302, dtype: int64"
      ]
     },
     "execution_count": 67,
     "metadata": {},
     "output_type": "execute_result"
    }
   ],
   "source": [
    "x_train['from_bank'].value_counts()"
   ]
  },
  {
   "cell_type": "code",
   "execution_count": 68,
   "id": "5da8ab28",
   "metadata": {},
   "outputs": [
    {
     "data": {
      "text/plain": [
       "20         1848\n",
       "0          1760\n",
       "11         1718\n",
       "12         1617\n",
       "27         1300\n",
       "           ... \n",
       "1202433       1\n",
       "173729        1\n",
       "1166602       1\n",
       "3141860       1\n",
       "219625        1\n",
       "Name: to_bank, Length: 6718, dtype: int64"
      ]
     },
     "execution_count": 68,
     "metadata": {},
     "output_type": "execute_result"
    }
   ],
   "source": [
    "x_train['to_bank'].value_counts()"
   ]
  },
  {
   "cell_type": "code",
   "execution_count": 69,
   "id": "a5804a9f",
   "metadata": {},
   "outputs": [
    {
     "data": {
      "text/plain": [
       "100428660    13529\n",
       "1004286A8     8649\n",
       "1004286F0     2582\n",
       "1004289C0     1702\n",
       "100428858     1320\n",
       "             ...  \n",
       "82D18CFA0        1\n",
       "83CFFE660        1\n",
       "8107EDCC0        1\n",
       "80DB58110        1\n",
       "814F5B430        1\n",
       "Name: account, Length: 221426, dtype: int64"
      ]
     },
     "execution_count": 69,
     "metadata": {},
     "output_type": "execute_result"
    }
   ],
   "source": [
    "x_train['account'].value_counts()"
   ]
  },
  {
   "cell_type": "code",
   "execution_count": 70,
   "id": "ea29f948",
   "metadata": {},
   "outputs": [
    {
     "data": {
      "text/plain": [
       "81BBEA160    237\n",
       "81C393430    202\n",
       "800ED43D0    150\n",
       "804682F80    131\n",
       "824BF4150    129\n",
       "            ... \n",
       "800471DF0      1\n",
       "84790E190      1\n",
       "810E674A0      1\n",
       "803D51250      1\n",
       "81717FB40      1\n",
       "Name: account_1, Length: 266613, dtype: int64"
      ]
     },
     "execution_count": 70,
     "metadata": {},
     "output_type": "execute_result"
    }
   ],
   "source": [
    "x_train['account_1'].value_counts()"
   ]
  },
  {
   "cell_type": "code",
   "execution_count": 71,
   "id": "9419d46d",
   "metadata": {},
   "outputs": [],
   "source": [
    "columns_to_encode = ['from_bank', 'to_bank', 'account', 'account_1']\n",
    "\n",
    "for col in columns_to_encode:\n",
    "    encoding_train = x_train[col].value_counts(normalize=True)\n",
    "    x_train[col] = x_train[col].map(encoding_train)\n",
    "    \n",
    "    encoding_test = x_test[col].value_counts(normalize=True)\n",
    "    x_test[col] = x_test[col].map(encoding_test)"
   ]
  },
  {
   "cell_type": "code",
   "execution_count": 72,
   "id": "2e7d6a42",
   "metadata": {},
   "outputs": [
    {
     "data": {
      "text/html": [
       "<div>\n",
       "<style scoped>\n",
       "    .dataframe tbody tr th:only-of-type {\n",
       "        vertical-align: middle;\n",
       "    }\n",
       "\n",
       "    .dataframe tbody tr th {\n",
       "        vertical-align: top;\n",
       "    }\n",
       "\n",
       "    .dataframe thead th {\n",
       "        text-align: right;\n",
       "    }\n",
       "</style>\n",
       "<table border=\"1\" class=\"dataframe\">\n",
       "  <thead>\n",
       "    <tr style=\"text-align: right;\">\n",
       "      <th></th>\n",
       "      <th>from_bank</th>\n",
       "      <th>account</th>\n",
       "      <th>to_bank</th>\n",
       "      <th>account_1</th>\n",
       "      <th>amount_received</th>\n",
       "      <th>amount_paid</th>\n",
       "      <th>month</th>\n",
       "      <th>day</th>\n",
       "      <th>day_of_week</th>\n",
       "      <th>hour</th>\n",
       "      <th>...</th>\n",
       "      <th>payment_currency_Euro</th>\n",
       "      <th>payment_currency_Others</th>\n",
       "      <th>payment_currency_UK Pound</th>\n",
       "      <th>payment_currency_US Dollar</th>\n",
       "      <th>payment_currency_Yuan</th>\n",
       "      <th>payment_format_ACH</th>\n",
       "      <th>payment_format_Cash</th>\n",
       "      <th>payment_format_Cheque</th>\n",
       "      <th>payment_format_Credit Card</th>\n",
       "      <th>payment_format_Others</th>\n",
       "    </tr>\n",
       "  </thead>\n",
       "  <tbody>\n",
       "    <tr>\n",
       "      <th>55116</th>\n",
       "      <td>0.000397</td>\n",
       "      <td>0.000008</td>\n",
       "      <td>0.000310</td>\n",
       "      <td>0.000003</td>\n",
       "      <td>761.09</td>\n",
       "      <td>761.09</td>\n",
       "      <td>8</td>\n",
       "      <td>13</td>\n",
       "      <td>5</td>\n",
       "      <td>15</td>\n",
       "      <td>...</td>\n",
       "      <td>0</td>\n",
       "      <td>0</td>\n",
       "      <td>0</td>\n",
       "      <td>1</td>\n",
       "      <td>0</td>\n",
       "      <td>0</td>\n",
       "      <td>0</td>\n",
       "      <td>1</td>\n",
       "      <td>0</td>\n",
       "      <td>0</td>\n",
       "    </tr>\n",
       "    <tr>\n",
       "      <th>10084</th>\n",
       "      <td>0.000606</td>\n",
       "      <td>0.000011</td>\n",
       "      <td>0.000034</td>\n",
       "      <td>0.000008</td>\n",
       "      <td>108.28</td>\n",
       "      <td>108.28</td>\n",
       "      <td>8</td>\n",
       "      <td>3</td>\n",
       "      <td>2</td>\n",
       "      <td>7</td>\n",
       "      <td>...</td>\n",
       "      <td>1</td>\n",
       "      <td>0</td>\n",
       "      <td>0</td>\n",
       "      <td>0</td>\n",
       "      <td>0</td>\n",
       "      <td>0</td>\n",
       "      <td>0</td>\n",
       "      <td>0</td>\n",
       "      <td>1</td>\n",
       "      <td>0</td>\n",
       "    </tr>\n",
       "    <tr>\n",
       "      <th>209295</th>\n",
       "      <td>0.104533</td>\n",
       "      <td>0.024172</td>\n",
       "      <td>0.000048</td>\n",
       "      <td>0.000003</td>\n",
       "      <td>51.46</td>\n",
       "      <td>51.46</td>\n",
       "      <td>9</td>\n",
       "      <td>17</td>\n",
       "      <td>5</td>\n",
       "      <td>0</td>\n",
       "      <td>...</td>\n",
       "      <td>1</td>\n",
       "      <td>0</td>\n",
       "      <td>0</td>\n",
       "      <td>0</td>\n",
       "      <td>0</td>\n",
       "      <td>0</td>\n",
       "      <td>0</td>\n",
       "      <td>1</td>\n",
       "      <td>0</td>\n",
       "      <td>0</td>\n",
       "    </tr>\n",
       "    <tr>\n",
       "      <th>301866</th>\n",
       "      <td>0.000151</td>\n",
       "      <td>0.000003</td>\n",
       "      <td>0.000067</td>\n",
       "      <td>0.000003</td>\n",
       "      <td>1391468.76</td>\n",
       "      <td>1391468.76</td>\n",
       "      <td>10</td>\n",
       "      <td>27</td>\n",
       "      <td>3</td>\n",
       "      <td>6</td>\n",
       "      <td>...</td>\n",
       "      <td>0</td>\n",
       "      <td>1</td>\n",
       "      <td>0</td>\n",
       "      <td>0</td>\n",
       "      <td>0</td>\n",
       "      <td>1</td>\n",
       "      <td>0</td>\n",
       "      <td>0</td>\n",
       "      <td>0</td>\n",
       "      <td>0</td>\n",
       "    </tr>\n",
       "    <tr>\n",
       "      <th>366094</th>\n",
       "      <td>0.104533</td>\n",
       "      <td>0.004757</td>\n",
       "      <td>0.000089</td>\n",
       "      <td>0.000003</td>\n",
       "      <td>1968421.18</td>\n",
       "      <td>1968421.18</td>\n",
       "      <td>10</td>\n",
       "      <td>19</td>\n",
       "      <td>2</td>\n",
       "      <td>15</td>\n",
       "      <td>...</td>\n",
       "      <td>0</td>\n",
       "      <td>1</td>\n",
       "      <td>0</td>\n",
       "      <td>0</td>\n",
       "      <td>0</td>\n",
       "      <td>0</td>\n",
       "      <td>0</td>\n",
       "      <td>1</td>\n",
       "      <td>0</td>\n",
       "      <td>0</td>\n",
       "    </tr>\n",
       "  </tbody>\n",
       "</table>\n",
       "<p>5 rows × 26 columns</p>\n",
       "</div>"
      ],
      "text/plain": [
       "        from_bank   account   to_bank  account_1  amount_received  \\\n",
       "55116    0.000397  0.000008  0.000310   0.000003           761.09   \n",
       "10084    0.000606  0.000011  0.000034   0.000008           108.28   \n",
       "209295   0.104533  0.024172  0.000048   0.000003            51.46   \n",
       "301866   0.000151  0.000003  0.000067   0.000003       1391468.76   \n",
       "366094   0.104533  0.004757  0.000089   0.000003       1968421.18   \n",
       "\n",
       "        amount_paid  month  day  day_of_week  hour  ...  \\\n",
       "55116        761.09      8   13            5    15  ...   \n",
       "10084        108.28      8    3            2     7  ...   \n",
       "209295        51.46      9   17            5     0  ...   \n",
       "301866   1391468.76     10   27            3     6  ...   \n",
       "366094   1968421.18     10   19            2    15  ...   \n",
       "\n",
       "        payment_currency_Euro  payment_currency_Others  \\\n",
       "55116                       0                        0   \n",
       "10084                       1                        0   \n",
       "209295                      1                        0   \n",
       "301866                      0                        1   \n",
       "366094                      0                        1   \n",
       "\n",
       "        payment_currency_UK Pound  payment_currency_US Dollar  \\\n",
       "55116                           0                           1   \n",
       "10084                           0                           0   \n",
       "209295                          0                           0   \n",
       "301866                          0                           0   \n",
       "366094                          0                           0   \n",
       "\n",
       "        payment_currency_Yuan  payment_format_ACH  payment_format_Cash  \\\n",
       "55116                       0                   0                    0   \n",
       "10084                       0                   0                    0   \n",
       "209295                      0                   0                    0   \n",
       "301866                      0                   1                    0   \n",
       "366094                      0                   0                    0   \n",
       "\n",
       "        payment_format_Cheque  payment_format_Credit Card  \\\n",
       "55116                       1                           0   \n",
       "10084                       0                           1   \n",
       "209295                      1                           0   \n",
       "301866                      0                           0   \n",
       "366094                      1                           0   \n",
       "\n",
       "        payment_format_Others  \n",
       "55116                       0  \n",
       "10084                       0  \n",
       "209295                      0  \n",
       "301866                      0  \n",
       "366094                      0  \n",
       "\n",
       "[5 rows x 26 columns]"
      ]
     },
     "execution_count": 72,
     "metadata": {},
     "output_type": "execute_result"
    }
   ],
   "source": [
    "x_train.head()"
   ]
  },
  {
   "cell_type": "code",
   "execution_count": 73,
   "id": "3e0de21a",
   "metadata": {},
   "outputs": [
    {
     "name": "stdout",
     "output_type": "stream",
     "text": [
      "<class 'pandas.core.frame.DataFrame'>\n",
      "Int64Index: 357811 entries, 55116 to 121958\n",
      "Data columns (total 26 columns):\n",
      " #   Column                        Non-Null Count   Dtype  \n",
      "---  ------                        --------------   -----  \n",
      " 0   from_bank                     357811 non-null  float64\n",
      " 1   account                       357811 non-null  float64\n",
      " 2   to_bank                       357811 non-null  float64\n",
      " 3   account_1                     357811 non-null  float64\n",
      " 4   amount_received               357811 non-null  float64\n",
      " 5   amount_paid                   357811 non-null  float64\n",
      " 6   month                         357811 non-null  int64  \n",
      " 7   day                           357811 non-null  int64  \n",
      " 8   day_of_week                   357811 non-null  int64  \n",
      " 9   hour                          357811 non-null  int64  \n",
      " 10  minute                        357811 non-null  int64  \n",
      " 11  receiving_currency_Euro       357811 non-null  uint8  \n",
      " 12  receiving_currency_Others     357811 non-null  uint8  \n",
      " 13  receiving_currency_UK Pound   357811 non-null  uint8  \n",
      " 14  receiving_currency_US Dollar  357811 non-null  uint8  \n",
      " 15  receiving_currency_Yuan       357811 non-null  uint8  \n",
      " 16  payment_currency_Euro         357811 non-null  uint8  \n",
      " 17  payment_currency_Others       357811 non-null  uint8  \n",
      " 18  payment_currency_UK Pound     357811 non-null  uint8  \n",
      " 19  payment_currency_US Dollar    357811 non-null  uint8  \n",
      " 20  payment_currency_Yuan         357811 non-null  uint8  \n",
      " 21  payment_format_ACH            357811 non-null  uint8  \n",
      " 22  payment_format_Cash           357811 non-null  uint8  \n",
      " 23  payment_format_Cheque         357811 non-null  uint8  \n",
      " 24  payment_format_Credit Card    357811 non-null  uint8  \n",
      " 25  payment_format_Others         357811 non-null  uint8  \n",
      "dtypes: float64(6), int64(5), uint8(15)\n",
      "memory usage: 37.9 MB\n"
     ]
    }
   ],
   "source": [
    "x_train.info()"
   ]
  },
  {
   "cell_type": "markdown",
   "id": "e8ebf02e",
   "metadata": {},
   "source": [
    "### **Robust Scaling**"
   ]
  },
  {
   "cell_type": "code",
   "execution_count": 74,
   "id": "7dd299f7",
   "metadata": {},
   "outputs": [],
   "source": [
    "robust_scaler = RobustScaler()\n",
    "columns_to_scale = ['amount_received', 'amount_paid']\n",
    "\n",
    "x_train[columns_to_scale] = robust_scaler.fit_transform(x_train[columns_to_scale])\n",
    "x_test[columns_to_scale] = robust_scaler.transform(x_test[columns_to_scale])"
   ]
  },
  {
   "cell_type": "code",
   "execution_count": 75,
   "id": "8aa02444",
   "metadata": {},
   "outputs": [
    {
     "data": {
      "text/html": [
       "<div>\n",
       "<style scoped>\n",
       "    .dataframe tbody tr th:only-of-type {\n",
       "        vertical-align: middle;\n",
       "    }\n",
       "\n",
       "    .dataframe tbody tr th {\n",
       "        vertical-align: top;\n",
       "    }\n",
       "\n",
       "    .dataframe thead th {\n",
       "        text-align: right;\n",
       "    }\n",
       "</style>\n",
       "<table border=\"1\" class=\"dataframe\">\n",
       "  <thead>\n",
       "    <tr style=\"text-align: right;\">\n",
       "      <th></th>\n",
       "      <th>from_bank</th>\n",
       "      <th>account</th>\n",
       "      <th>to_bank</th>\n",
       "      <th>account_1</th>\n",
       "      <th>amount_received</th>\n",
       "      <th>amount_paid</th>\n",
       "      <th>month</th>\n",
       "      <th>day</th>\n",
       "      <th>day_of_week</th>\n",
       "      <th>hour</th>\n",
       "      <th>...</th>\n",
       "      <th>payment_currency_Euro</th>\n",
       "      <th>payment_currency_Others</th>\n",
       "      <th>payment_currency_UK Pound</th>\n",
       "      <th>payment_currency_US Dollar</th>\n",
       "      <th>payment_currency_Yuan</th>\n",
       "      <th>payment_format_ACH</th>\n",
       "      <th>payment_format_Cash</th>\n",
       "      <th>payment_format_Cheque</th>\n",
       "      <th>payment_format_Credit Card</th>\n",
       "      <th>payment_format_Others</th>\n",
       "    </tr>\n",
       "  </thead>\n",
       "  <tbody>\n",
       "    <tr>\n",
       "      <th>55116</th>\n",
       "      <td>0.000397</td>\n",
       "      <td>0.000008</td>\n",
       "      <td>0.000310</td>\n",
       "      <td>0.000003</td>\n",
       "      <td>-0.225298</td>\n",
       "      <td>-0.225617</td>\n",
       "      <td>8</td>\n",
       "      <td>13</td>\n",
       "      <td>5</td>\n",
       "      <td>15</td>\n",
       "      <td>...</td>\n",
       "      <td>0</td>\n",
       "      <td>0</td>\n",
       "      <td>0</td>\n",
       "      <td>1</td>\n",
       "      <td>0</td>\n",
       "      <td>0</td>\n",
       "      <td>0</td>\n",
       "      <td>1</td>\n",
       "      <td>0</td>\n",
       "      <td>0</td>\n",
       "    </tr>\n",
       "    <tr>\n",
       "      <th>10084</th>\n",
       "      <td>0.000606</td>\n",
       "      <td>0.000011</td>\n",
       "      <td>0.000034</td>\n",
       "      <td>0.000008</td>\n",
       "      <td>-0.270194</td>\n",
       "      <td>-0.270606</td>\n",
       "      <td>8</td>\n",
       "      <td>3</td>\n",
       "      <td>2</td>\n",
       "      <td>7</td>\n",
       "      <td>...</td>\n",
       "      <td>1</td>\n",
       "      <td>0</td>\n",
       "      <td>0</td>\n",
       "      <td>0</td>\n",
       "      <td>0</td>\n",
       "      <td>0</td>\n",
       "      <td>0</td>\n",
       "      <td>0</td>\n",
       "      <td>1</td>\n",
       "      <td>0</td>\n",
       "    </tr>\n",
       "    <tr>\n",
       "      <th>209295</th>\n",
       "      <td>0.104533</td>\n",
       "      <td>0.024172</td>\n",
       "      <td>0.000048</td>\n",
       "      <td>0.000003</td>\n",
       "      <td>-0.274102</td>\n",
       "      <td>-0.274522</td>\n",
       "      <td>9</td>\n",
       "      <td>17</td>\n",
       "      <td>5</td>\n",
       "      <td>0</td>\n",
       "      <td>...</td>\n",
       "      <td>1</td>\n",
       "      <td>0</td>\n",
       "      <td>0</td>\n",
       "      <td>0</td>\n",
       "      <td>0</td>\n",
       "      <td>0</td>\n",
       "      <td>0</td>\n",
       "      <td>1</td>\n",
       "      <td>0</td>\n",
       "      <td>0</td>\n",
       "    </tr>\n",
       "    <tr>\n",
       "      <th>301866</th>\n",
       "      <td>0.000151</td>\n",
       "      <td>0.000003</td>\n",
       "      <td>0.000067</td>\n",
       "      <td>0.000003</td>\n",
       "      <td>95.418367</td>\n",
       "      <td>95.618167</td>\n",
       "      <td>10</td>\n",
       "      <td>27</td>\n",
       "      <td>3</td>\n",
       "      <td>6</td>\n",
       "      <td>...</td>\n",
       "      <td>0</td>\n",
       "      <td>1</td>\n",
       "      <td>0</td>\n",
       "      <td>0</td>\n",
       "      <td>0</td>\n",
       "      <td>1</td>\n",
       "      <td>0</td>\n",
       "      <td>0</td>\n",
       "      <td>0</td>\n",
       "      <td>0</td>\n",
       "    </tr>\n",
       "    <tr>\n",
       "      <th>366094</th>\n",
       "      <td>0.104533</td>\n",
       "      <td>0.004757</td>\n",
       "      <td>0.000089</td>\n",
       "      <td>0.000003</td>\n",
       "      <td>135.097334</td>\n",
       "      <td>135.380155</td>\n",
       "      <td>10</td>\n",
       "      <td>19</td>\n",
       "      <td>2</td>\n",
       "      <td>15</td>\n",
       "      <td>...</td>\n",
       "      <td>0</td>\n",
       "      <td>1</td>\n",
       "      <td>0</td>\n",
       "      <td>0</td>\n",
       "      <td>0</td>\n",
       "      <td>0</td>\n",
       "      <td>0</td>\n",
       "      <td>1</td>\n",
       "      <td>0</td>\n",
       "      <td>0</td>\n",
       "    </tr>\n",
       "  </tbody>\n",
       "</table>\n",
       "<p>5 rows × 26 columns</p>\n",
       "</div>"
      ],
      "text/plain": [
       "        from_bank   account   to_bank  account_1  amount_received  \\\n",
       "55116    0.000397  0.000008  0.000310   0.000003        -0.225298   \n",
       "10084    0.000606  0.000011  0.000034   0.000008        -0.270194   \n",
       "209295   0.104533  0.024172  0.000048   0.000003        -0.274102   \n",
       "301866   0.000151  0.000003  0.000067   0.000003        95.418367   \n",
       "366094   0.104533  0.004757  0.000089   0.000003       135.097334   \n",
       "\n",
       "        amount_paid  month  day  day_of_week  hour  ...  \\\n",
       "55116     -0.225617      8   13            5    15  ...   \n",
       "10084     -0.270606      8    3            2     7  ...   \n",
       "209295    -0.274522      9   17            5     0  ...   \n",
       "301866    95.618167     10   27            3     6  ...   \n",
       "366094   135.380155     10   19            2    15  ...   \n",
       "\n",
       "        payment_currency_Euro  payment_currency_Others  \\\n",
       "55116                       0                        0   \n",
       "10084                       1                        0   \n",
       "209295                      1                        0   \n",
       "301866                      0                        1   \n",
       "366094                      0                        1   \n",
       "\n",
       "        payment_currency_UK Pound  payment_currency_US Dollar  \\\n",
       "55116                           0                           1   \n",
       "10084                           0                           0   \n",
       "209295                          0                           0   \n",
       "301866                          0                           0   \n",
       "366094                          0                           0   \n",
       "\n",
       "        payment_currency_Yuan  payment_format_ACH  payment_format_Cash  \\\n",
       "55116                       0                   0                    0   \n",
       "10084                       0                   0                    0   \n",
       "209295                      0                   0                    0   \n",
       "301866                      0                   1                    0   \n",
       "366094                      0                   0                    0   \n",
       "\n",
       "        payment_format_Cheque  payment_format_Credit Card  \\\n",
       "55116                       1                           0   \n",
       "10084                       0                           1   \n",
       "209295                      1                           0   \n",
       "301866                      0                           0   \n",
       "366094                      1                           0   \n",
       "\n",
       "        payment_format_Others  \n",
       "55116                       0  \n",
       "10084                       0  \n",
       "209295                      0  \n",
       "301866                      0  \n",
       "366094                      0  \n",
       "\n",
       "[5 rows x 26 columns]"
      ]
     },
     "execution_count": 75,
     "metadata": {},
     "output_type": "execute_result"
    }
   ],
   "source": [
    "x_train.head()"
   ]
  },
  {
   "cell_type": "code",
   "execution_count": 76,
   "id": "046e84e1",
   "metadata": {},
   "outputs": [
    {
     "data": {
      "text/html": [
       "<div>\n",
       "<style scoped>\n",
       "    .dataframe tbody tr th:only-of-type {\n",
       "        vertical-align: middle;\n",
       "    }\n",
       "\n",
       "    .dataframe tbody tr th {\n",
       "        vertical-align: top;\n",
       "    }\n",
       "\n",
       "    .dataframe thead th {\n",
       "        text-align: right;\n",
       "    }\n",
       "</style>\n",
       "<table border=\"1\" class=\"dataframe\">\n",
       "  <thead>\n",
       "    <tr style=\"text-align: right;\">\n",
       "      <th></th>\n",
       "      <th>from_bank</th>\n",
       "      <th>account</th>\n",
       "      <th>to_bank</th>\n",
       "      <th>account_1</th>\n",
       "      <th>amount_received</th>\n",
       "      <th>amount_paid</th>\n",
       "      <th>month</th>\n",
       "      <th>day</th>\n",
       "      <th>day_of_week</th>\n",
       "      <th>hour</th>\n",
       "      <th>...</th>\n",
       "      <th>payment_currency_Euro</th>\n",
       "      <th>payment_currency_Others</th>\n",
       "      <th>payment_currency_UK Pound</th>\n",
       "      <th>payment_currency_US Dollar</th>\n",
       "      <th>payment_currency_Yuan</th>\n",
       "      <th>payment_format_ACH</th>\n",
       "      <th>payment_format_Cash</th>\n",
       "      <th>payment_format_Cheque</th>\n",
       "      <th>payment_format_Credit Card</th>\n",
       "      <th>payment_format_Others</th>\n",
       "    </tr>\n",
       "  </thead>\n",
       "  <tbody>\n",
       "    <tr>\n",
       "      <th>140606</th>\n",
       "      <td>0.000045</td>\n",
       "      <td>0.000011</td>\n",
       "      <td>0.000257</td>\n",
       "      <td>0.000011</td>\n",
       "      <td>-0.210635</td>\n",
       "      <td>-0.210923</td>\n",
       "      <td>9</td>\n",
       "      <td>2</td>\n",
       "      <td>4</td>\n",
       "      <td>3</td>\n",
       "      <td>...</td>\n",
       "      <td>0</td>\n",
       "      <td>0</td>\n",
       "      <td>0</td>\n",
       "      <td>1</td>\n",
       "      <td>0</td>\n",
       "      <td>1</td>\n",
       "      <td>0</td>\n",
       "      <td>0</td>\n",
       "      <td>0</td>\n",
       "      <td>0</td>\n",
       "    </tr>\n",
       "    <tr>\n",
       "      <th>306261</th>\n",
       "      <td>0.000145</td>\n",
       "      <td>0.000022</td>\n",
       "      <td>0.000481</td>\n",
       "      <td>0.000011</td>\n",
       "      <td>0.586587</td>\n",
       "      <td>0.587967</td>\n",
       "      <td>10</td>\n",
       "      <td>17</td>\n",
       "      <td>0</td>\n",
       "      <td>5</td>\n",
       "      <td>...</td>\n",
       "      <td>0</td>\n",
       "      <td>0</td>\n",
       "      <td>0</td>\n",
       "      <td>1</td>\n",
       "      <td>0</td>\n",
       "      <td>1</td>\n",
       "      <td>0</td>\n",
       "      <td>0</td>\n",
       "      <td>0</td>\n",
       "      <td>0</td>\n",
       "    </tr>\n",
       "    <tr>\n",
       "      <th>21592</th>\n",
       "      <td>0.105503</td>\n",
       "      <td>0.023876</td>\n",
       "      <td>0.000022</td>\n",
       "      <td>0.000011</td>\n",
       "      <td>0.037791</td>\n",
       "      <td>0.038023</td>\n",
       "      <td>8</td>\n",
       "      <td>5</td>\n",
       "      <td>4</td>\n",
       "      <td>21</td>\n",
       "      <td>...</td>\n",
       "      <td>1</td>\n",
       "      <td>0</td>\n",
       "      <td>0</td>\n",
       "      <td>0</td>\n",
       "      <td>0</td>\n",
       "      <td>0</td>\n",
       "      <td>0</td>\n",
       "      <td>1</td>\n",
       "      <td>0</td>\n",
       "      <td>0</td>\n",
       "    </tr>\n",
       "    <tr>\n",
       "      <th>177136</th>\n",
       "      <td>0.005390</td>\n",
       "      <td>0.000011</td>\n",
       "      <td>0.000526</td>\n",
       "      <td>0.000011</td>\n",
       "      <td>-0.051258</td>\n",
       "      <td>-0.051212</td>\n",
       "      <td>9</td>\n",
       "      <td>20</td>\n",
       "      <td>1</td>\n",
       "      <td>16</td>\n",
       "      <td>...</td>\n",
       "      <td>0</td>\n",
       "      <td>0</td>\n",
       "      <td>0</td>\n",
       "      <td>1</td>\n",
       "      <td>0</td>\n",
       "      <td>1</td>\n",
       "      <td>0</td>\n",
       "      <td>0</td>\n",
       "      <td>0</td>\n",
       "      <td>0</td>\n",
       "    </tr>\n",
       "    <tr>\n",
       "      <th>385228</th>\n",
       "      <td>0.000112</td>\n",
       "      <td>0.000011</td>\n",
       "      <td>0.000034</td>\n",
       "      <td>0.000011</td>\n",
       "      <td>1.865952</td>\n",
       "      <td>1.870009</td>\n",
       "      <td>10</td>\n",
       "      <td>23</td>\n",
       "      <td>6</td>\n",
       "      <td>19</td>\n",
       "      <td>...</td>\n",
       "      <td>0</td>\n",
       "      <td>0</td>\n",
       "      <td>0</td>\n",
       "      <td>1</td>\n",
       "      <td>0</td>\n",
       "      <td>0</td>\n",
       "      <td>1</td>\n",
       "      <td>0</td>\n",
       "      <td>0</td>\n",
       "      <td>0</td>\n",
       "    </tr>\n",
       "  </tbody>\n",
       "</table>\n",
       "<p>5 rows × 26 columns</p>\n",
       "</div>"
      ],
      "text/plain": [
       "        from_bank   account   to_bank  account_1  amount_received  \\\n",
       "140606   0.000045  0.000011  0.000257   0.000011        -0.210635   \n",
       "306261   0.000145  0.000022  0.000481   0.000011         0.586587   \n",
       "21592    0.105503  0.023876  0.000022   0.000011         0.037791   \n",
       "177136   0.005390  0.000011  0.000526   0.000011        -0.051258   \n",
       "385228   0.000112  0.000011  0.000034   0.000011         1.865952   \n",
       "\n",
       "        amount_paid  month  day  day_of_week  hour  ...  \\\n",
       "140606    -0.210923      9    2            4     3  ...   \n",
       "306261     0.587967     10   17            0     5  ...   \n",
       "21592      0.038023      8    5            4    21  ...   \n",
       "177136    -0.051212      9   20            1    16  ...   \n",
       "385228     1.870009     10   23            6    19  ...   \n",
       "\n",
       "        payment_currency_Euro  payment_currency_Others  \\\n",
       "140606                      0                        0   \n",
       "306261                      0                        0   \n",
       "21592                       1                        0   \n",
       "177136                      0                        0   \n",
       "385228                      0                        0   \n",
       "\n",
       "        payment_currency_UK Pound  payment_currency_US Dollar  \\\n",
       "140606                          0                           1   \n",
       "306261                          0                           1   \n",
       "21592                           0                           0   \n",
       "177136                          0                           1   \n",
       "385228                          0                           1   \n",
       "\n",
       "        payment_currency_Yuan  payment_format_ACH  payment_format_Cash  \\\n",
       "140606                      0                   1                    0   \n",
       "306261                      0                   1                    0   \n",
       "21592                       0                   0                    0   \n",
       "177136                      0                   1                    0   \n",
       "385228                      0                   0                    1   \n",
       "\n",
       "        payment_format_Cheque  payment_format_Credit Card  \\\n",
       "140606                      0                           0   \n",
       "306261                      0                           0   \n",
       "21592                       1                           0   \n",
       "177136                      0                           0   \n",
       "385228                      0                           0   \n",
       "\n",
       "        payment_format_Others  \n",
       "140606                      0  \n",
       "306261                      0  \n",
       "21592                       0  \n",
       "177136                      0  \n",
       "385228                      0  \n",
       "\n",
       "[5 rows x 26 columns]"
      ]
     },
     "execution_count": 76,
     "metadata": {},
     "output_type": "execute_result"
    }
   ],
   "source": [
    "x_test.head()"
   ]
  },
  {
   "cell_type": "code",
   "execution_count": 77,
   "id": "21398ef1",
   "metadata": {},
   "outputs": [
    {
     "name": "stdout",
     "output_type": "stream",
     "text": [
      "<class 'pandas.core.frame.DataFrame'>\n",
      "Int64Index: 357811 entries, 55116 to 121958\n",
      "Data columns (total 26 columns):\n",
      " #   Column                        Non-Null Count   Dtype  \n",
      "---  ------                        --------------   -----  \n",
      " 0   from_bank                     357811 non-null  float64\n",
      " 1   account                       357811 non-null  float64\n",
      " 2   to_bank                       357811 non-null  float64\n",
      " 3   account_1                     357811 non-null  float64\n",
      " 4   amount_received               357811 non-null  float64\n",
      " 5   amount_paid                   357811 non-null  float64\n",
      " 6   month                         357811 non-null  int64  \n",
      " 7   day                           357811 non-null  int64  \n",
      " 8   day_of_week                   357811 non-null  int64  \n",
      " 9   hour                          357811 non-null  int64  \n",
      " 10  minute                        357811 non-null  int64  \n",
      " 11  receiving_currency_Euro       357811 non-null  uint8  \n",
      " 12  receiving_currency_Others     357811 non-null  uint8  \n",
      " 13  receiving_currency_UK Pound   357811 non-null  uint8  \n",
      " 14  receiving_currency_US Dollar  357811 non-null  uint8  \n",
      " 15  receiving_currency_Yuan       357811 non-null  uint8  \n",
      " 16  payment_currency_Euro         357811 non-null  uint8  \n",
      " 17  payment_currency_Others       357811 non-null  uint8  \n",
      " 18  payment_currency_UK Pound     357811 non-null  uint8  \n",
      " 19  payment_currency_US Dollar    357811 non-null  uint8  \n",
      " 20  payment_currency_Yuan         357811 non-null  uint8  \n",
      " 21  payment_format_ACH            357811 non-null  uint8  \n",
      " 22  payment_format_Cash           357811 non-null  uint8  \n",
      " 23  payment_format_Cheque         357811 non-null  uint8  \n",
      " 24  payment_format_Credit Card    357811 non-null  uint8  \n",
      " 25  payment_format_Others         357811 non-null  uint8  \n",
      "dtypes: float64(6), int64(5), uint8(15)\n",
      "memory usage: 37.9 MB\n"
     ]
    }
   ],
   "source": [
    "x_train.info()"
   ]
  },
  {
   "cell_type": "code",
   "execution_count": 78,
   "id": "c324b7bf",
   "metadata": {},
   "outputs": [
    {
     "name": "stdout",
     "output_type": "stream",
     "text": [
      "<class 'pandas.core.frame.DataFrame'>\n",
      "Int64Index: 89419 entries, 140606 to 152926\n",
      "Data columns (total 26 columns):\n",
      " #   Column                        Non-Null Count  Dtype  \n",
      "---  ------                        --------------  -----  \n",
      " 0   from_bank                     89419 non-null  float64\n",
      " 1   account                       89419 non-null  float64\n",
      " 2   to_bank                       89419 non-null  float64\n",
      " 3   account_1                     89419 non-null  float64\n",
      " 4   amount_received               89419 non-null  float64\n",
      " 5   amount_paid                   89419 non-null  float64\n",
      " 6   month                         89419 non-null  int64  \n",
      " 7   day                           89419 non-null  int64  \n",
      " 8   day_of_week                   89419 non-null  int64  \n",
      " 9   hour                          89419 non-null  int64  \n",
      " 10  minute                        89419 non-null  int64  \n",
      " 11  receiving_currency_Euro       89419 non-null  uint8  \n",
      " 12  receiving_currency_Others     89419 non-null  uint8  \n",
      " 13  receiving_currency_UK Pound   89419 non-null  uint8  \n",
      " 14  receiving_currency_US Dollar  89419 non-null  uint8  \n",
      " 15  receiving_currency_Yuan       89419 non-null  uint8  \n",
      " 16  payment_currency_Euro         89419 non-null  uint8  \n",
      " 17  payment_currency_Others       89419 non-null  uint8  \n",
      " 18  payment_currency_UK Pound     89419 non-null  uint8  \n",
      " 19  payment_currency_US Dollar    89419 non-null  uint8  \n",
      " 20  payment_currency_Yuan         89419 non-null  uint8  \n",
      " 21  payment_format_ACH            89419 non-null  uint8  \n",
      " 22  payment_format_Cash           89419 non-null  uint8  \n",
      " 23  payment_format_Cheque         89419 non-null  uint8  \n",
      " 24  payment_format_Credit Card    89419 non-null  uint8  \n",
      " 25  payment_format_Others         89419 non-null  uint8  \n",
      "dtypes: float64(6), int64(5), uint8(15)\n",
      "memory usage: 9.5 MB\n"
     ]
    }
   ],
   "source": [
    "x_test.info()"
   ]
  },
  {
   "cell_type": "markdown",
   "id": "6ce6614d",
   "metadata": {},
   "source": [
    "# **Modeling 1 : Logistic Regression Classifier**"
   ]
  },
  {
   "cell_type": "code",
   "execution_count": 79,
   "id": "ee9f1c08",
   "metadata": {},
   "outputs": [
    {
     "data": {
      "text/plain": [
       "LogisticRegression(max_iter=1000)"
      ]
     },
     "execution_count": 79,
     "metadata": {},
     "output_type": "execute_result"
    }
   ],
   "source": [
    "logistic_model = LogisticRegression(max_iter=1000)\n",
    "logistic_model.fit(x_train, y_train)"
   ]
  },
  {
   "cell_type": "markdown",
   "id": "3b87299f",
   "metadata": {},
   "source": [
    "### **Feature Importance**"
   ]
  },
  {
   "cell_type": "code",
   "execution_count": 80,
   "id": "176153e7",
   "metadata": {
    "scrolled": true
   },
   "outputs": [
    {
     "name": "stdout",
     "output_type": "stream",
     "text": [
      "[ 8.32693088e-03  1.71933712e-03  1.08018170e-03  7.78673852e-05\n",
      "  1.51001015e-06 -8.83591465e-08 -4.67336454e-02  3.22565132e-03\n",
      " -1.88802833e-01  1.05413608e-02  1.45552034e-03  1.58874763e-01\n",
      " -4.06873936e-01  4.06807695e-02  7.54269373e-02  1.32238292e-02\n",
      "  1.61801686e-01 -3.90453941e-01  4.07830654e-02  6.19896954e-02\n",
      "  7.21185597e-03  2.74215543e+00 -3.49302063e-01 -1.30867926e+00\n",
      " -9.58290182e-01 -2.44551569e-01]\n"
     ]
    }
   ],
   "source": [
    "feature_importance = logistic_model.coef_[0]\n",
    "print(feature_importance)"
   ]
  },
  {
   "cell_type": "markdown",
   "id": "aae66478",
   "metadata": {},
   "source": [
    "**Positive Coefficients:** Features with positive coefficients contribute positively to the prediction of the target variable ('is_laundering'). A larger positive coefficient suggests a stronger positive impact of that particular feature on the likelihood of a transaction being classified as money laundering.\n",
    "\n",
    "**Negative Coefficients:** Conversely, features with negative coefficients contribute inversely to the prediction. A larger negative coefficient indicates a stronger negative impact of that feature on the likelihood of money laundering."
   ]
  },
  {
   "cell_type": "markdown",
   "id": "9ec04baf",
   "metadata": {},
   "source": [
    "## **Model Evaluation 1: Logistic Regression Classifier**"
   ]
  },
  {
   "cell_type": "markdown",
   "id": "014d5c6c",
   "metadata": {},
   "source": [
    "### **Evaluation Metrics**"
   ]
  },
  {
   "cell_type": "code",
   "execution_count": 81,
   "id": "ee9af9fe",
   "metadata": {},
   "outputs": [],
   "source": [
    "y_pred = logistic_model.predict(x_test)\n",
    "\n",
    "conf_matrix = confusion_matrix(y_test, y_pred)\n",
    "\n",
    "class_report = classification_report(y_test, y_pred)\n",
    "\n",
    "roc_auc = roc_auc_score(y_test, y_pred)"
   ]
  },
  {
   "cell_type": "code",
   "execution_count": 82,
   "id": "7480672e",
   "metadata": {},
   "outputs": [
    {
     "name": "stdout",
     "output_type": "stream",
     "text": [
      "[[39234  5782]\n",
      " [ 5312 39091]]\n"
     ]
    }
   ],
   "source": [
    "print(conf_matrix)"
   ]
  },
  {
   "cell_type": "markdown",
   "id": "badc1f3b",
   "metadata": {},
   "source": [
    "- **True Positives (TP):** The number of correctly predicted positive instances (correctly predicted money laundering transactions in this context). In the provided confusion matrix, there are **39,234** true positives.\n",
    "- **True Negatives (TN):** The number of correctly predicted negative instances (correctly predicted non-money laundering transactions). Here, there are **39,091** true negatives.\n",
    "- **False Positives (FP):** The number of non-money laundering transactions incorrectly predicted as money laundering transactions. In this matrix, there are **5,782** false positives.\n",
    "- **False Negatives (FN):** The number of money laundering transactions incorrectly predicted as non-money laundering transactions. There are **5,312** false negatives.\n",
    "\n",
    "The **high values of TP and TN** indicate that the model is **proficient in correctly classifying** both money laundering and non-money laundering transactions.\n",
    "The number of **false positives (5,782) and false negatives (5,312)** suggests **some misclassifications** occurred, where the model predicted incorrectly for a portion of the instances."
   ]
  },
  {
   "cell_type": "code",
   "execution_count": 83,
   "id": "8ead0ebc",
   "metadata": {},
   "outputs": [
    {
     "name": "stdout",
     "output_type": "stream",
     "text": [
      "              precision    recall  f1-score   support\n",
      "\n",
      "           0       0.88      0.87      0.88     45016\n",
      "           1       0.87      0.88      0.88     44403\n",
      "\n",
      "    accuracy                           0.88     89419\n",
      "   macro avg       0.88      0.88      0.88     89419\n",
      "weighted avg       0.88      0.88      0.88     89419\n",
      "\n"
     ]
    }
   ],
   "source": [
    "print(class_report)"
   ]
  },
  {
   "cell_type": "code",
   "execution_count": 84,
   "id": "196920b4",
   "metadata": {},
   "outputs": [
    {
     "name": "stdout",
     "output_type": "stream",
     "text": [
      "0.8759626116926273\n"
     ]
    }
   ],
   "source": [
    "print(roc_auc)"
   ]
  },
  {
   "cell_type": "markdown",
   "id": "5ccd752c",
   "metadata": {},
   "source": [
    "# **Modeling 2: Random Forest Classifier**"
   ]
  },
  {
   "cell_type": "code",
   "execution_count": 85,
   "id": "325d5c62",
   "metadata": {
    "scrolled": true
   },
   "outputs": [
    {
     "data": {
      "text/plain": [
       "RandomForestClassifier(max_depth=4)"
      ]
     },
     "execution_count": 85,
     "metadata": {},
     "output_type": "execute_result"
    }
   ],
   "source": [
    "RF_class = RandomForestClassifier(criterion= 'gini', max_depth=4)\n",
    "RF_class.fit(x_train, y_train)"
   ]
  },
  {
   "cell_type": "markdown",
   "id": "39f4df63",
   "metadata": {},
   "source": [
    "### **Feature Importance**"
   ]
  },
  {
   "cell_type": "code",
   "execution_count": 86,
   "id": "18900310",
   "metadata": {},
   "outputs": [
    {
     "name": "stdout",
     "output_type": "stream",
     "text": [
      "[2.45822319e-02 5.90963172e-02 1.42102996e-02 6.03407735e-02\n",
      " 8.78041573e-02 6.51588991e-02 3.75664468e-03 9.60752862e-04\n",
      " 5.92795751e-04 4.13595544e-04 1.46844045e-05 5.71243821e-04\n",
      " 3.61284444e-03 1.18891923e-06 6.65975479e-05 1.01216962e-04\n",
      " 7.03469310e-04 3.54371914e-03 7.50306389e-06 8.27544295e-06\n",
      " 9.09488225e-05 4.58876679e-01 2.63331640e-02 1.16633237e-01\n",
      " 6.54741763e-02 7.04458462e-03]\n"
     ]
    }
   ],
   "source": [
    "feature_importance = RF_class.feature_importances_\n",
    "print(feature_importance)"
   ]
  },
  {
   "cell_type": "markdown",
   "id": "7b0027c5",
   "metadata": {},
   "source": [
    "## **Model Evaluation 2: Random Forest Classifier**"
   ]
  },
  {
   "cell_type": "markdown",
   "id": "a2ba74a8",
   "metadata": {},
   "source": [
    "### **Evaluation Metrics**"
   ]
  },
  {
   "cell_type": "code",
   "execution_count": 87,
   "id": "cf64f618",
   "metadata": {},
   "outputs": [],
   "source": [
    "y_predict = RF_class.predict(x_test)\n",
    "\n",
    "conf_matrix = confusion_matrix(y_test, y_predict)\n",
    "\n",
    "class_report = classification_report(y_test, y_predict)\n",
    "\n",
    "roc_auc = roc_auc_score(y_test, y_predict)"
   ]
  },
  {
   "cell_type": "code",
   "execution_count": 88,
   "id": "e45e852b",
   "metadata": {},
   "outputs": [
    {
     "name": "stdout",
     "output_type": "stream",
     "text": [
      "Confusion Matrix:\n",
      " [[40319  4697]\n",
      " [ 5670 38733]]\n"
     ]
    }
   ],
   "source": [
    "print(\"Confusion Matrix:\\n\", conf_matrix)"
   ]
  },
  {
   "cell_type": "code",
   "execution_count": 89,
   "id": "76922bd5",
   "metadata": {
    "scrolled": true
   },
   "outputs": [
    {
     "name": "stdout",
     "output_type": "stream",
     "text": [
      "\n",
      "Classification Report:\n",
      "               precision    recall  f1-score   support\n",
      "\n",
      "           0       0.88      0.90      0.89     45016\n",
      "           1       0.89      0.87      0.88     44403\n",
      "\n",
      "    accuracy                           0.88     89419\n",
      "   macro avg       0.88      0.88      0.88     89419\n",
      "weighted avg       0.88      0.88      0.88     89419\n",
      "\n"
     ]
    }
   ],
   "source": [
    "print(\"\\nClassification Report:\\n\", class_report)"
   ]
  },
  {
   "cell_type": "code",
   "execution_count": 90,
   "id": "6dd8f2c2",
   "metadata": {},
   "outputs": [
    {
     "name": "stdout",
     "output_type": "stream",
     "text": [
      "\n",
      "ROC AUC Score: 0.8839826232027921\n"
     ]
    }
   ],
   "source": [
    "print(\"\\nROC AUC Score:\", roc_auc)"
   ]
  },
  {
   "cell_type": "markdown",
   "id": "1dd5f40a",
   "metadata": {},
   "source": [
    "## **Hyperparameter Tuning**"
   ]
  },
  {
   "cell_type": "code",
   "execution_count": 91,
   "id": "9d5a219a",
   "metadata": {},
   "outputs": [],
   "source": [
    "parameters = {\n",
    "    'criterion': ['gini', 'entropy'],\n",
    "    'max_depth': [5, 10]\n",
    "}"
   ]
  },
  {
   "cell_type": "code",
   "execution_count": 94,
   "id": "b9ddc76f",
   "metadata": {},
   "outputs": [],
   "source": [
    "RF_class2 = RandomForestClassifier()\n",
    "RF_class2 = GridSearchCV(RF_class2,\n",
    "                            param_grid = parameters,\n",
    "                            scoring = 'accuracy',\n",
    "                            cv =3)"
   ]
  },
  {
   "cell_type": "code",
   "execution_count": 96,
   "id": "21c8fb30",
   "metadata": {},
   "outputs": [
    {
     "name": "stdout",
     "output_type": "stream",
     "text": [
      "Tuned Hyperparameters : {'criterion': 'gini', 'max_depth': 10}\n",
      "Accuracy : 0.9012970522914023\n"
     ]
    }
   ],
   "source": [
    "RF_class2.fit(x_train, y_train)\n",
    "print(\"Tuned Hyperparameters :\", RF_class2.best_params_)\n",
    "print(\"Accuracy :\", RF_class2.best_score_)"
   ]
  },
  {
   "cell_type": "code",
   "execution_count": 97,
   "id": "085c0a3c",
   "metadata": {},
   "outputs": [
    {
     "data": {
      "text/plain": [
       "RandomForestClassifier(criterion='entropy', max_depth=10)"
      ]
     },
     "execution_count": 97,
     "metadata": {},
     "output_type": "execute_result"
    }
   ],
   "source": [
    "RF_class_best = RandomForestClassifier(criterion = 'entropy', max_depth = 10)\n",
    "RF_class_best.fit(x_train, y_train)"
   ]
  },
  {
   "cell_type": "markdown",
   "id": "c5dc5e78",
   "metadata": {},
   "source": [
    "### **Feature Importance**"
   ]
  },
  {
   "cell_type": "code",
   "execution_count": 98,
   "id": "a3ba1847",
   "metadata": {},
   "outputs": [
    {
     "name": "stdout",
     "output_type": "stream",
     "text": [
      "Feature Importance: [7.05002182e-02 9.96009484e-02 1.54008485e-02 5.63506592e-02\n",
      " 6.16447803e-02 5.33875420e-02 3.57392356e-03 2.65656839e-03\n",
      " 3.23178682e-03 1.54585472e-03 8.47463636e-04 1.44208948e-03\n",
      " 5.33618856e-03 1.33412785e-04 1.12543919e-03 7.40060560e-04\n",
      " 1.30349493e-03 5.04609286e-03 1.93421940e-04 2.79641105e-03\n",
      " 9.11826433e-04 4.12342767e-01 2.05501600e-02 1.04458676e-01\n",
      " 6.53990125e-02 9.48035380e-03]\n"
     ]
    }
   ],
   "source": [
    "feature_importance_best = RF_class_best.feature_importances_\n",
    "print(\"Feature Importance:\", feature_importance_best)"
   ]
  },
  {
   "cell_type": "markdown",
   "id": "d4356b9f",
   "metadata": {},
   "source": [
    "### **Evaluation Metrics**"
   ]
  },
  {
   "cell_type": "code",
   "execution_count": 99,
   "id": "48158978",
   "metadata": {},
   "outputs": [],
   "source": [
    "y_predict_best = RF_class_best.predict(x_test)\n",
    "\n",
    "conf_matrix_best = confusion_matrix(y_test, y_predict_best)\n",
    "\n",
    "class_report_best = classification_report(y_test, y_predict_best)\n",
    "\n",
    "roc_auc_best = roc_auc_score(y_test, y_predict_best)"
   ]
  },
  {
   "cell_type": "code",
   "execution_count": 100,
   "id": "b89e88ce",
   "metadata": {},
   "outputs": [
    {
     "name": "stdout",
     "output_type": "stream",
     "text": [
      "Confusion Matrix:\n",
      " [[38241  6775]\n",
      " [ 2395 42008]]\n"
     ]
    }
   ],
   "source": [
    "print(\"Confusion Matrix:\\n\", conf_matrix_best)"
   ]
  },
  {
   "cell_type": "code",
   "execution_count": 101,
   "id": "768b11be",
   "metadata": {},
   "outputs": [
    {
     "name": "stdout",
     "output_type": "stream",
     "text": [
      "Classification Report:\n",
      "               precision    recall  f1-score   support\n",
      "\n",
      "           0       0.94      0.85      0.89     45016\n",
      "           1       0.86      0.95      0.90     44403\n",
      "\n",
      "    accuracy                           0.90     89419\n",
      "   macro avg       0.90      0.90      0.90     89419\n",
      "weighted avg       0.90      0.90      0.90     89419\n",
      "\n"
     ]
    }
   ],
   "source": [
    "print(\"Classification Report:\\n\", class_report_best)"
   ]
  },
  {
   "cell_type": "code",
   "execution_count": 102,
   "id": "a7ff678b",
   "metadata": {
    "scrolled": false
   },
   "outputs": [
    {
     "name": "stdout",
     "output_type": "stream",
     "text": [
      "ROC AUC Score: 0.8977800796432562\n"
     ]
    }
   ],
   "source": [
    "print(\"ROC AUC Score:\", roc_auc_best)"
   ]
  },
  {
   "cell_type": "markdown",
   "id": "ffe014e4",
   "metadata": {},
   "source": [
    "# **Modeling 3: XGBoost Classifier**"
   ]
  },
  {
   "cell_type": "code",
   "execution_count": 103,
   "id": "9febf20b",
   "metadata": {},
   "outputs": [
    {
     "data": {
      "text/plain": [
       "XGBClassifier(base_score=0.5, booster='gbtree', callbacks=None,\n",
       "              colsample_bylevel=1, colsample_bynode=1, colsample_bytree=1,\n",
       "              early_stopping_rounds=None, enable_categorical=False,\n",
       "              eval_metric=None, gamma=0, gpu_id=-1, grow_policy='depthwise',\n",
       "              importance_type=None, interaction_constraints='',\n",
       "              learning_rate=0.300000012, max_bin=256, max_cat_to_onehot=4,\n",
       "              max_delta_step=0, max_depth=6, max_leaves=0, min_child_weight=1,\n",
       "              missing=nan, monotone_constraints='()', n_estimators=100,\n",
       "              n_jobs=0, num_parallel_tree=1, predictor='auto', random_state=0,\n",
       "              reg_alpha=0, reg_lambda=1, ...)"
      ]
     },
     "execution_count": 103,
     "metadata": {},
     "output_type": "execute_result"
    }
   ],
   "source": [
    "xgboost = xgb.XGBClassifier()\n",
    "xgboost.fit(x_train, y_train)"
   ]
  },
  {
   "cell_type": "markdown",
   "id": "387f0faa",
   "metadata": {},
   "source": [
    "## **Model Evaluation 3: XGBoost Classifier**"
   ]
  },
  {
   "cell_type": "markdown",
   "id": "132903f5",
   "metadata": {},
   "source": [
    "### **Evaluation Metrics**"
   ]
  },
  {
   "cell_type": "code",
   "execution_count": 104,
   "id": "dc421a8e",
   "metadata": {},
   "outputs": [],
   "source": [
    "y_pred = xgboost.predict(x_test)\n",
    "\n",
    "conf_matrix = confusion_matrix(y_test, y_pred)\n",
    "\n",
    "class_report = classification_report(y_test, y_pred)\n",
    "\n",
    "roc_auc = roc_auc_score(y_test, y_predict)"
   ]
  },
  {
   "cell_type": "code",
   "execution_count": 105,
   "id": "5b0b66a5",
   "metadata": {},
   "outputs": [
    {
     "name": "stdout",
     "output_type": "stream",
     "text": [
      "Confusion Matrix:\n",
      " [[38784  6232]\n",
      " [ 2603 41800]]\n"
     ]
    }
   ],
   "source": [
    "print(\"Confusion Matrix:\\n\", conf_matrix)"
   ]
  },
  {
   "cell_type": "code",
   "execution_count": 106,
   "id": "0d1dc7f1",
   "metadata": {},
   "outputs": [
    {
     "name": "stdout",
     "output_type": "stream",
     "text": [
      "Classification report:\n",
      "               precision    recall  f1-score   support\n",
      "\n",
      "           0       0.94      0.86      0.90     45016\n",
      "           1       0.87      0.94      0.90     44403\n",
      "\n",
      "    accuracy                           0.90     89419\n",
      "   macro avg       0.90      0.90      0.90     89419\n",
      "weighted avg       0.90      0.90      0.90     89419\n",
      "\n"
     ]
    }
   ],
   "source": [
    "print(\"Classification report:\\n\", class_report)"
   ]
  },
  {
   "cell_type": "code",
   "execution_count": 107,
   "id": "9ad545f6",
   "metadata": {},
   "outputs": [
    {
     "name": "stdout",
     "output_type": "stream",
     "text": [
      "ROC AUC score:\n",
      " 0.8839826232027921\n"
     ]
    }
   ],
   "source": [
    "print(\"ROC AUC score:\\n\", roc_auc)"
   ]
  },
  {
   "cell_type": "markdown",
   "id": "a799baeb",
   "metadata": {},
   "source": [
    "# **Modeling 4 : Stacking Classifier**"
   ]
  },
  {
   "cell_type": "code",
   "execution_count": 108,
   "id": "291fc013",
   "metadata": {},
   "outputs": [
    {
     "data": {
      "text/plain": [
       "StackingClassifier(estimators=[('rf',\n",
       "                                RandomForestClassifier(n_estimators=10,\n",
       "                                                       random_state=42)),\n",
       "                               ('svc',\n",
       "                                Pipeline(steps=[('standardscaler',\n",
       "                                                 StandardScaler()),\n",
       "                                                ('linearsvc',\n",
       "                                                 LinearSVC(random_state=42))]))],\n",
       "                   final_estimator=LogisticRegression())"
      ]
     },
     "execution_count": 108,
     "metadata": {},
     "output_type": "execute_result"
    }
   ],
   "source": [
    "estimators = [\n",
    "                ('rf', RandomForestClassifier(n_estimators=10, random_state=42)),\n",
    "                ('svc', make_pipeline(StandardScaler(),LinearSVC(random_state=42)))\n",
    "]\n",
    "\n",
    "stacking_class = StackingClassifier(estimators=estimators, final_estimator=LogisticRegression())\n",
    "stacking_class.fit(x_train, y_train)"
   ]
  },
  {
   "cell_type": "code",
   "execution_count": 109,
   "id": "045cf16f",
   "metadata": {},
   "outputs": [],
   "source": [
    "y_predict=stacking_class.predict(x_test)"
   ]
  },
  {
   "cell_type": "code",
   "execution_count": 110,
   "id": "c7c80a2a",
   "metadata": {},
   "outputs": [
    {
     "name": "stdout",
     "output_type": "stream",
     "text": [
      "\n",
      "Classification Report\n",
      "\n",
      "              precision    recall  f1-score   support\n",
      "\n",
      "           0       0.92      0.87      0.89     45016\n",
      "           1       0.87      0.92      0.90     44403\n",
      "\n",
      "    accuracy                           0.89     89419\n",
      "   macro avg       0.90      0.89      0.89     89419\n",
      "weighted avg       0.90      0.89      0.89     89419\n",
      "\n"
     ]
    }
   ],
   "source": [
    "print('\\nClassification Report\\n')\n",
    "print(classification_report(y_test, y_predict))"
   ]
  },
  {
   "cell_type": "markdown",
   "id": "6855960f",
   "metadata": {},
   "source": [
    "# **Using LI-Large-Trans Dataset to Test the Model**"
   ]
  },
  {
   "cell_type": "code",
   "execution_count": 114,
   "id": "fc83e839",
   "metadata": {},
   "outputs": [],
   "source": [
    "chunk_size = 100000\n",
    "rus = RandomUnderSampler(random_state=42)\n",
    "undersampled_data = pd.DataFrame()\n",
    "\n",
    "for chunk in pd.read_csv(r\"archive (3)/LI-Large_Trans.csv\", chunksize=chunk_size):\n",
    "    X_chunk = chunk.drop('Is Laundering', axis=1)\n",
    "    y_chunk = chunk['Is Laundering']\n",
    "    \n",
    "    if len(y_chunk.unique()) > 1:\n",
    "        X_rus, y_rus = rus.fit_resample(X_chunk, y_chunk)\n",
    "        chunk_rus = pd.concat([X_rus, y_rus], axis=1)\n",
    "        undersampled_data = pd.concat([undersampled_data, chunk_rus], ignore_index=True)\n"
   ]
  },
  {
   "cell_type": "code",
   "execution_count": 116,
   "id": "22a728ea",
   "metadata": {},
   "outputs": [],
   "source": [
    "df = undersampled_data\n",
    "df.to_csv('LI-Large_Trans_Sampled.csv', index=False)"
   ]
  },
  {
   "cell_type": "code",
   "execution_count": 175,
   "id": "6f41aa0a",
   "metadata": {},
   "outputs": [
    {
     "data": {
      "text/plain": [
       "Index(['timestamp', 'frombank', 'account', 'tobank', 'account1',\n",
       "       'amountreceived', 'receivingcurrency', 'amountpaid', 'paymentcurrency',\n",
       "       'paymentformat', 'islaundering'],\n",
       "      dtype='object')"
      ]
     },
     "execution_count": 175,
     "metadata": {},
     "output_type": "execute_result"
    }
   ],
   "source": [
    "df = pd.read_csv('LI-Large_Trans_Sampled.csv')\n",
    "\n",
    "df.columns = [col.replace(' ', '').replace('.', '').lower() for col in df.columns]\n",
    "df.columns"
   ]
  },
  {
   "cell_type": "code",
   "execution_count": 176,
   "id": "f16655c0",
   "metadata": {},
   "outputs": [
    {
     "name": "stdout",
     "output_type": "stream",
     "text": [
      "['timestamp', 'frombank', 'account', 'tobank', 'account1', 'amountreceived', 'receivingcurrency', 'amountpaid', 'paymentcurrency', 'paymentformat', 'islaundering']\n"
     ]
    }
   ],
   "source": [
    "print(df.columns.tolist())\n"
   ]
  },
  {
   "cell_type": "code",
   "execution_count": 177,
   "id": "27a699b9",
   "metadata": {},
   "outputs": [
    {
     "name": "stdout",
     "output_type": "stream",
     "text": [
      "['timestamp', 'frombank', 'account', 'tobank', 'account1', 'amountreceived', 'receivingcurrency', 'amountpaid', 'paymentcurrency', 'paymentformat', 'islaundering']\n"
     ]
    }
   ],
   "source": [
    "print(df.columns.tolist())\n"
   ]
  },
  {
   "cell_type": "code",
   "execution_count": 178,
   "id": "90851fb3",
   "metadata": {
    "scrolled": true
   },
   "outputs": [],
   "source": [
    "\n",
    "# -------------------------------\n",
    "# Separate input and output\n",
    "# -------------------------------\n",
    "input_df  = df.drop('islaundering', axis=1)\n",
    "output_df = df['islaundering']\n",
    "\n",
    "# -------------------------------\n",
    "# Categorical encoding\n",
    "# -------------------------------\n",
    "# Currency encoding\n",
    "main_currencies = ['US Dollar', 'Euro', 'Yuan', 'UK Pound']\n",
    "df['receivingcurrency'] = df['receivingcurrency'].apply(lambda x: x if x in main_currencies else 'Others')\n",
    "df['paymentcurrency'] = df['paymentcurrency'].apply(lambda x: x if x in main_currencies else 'Others')\n",
    "df = pd.get_dummies(df, columns=['receivingcurrency', 'paymentcurrency'])\n",
    "\n",
    "# Payment format encoding\n",
    "main_payment_formats = ['ACH', 'Cheque', 'Credit Card', 'Cash']\n",
    "df['paymentformat'] = df['paymentformat'].apply(lambda x: x if x in main_payment_formats else 'Others')\n",
    "df = pd.get_dummies(df, columns=['paymentformat'])\n",
    "\n",
    "# Frequency encoding for selected columns\n",
    "columns_to_encode = ['frombank', 'tobank', 'account', 'account1']\n",
    "for col in columns_to_encode:\n",
    "    if col in df.columns:\n",
    "        freq_encoding = df[col].value_counts(normalize=True)\n",
    "        df[col] = df[col].map(freq_encoding)\n",
    "\n",
    "# -------------------------------\n",
    "# Feature scaling\n",
    "# -------------------------------\n",
    "robust_scaler = RobustScaler()\n",
    "columns_to_scale = ['amountreceived', 'amountpaid']\n",
    "df[columns_to_scale] = robust_scaler.fit_transform(df[columns_to_scale])\n",
    "\n",
    "# -------------------------------\n",
    "# Save final encoded dataset\n",
    "# -------------------------------\n",
    "df.to_csv('LI-Large_Trans_ENCODED_FINAL.csv', index=False)\n"
   ]
  },
  {
   "cell_type": "code",
   "execution_count": 184,
   "id": "f1fb8787",
   "metadata": {},
   "outputs": [],
   "source": [
    "df2 = pd.read_csv('LI-Large_Trans_Sampled.csv')"
   ]
  },
  {
   "cell_type": "code",
   "execution_count": 185,
   "id": "0d5f7f08",
   "metadata": {},
   "outputs": [
    {
     "name": "stdout",
     "output_type": "stream",
     "text": [
      "Index(['Timestamp', 'From Bank', 'Account', 'To Bank', 'Account.1',\n",
      "       'Amount Received', 'Receiving Currency', 'Amount Paid',\n",
      "       'Payment Currency', 'Payment Format', 'Is Laundering'],\n",
      "      dtype='object')\n"
     ]
    }
   ],
   "source": [
    "print(df2.columns)\n"
   ]
  },
  {
   "cell_type": "code",
   "execution_count": 186,
   "id": "73729812",
   "metadata": {},
   "outputs": [
    {
     "data": {
      "text/html": [
       "<div>\n",
       "<style scoped>\n",
       "    .dataframe tbody tr th:only-of-type {\n",
       "        vertical-align: middle;\n",
       "    }\n",
       "\n",
       "    .dataframe tbody tr th {\n",
       "        vertical-align: top;\n",
       "    }\n",
       "\n",
       "    .dataframe thead th {\n",
       "        text-align: right;\n",
       "    }\n",
       "</style>\n",
       "<table border=\"1\" class=\"dataframe\">\n",
       "  <thead>\n",
       "    <tr style=\"text-align: right;\">\n",
       "      <th></th>\n",
       "      <th>Timestamp</th>\n",
       "      <th>From Bank</th>\n",
       "      <th>Account</th>\n",
       "      <th>To Bank</th>\n",
       "      <th>Account.1</th>\n",
       "      <th>Amount Received</th>\n",
       "      <th>Receiving Currency</th>\n",
       "      <th>Amount Paid</th>\n",
       "      <th>Payment Currency</th>\n",
       "      <th>Payment Format</th>\n",
       "      <th>Is Laundering</th>\n",
       "    </tr>\n",
       "  </thead>\n",
       "  <tbody>\n",
       "    <tr>\n",
       "      <th>0</th>\n",
       "      <td>2022/08/01 00:02</td>\n",
       "      <td>210957</td>\n",
       "      <td>8043066C0</td>\n",
       "      <td>210957</td>\n",
       "      <td>8043066C0</td>\n",
       "      <td>280619.57</td>\n",
       "      <td>US Dollar</td>\n",
       "      <td>280619.57</td>\n",
       "      <td>US Dollar</td>\n",
       "      <td>Reinvestment</td>\n",
       "      <td>0</td>\n",
       "    </tr>\n",
       "    <tr>\n",
       "      <th>1</th>\n",
       "      <td>2022/08/01 00:14</td>\n",
       "      <td>7335</td>\n",
       "      <td>802FBBE60</td>\n",
       "      <td>7335</td>\n",
       "      <td>802FBBE60</td>\n",
       "      <td>3073.45</td>\n",
       "      <td>US Dollar</td>\n",
       "      <td>3073.45</td>\n",
       "      <td>US Dollar</td>\n",
       "      <td>Reinvestment</td>\n",
       "      <td>0</td>\n",
       "    </tr>\n",
       "    <tr>\n",
       "      <th>2</th>\n",
       "      <td>2022/08/01 00:12</td>\n",
       "      <td>1831</td>\n",
       "      <td>8050AC390</td>\n",
       "      <td>1831</td>\n",
       "      <td>8050AC390</td>\n",
       "      <td>19.39</td>\n",
       "      <td>US Dollar</td>\n",
       "      <td>19.39</td>\n",
       "      <td>US Dollar</td>\n",
       "      <td>Reinvestment</td>\n",
       "      <td>0</td>\n",
       "    </tr>\n",
       "    <tr>\n",
       "      <th>3</th>\n",
       "      <td>2022/08/01 00:01</td>\n",
       "      <td>70</td>\n",
       "      <td>10042B660</td>\n",
       "      <td>14449</td>\n",
       "      <td>80426BB90</td>\n",
       "      <td>4302.05</td>\n",
       "      <td>US Dollar</td>\n",
       "      <td>4302.05</td>\n",
       "      <td>US Dollar</td>\n",
       "      <td>Cheque</td>\n",
       "      <td>1</td>\n",
       "    </tr>\n",
       "    <tr>\n",
       "      <th>4</th>\n",
       "      <td>2022/08/01 00:28</td>\n",
       "      <td>70</td>\n",
       "      <td>10042B660</td>\n",
       "      <td>21418</td>\n",
       "      <td>805570B70</td>\n",
       "      <td>6357.18</td>\n",
       "      <td>US Dollar</td>\n",
       "      <td>6357.18</td>\n",
       "      <td>US Dollar</td>\n",
       "      <td>Credit Card</td>\n",
       "      <td>1</td>\n",
       "    </tr>\n",
       "  </tbody>\n",
       "</table>\n",
       "</div>"
      ],
      "text/plain": [
       "          Timestamp  From Bank    Account  To Bank  Account.1  \\\n",
       "0  2022/08/01 00:02     210957  8043066C0   210957  8043066C0   \n",
       "1  2022/08/01 00:14       7335  802FBBE60     7335  802FBBE60   \n",
       "2  2022/08/01 00:12       1831  8050AC390     1831  8050AC390   \n",
       "3  2022/08/01 00:01         70  10042B660    14449  80426BB90   \n",
       "4  2022/08/01 00:28         70  10042B660    21418  805570B70   \n",
       "\n",
       "   Amount Received Receiving Currency  Amount Paid Payment Currency  \\\n",
       "0        280619.57          US Dollar    280619.57        US Dollar   \n",
       "1          3073.45          US Dollar      3073.45        US Dollar   \n",
       "2            19.39          US Dollar        19.39        US Dollar   \n",
       "3          4302.05          US Dollar      4302.05        US Dollar   \n",
       "4          6357.18          US Dollar      6357.18        US Dollar   \n",
       "\n",
       "  Payment Format  Is Laundering  \n",
       "0   Reinvestment              0  \n",
       "1   Reinvestment              0  \n",
       "2   Reinvestment              0  \n",
       "3         Cheque              1  \n",
       "4    Credit Card              1  "
      ]
     },
     "execution_count": 186,
     "metadata": {},
     "output_type": "execute_result"
    }
   ],
   "source": [
    "df2.head()"
   ]
  },
  {
   "cell_type": "code",
   "execution_count": 188,
   "id": "fab90fe4",
   "metadata": {},
   "outputs": [
    {
     "name": "stdout",
     "output_type": "stream",
     "text": [
      "Index(['Timestamp', 'From Bank', 'Account', 'To Bank', 'Account.1',\n",
      "       'Amount Received', 'Receiving Currency', 'Amount Paid',\n",
      "       'Payment Currency', 'Payment Format', 'Is Laundering'],\n",
      "      dtype='object')\n"
     ]
    }
   ],
   "source": [
    "print(df2.columns)"
   ]
  },
  {
   "cell_type": "code",
   "execution_count": 190,
   "id": "1d291560",
   "metadata": {
    "scrolled": true
   },
   "outputs": [],
   "source": [
    "x_test2 = df2.drop('Is Laundering', axis=1)\n",
    "y_test2 = df2['Is Laundering']"
   ]
  },
  {
   "cell_type": "code",
   "execution_count": 191,
   "id": "754c14b9",
   "metadata": {
    "scrolled": true
   },
   "outputs": [
    {
     "name": "stdout",
     "output_type": "stream",
     "text": [
      "<class 'pandas.core.frame.DataFrame'>\n",
      "Int64Index: 357811 entries, 55116 to 121958\n",
      "Data columns (total 26 columns):\n",
      " #   Column                        Non-Null Count   Dtype  \n",
      "---  ------                        --------------   -----  \n",
      " 0   from_bank                     357811 non-null  float64\n",
      " 1   account                       357811 non-null  float64\n",
      " 2   to_bank                       357811 non-null  float64\n",
      " 3   account_1                     357811 non-null  float64\n",
      " 4   amount_received               357811 non-null  float64\n",
      " 5   amount_paid                   357811 non-null  float64\n",
      " 6   month                         357811 non-null  int64  \n",
      " 7   day                           357811 non-null  int64  \n",
      " 8   day_of_week                   357811 non-null  int64  \n",
      " 9   hour                          357811 non-null  int64  \n",
      " 10  minute                        357811 non-null  int64  \n",
      " 11  receiving_currency_Euro       357811 non-null  uint8  \n",
      " 12  receiving_currency_Others     357811 non-null  uint8  \n",
      " 13  receiving_currency_UK Pound   357811 non-null  uint8  \n",
      " 14  receiving_currency_US Dollar  357811 non-null  uint8  \n",
      " 15  receiving_currency_Yuan       357811 non-null  uint8  \n",
      " 16  payment_currency_Euro         357811 non-null  uint8  \n",
      " 17  payment_currency_Others       357811 non-null  uint8  \n",
      " 18  payment_currency_UK Pound     357811 non-null  uint8  \n",
      " 19  payment_currency_US Dollar    357811 non-null  uint8  \n",
      " 20  payment_currency_Yuan         357811 non-null  uint8  \n",
      " 21  payment_format_ACH            357811 non-null  uint8  \n",
      " 22  payment_format_Cash           357811 non-null  uint8  \n",
      " 23  payment_format_Cheque         357811 non-null  uint8  \n",
      " 24  payment_format_Credit Card    357811 non-null  uint8  \n",
      " 25  payment_format_Others         357811 non-null  uint8  \n",
      "dtypes: float64(6), int64(5), uint8(15)\n",
      "memory usage: 37.9 MB\n"
     ]
    }
   ],
   "source": [
    "x_train.info()"
   ]
  },
  {
   "cell_type": "code",
   "execution_count": 192,
   "id": "3c8a5615",
   "metadata": {
    "scrolled": true
   },
   "outputs": [
    {
     "name": "stdout",
     "output_type": "stream",
     "text": [
      "<class 'pandas.core.frame.DataFrame'>\n",
      "RangeIndex: 201208 entries, 0 to 201207\n",
      "Data columns (total 10 columns):\n",
      " #   Column              Non-Null Count   Dtype  \n",
      "---  ------              --------------   -----  \n",
      " 0   Timestamp           201208 non-null  object \n",
      " 1   From Bank           201208 non-null  int64  \n",
      " 2   Account             201208 non-null  object \n",
      " 3   To Bank             201208 non-null  int64  \n",
      " 4   Account.1           201208 non-null  object \n",
      " 5   Amount Received     201208 non-null  float64\n",
      " 6   Receiving Currency  201208 non-null  object \n",
      " 7   Amount Paid         201208 non-null  float64\n",
      " 8   Payment Currency    201208 non-null  object \n",
      " 9   Payment Format      201208 non-null  object \n",
      "dtypes: float64(2), int64(2), object(6)\n",
      "memory usage: 15.4+ MB\n"
     ]
    }
   ],
   "source": [
    "x_test2.info()"
   ]
  },
  {
   "cell_type": "markdown",
   "id": "7cf081a5",
   "metadata": {},
   "source": [
    "# **Using Tuned Random Forest Classifier**"
   ]
  },
  {
   "cell_type": "code",
   "execution_count": 196,
   "id": "c0f9a8c3",
   "metadata": {},
   "outputs": [
    {
     "name": "stdout",
     "output_type": "stream",
     "text": [
      "['Timestamp', 'From Bank', 'Account', 'To Bank', 'Account.1', 'Amount Received', 'Receiving Currency', 'Amount Paid', 'Payment Currency', 'Payment Format', 'Is Laundering']\n"
     ]
    }
   ],
   "source": [
    "print(df2.columns.tolist())"
   ]
  },
  {
   "cell_type": "code",
   "execution_count": 222,
   "id": "2bbb98a5",
   "metadata": {},
   "outputs": [
    {
     "name": "stdout",
     "output_type": "stream",
     "text": [
      "Test dataset preprocessed successfully!\n",
      "<class 'pandas.core.frame.DataFrame'>\n",
      "RangeIndex: 201208 entries, 0 to 201207\n",
      "Data columns (total 26 columns):\n",
      " #   Column                        Non-Null Count   Dtype  \n",
      "---  ------                        --------------   -----  \n",
      " 0   from_bank                     201208 non-null  float64\n",
      " 1   account                       201208 non-null  float64\n",
      " 2   to_bank                       201208 non-null  float64\n",
      " 3   account_1                     201208 non-null  float64\n",
      " 4   amount_received               201208 non-null  float64\n",
      " 5   amount_paid                   201208 non-null  float64\n",
      " 6   month                         201208 non-null  int64  \n",
      " 7   day                           201208 non-null  int64  \n",
      " 8   day_of_week                   201208 non-null  int64  \n",
      " 9   hour                          201208 non-null  int64  \n",
      " 10  minute                        201208 non-null  int64  \n",
      " 11  receiving_currency_Euro       201208 non-null  int64  \n",
      " 12  receiving_currency_Others     201208 non-null  int64  \n",
      " 13  receiving_currency_UK Pound   201208 non-null  int64  \n",
      " 14  receiving_currency_US Dollar  201208 non-null  int64  \n",
      " 15  receiving_currency_Yuan       201208 non-null  int64  \n",
      " 16  payment_currency_Euro         201208 non-null  int64  \n",
      " 17  payment_currency_Others       201208 non-null  int64  \n",
      " 18  payment_currency_UK Pound     201208 non-null  int64  \n",
      " 19  payment_currency_US Dollar    201208 non-null  int64  \n",
      " 20  payment_currency_Yuan         201208 non-null  int64  \n",
      " 21  payment_format_ACH            201208 non-null  int64  \n",
      " 22  payment_format_Cash           201208 non-null  int64  \n",
      " 23  payment_format_Cheque         201208 non-null  int64  \n",
      " 24  payment_format_Credit Card    201208 non-null  int64  \n",
      " 25  payment_format_Others         201208 non-null  int64  \n",
      "dtypes: float64(6), int64(20)\n",
      "memory usage: 39.9 MB\n",
      "None\n"
     ]
    }
   ],
   "source": [
    "# -------------------------------\n",
    "# Rename test columns to match x_train\n",
    "# -------------------------------\n",
    "df_test.rename(columns={\n",
    "    'frombank': 'from_bank',\n",
    "    'tobank': 'to_bank',\n",
    "    'account1': 'account_1',\n",
    "    'amountreceived': 'amount_received',\n",
    "    'amountpaid': 'amount_paid',\n",
    "    'receivingcurrency': 'receiving_currency',\n",
    "    'paymentcurrency': 'payment_currency',\n",
    "    'paymentformat': 'payment_format'\n",
    "}, inplace=True)\n",
    "\n",
    "# -------------------------------\n",
    "# Separate input/output\n",
    "# -------------------------------\n",
    "y_test = df_test['islaundering']\n",
    "x_test = df_test.drop('islaundering', axis=1)\n",
    "\n",
    "# -------------------------------\n",
    "# Frequency encoding\n",
    "# -------------------------------\n",
    "columns_to_encode = ['from_bank', 'to_bank', 'account', 'account_1']\n",
    "for col in columns_to_encode:\n",
    "    if col in x_test.columns:\n",
    "        freq_encoding = x_train[col].value_counts(normalize=True)\n",
    "        x_test[col] = x_test[col].map(freq_encoding).fillna(0)\n",
    "\n",
    "# -------------------------------\n",
    "# Feature scaling (using scaler fitted on x_train)\n",
    "# -------------------------------\n",
    "columns_to_scale = ['amount_received', 'amount_paid']\n",
    "x_test[columns_to_scale] = scaler.transform(x_test[columns_to_scale])\n",
    "\n",
    "# -------------------------------\n",
    "# Align test columns with training set\n",
    "# -------------------------------\n",
    "x_test = x_test.reindex(columns=x_train.columns, fill_value=0)\n",
    "\n",
    "print(\"Test dataset preprocessed successfully!\")\n",
    "print(x_test.info())\n"
   ]
  },
  {
   "cell_type": "code",
   "execution_count": 228,
   "id": "2715c962",
   "metadata": {},
   "outputs": [
    {
     "data": {
      "text/plain": [
       "RandomForestClassifier(class_weight='balanced', criterion='entropy',\n",
       "                       max_depth=10)"
      ]
     },
     "execution_count": 228,
     "metadata": {},
     "output_type": "execute_result"
    }
   ],
   "source": [
    "RF_class = RandomForestClassifier(criterion='entropy', max_depth=10, class_weight='balanced')\n",
    "\n",
    "RF_class.fit(x_train, y_train)"
   ]
  },
  {
   "cell_type": "markdown",
   "id": "725d9190",
   "metadata": {},
   "source": [
    "### **Evaluation Metrics**"
   ]
  },
  {
   "cell_type": "code",
   "execution_count": 240,
   "id": "1fca88f7",
   "metadata": {},
   "outputs": [],
   "source": [
    "# After preprocessing df_test to get x_test\n",
    "y_predict = RF_class.predict(x_test)\n",
    "\n",
    "# Evaluation\n",
    "conf_matrix = confusion_matrix(y_test, y_predict)\n",
    "class_report = classification_report(y_test, y_predict)\n",
    "roc_auc = roc_auc_score(y_test, y_predict)\n"
   ]
  },
  {
   "cell_type": "code",
   "execution_count": 300,
   "id": "1c37baca",
   "metadata": {},
   "outputs": [],
   "source": [
    "y_proba = RF_class.predict_proba(x_test)[:, 1]\n",
    "\n",
    "# Choose a lower threshold (like 0.3) to capture positives\n",
    "threshold = 0.162\n",
    "y_pred_adjusted = (y_proba >= threshold).astype(int)\n"
   ]
  },
  {
   "cell_type": "code",
   "execution_count": 301,
   "id": "b11a92f5",
   "metadata": {},
   "outputs": [],
   "source": [
    "from sklearn.metrics import confusion_matrix, classification_report, roc_auc_score\n",
    "\n",
    "conf_matrix = confusion_matrix(y_test, y_pred_adjusted)\n",
    "class_report = classification_report(y_test, y_pred_adjusted)\n",
    "roc_auc = roc_auc_score(y_test, y_proba)\n"
   ]
  },
  {
   "cell_type": "code",
   "execution_count": 302,
   "id": "4a9e9965",
   "metadata": {},
   "outputs": [
    {
     "name": "stdout",
     "output_type": "stream",
     "text": [
      "Confusion Matrix:\n",
      " [[91936  8668]\n",
      " [83779 16825]]\n"
     ]
    }
   ],
   "source": [
    "print(\"Confusion Matrix:\\n\", conf_matrix)"
   ]
  },
  {
   "cell_type": "markdown",
   "id": "4f1d739a",
   "metadata": {},
   "source": [
    "- **True Positives (TP):** The number of correctly predicted positive instances (correctly predicted money laundering transactions in this context). In the provided confusion matrix, there are **81,970** true positives.\n",
    "- **True Negatives (TN):** The number of correctly predicted negative instances (correctly predicted non-money laundering transactions). Here, there are **92,276** true negatives.\n",
    "- **False Positives (FP):** The number of non-money laundering transactions incorrectly predicted as money laundering transactions. In this matrix, there are **18,634** false positives.\n",
    "- **False Negatives (FN):** The number of money laundering transactions incorrectly predicted as non-money laundering transactions. There are **7,731** false negatives.\n",
    "\n",
    "The **high values of TP and TN** indicate that the model is **proficient in correctly classifying** both money laundering and non-money laundering transactions.\n",
    "The number of **false positives (18,634) and false negatives (7,731)** suggests **some misclassifications** occurred, where the model predicted incorrectly for a portion of the instances."
   ]
  },
  {
   "cell_type": "code",
   "execution_count": 303,
   "id": "dd79771c",
   "metadata": {},
   "outputs": [
    {
     "name": "stdout",
     "output_type": "stream",
     "text": [
      "Classification report:\n",
      "               precision    recall  f1-score   support\n",
      "\n",
      "           0       0.52      0.91      0.67    100604\n",
      "           1       0.66      0.17      0.27    100604\n",
      "\n",
      "    accuracy                           0.54    201208\n",
      "   macro avg       0.59      0.54      0.47    201208\n",
      "weighted avg       0.59      0.54      0.47    201208\n",
      "\n"
     ]
    }
   ],
   "source": [
    "print(\"Classification report:\\n\", class_report)"
   ]
  },
  {
   "cell_type": "code",
   "execution_count": 304,
   "id": "c6e9b831",
   "metadata": {},
   "outputs": [
    {
     "name": "stdout",
     "output_type": "stream",
     "text": [
      "ROC AUC score:\n",
      " 0.6501382366185547\n"
     ]
    }
   ],
   "source": [
    "print(\"ROC AUC score:\\n\", roc_auc)"
   ]
  },
  {
   "cell_type": "markdown",
   "id": "c590de46",
   "metadata": {},
   "source": [
    "# **Using XGBoost Classifier**"
   ]
  },
  {
   "cell_type": "code",
   "execution_count": 305,
   "id": "5b68cf16",
   "metadata": {},
   "outputs": [
    {
     "data": {
      "text/plain": [
       "XGBClassifier(base_score=0.5, booster='gbtree', callbacks=None,\n",
       "              colsample_bylevel=1, colsample_bynode=1, colsample_bytree=1,\n",
       "              early_stopping_rounds=None, enable_categorical=False,\n",
       "              eval_metric=None, gamma=0, gpu_id=-1, grow_policy='depthwise',\n",
       "              importance_type=None, interaction_constraints='',\n",
       "              learning_rate=0.300000012, max_bin=256, max_cat_to_onehot=4,\n",
       "              max_delta_step=0, max_depth=6, max_leaves=0, min_child_weight=1,\n",
       "              missing=nan, monotone_constraints='()', n_estimators=100,\n",
       "              n_jobs=0, num_parallel_tree=1, predictor='auto', random_state=0,\n",
       "              reg_alpha=0, reg_lambda=1, ...)"
      ]
     },
     "execution_count": 305,
     "metadata": {},
     "output_type": "execute_result"
    }
   ],
   "source": [
    "xgboost = xgb.XGBClassifier()\n",
    "xgboost.fit(x_train, y_train)"
   ]
  },
  {
   "cell_type": "markdown",
   "id": "56fbdb84",
   "metadata": {},
   "source": [
    "### **Evaluation Metrics**"
   ]
  },
  {
   "cell_type": "code",
   "execution_count": 306,
   "id": "f9785e7b",
   "metadata": {},
   "outputs": [
    {
     "name": "stdout",
     "output_type": "stream",
     "text": [
      "Confusion Matrix:\n",
      " [[100590     14]\n",
      " [100100    504]]\n",
      "\n",
      "Classification Report:\n",
      "               precision    recall  f1-score   support\n",
      "\n",
      "           0       0.50      1.00      0.67    100604\n",
      "           1       0.97      0.01      0.01    100604\n",
      "\n",
      "    accuracy                           0.50    201208\n",
      "   macro avg       0.74      0.50      0.34    201208\n",
      "weighted avg       0.74      0.50      0.34    201208\n",
      "\n",
      "\n",
      "ROC AUC Score: 0.5024352908433064\n"
     ]
    }
   ],
   "source": [
    "# Make predictions using the trained XGBoost model\n",
    "y_pred = xgboost.predict(x_test)  # use x_test, not x_test2\n",
    "\n",
    "# Confusion Matrix\n",
    "conf_matrix = confusion_matrix(y_test, y_pred)\n",
    "print(\"Confusion Matrix:\\n\", conf_matrix)\n",
    "\n",
    "# Classification Report\n",
    "class_report = classification_report(y_test, y_pred)\n",
    "print(\"\\nClassification Report:\\n\", class_report)\n",
    "\n",
    "# ROC AUC Score\n",
    "roc_auc = roc_auc_score(y_test, y_pred)\n",
    "print(\"\\nROC AUC Score:\", roc_auc)\n"
   ]
  },
  {
   "cell_type": "code",
   "execution_count": 325,
   "id": "2057e2b6",
   "metadata": {},
   "outputs": [
    {
     "name": "stdout",
     "output_type": "stream",
     "text": [
      "Confusion Matrix:\n",
      " [[100600      4]\n",
      " [100544     60]]\n",
      "\n",
      "Classification Report:\n",
      "               precision    recall  f1-score   support\n",
      "\n",
      "           0       0.50      1.00      0.67    100604\n",
      "           1       0.94      0.00      0.00    100604\n",
      "\n",
      "    accuracy                           0.50    201208\n",
      "   macro avg       0.72      0.50      0.33    201208\n",
      "weighted avg       0.72      0.50      0.33    201208\n",
      "\n",
      "\n",
      "ROC AUC Score: 0.5051829731511804\n"
     ]
    }
   ],
   "source": [
    "# Make probability predictions with XGBoost\n",
    "y_proba = xgboost.predict_proba(x_test)[:, 1]  # probability for class 1\n",
    "\n",
    "# Choose a lower threshold to capture positives\n",
    "threshold = 0.75\n",
    "y_pred_adjusted = (y_proba >= threshold).astype(int)\n",
    "\n",
    "# Evaluation\n",
    "from sklearn.metrics import confusion_matrix, classification_report, roc_auc_score\n",
    "\n",
    "conf_matrix = confusion_matrix(y_test, y_pred_adjusted)\n",
    "class_report = classification_report(y_test, y_pred_adjusted)\n",
    "roc_auc = roc_auc_score(y_test, y_proba)  # use probabilities for ROC AUC\n",
    "\n",
    "print(\"Confusion Matrix:\\n\", conf_matrix)\n",
    "print(\"\\nClassification Report:\\n\", class_report)\n",
    "print(\"\\nROC AUC Score:\", roc_auc)\n"
   ]
  },
  {
   "cell_type": "code",
   "execution_count": 326,
   "id": "c8b721f8",
   "metadata": {},
   "outputs": [
    {
     "name": "stdout",
     "output_type": "stream",
     "text": [
      "Confusion Matrix:\n",
      " [[100600      4]\n",
      " [100544     60]]\n"
     ]
    }
   ],
   "source": [
    "print(\"Confusion Matrix:\\n\", conf_matrix)"
   ]
  },
  {
   "cell_type": "code",
   "execution_count": 327,
   "id": "ced5f558",
   "metadata": {},
   "outputs": [
    {
     "name": "stdout",
     "output_type": "stream",
     "text": [
      "Classification report:\n",
      "               precision    recall  f1-score   support\n",
      "\n",
      "           0       0.50      1.00      0.67    100604\n",
      "           1       0.94      0.00      0.00    100604\n",
      "\n",
      "    accuracy                           0.50    201208\n",
      "   macro avg       0.72      0.50      0.33    201208\n",
      "weighted avg       0.72      0.50      0.33    201208\n",
      "\n"
     ]
    }
   ],
   "source": [
    "print(\"Classification report:\\n\", class_report)"
   ]
  },
  {
   "cell_type": "code",
   "execution_count": 328,
   "id": "4bb6de25",
   "metadata": {},
   "outputs": [
    {
     "name": "stdout",
     "output_type": "stream",
     "text": [
      "ROC AUC score:\n",
      " 0.5051829731511804\n"
     ]
    }
   ],
   "source": [
    "print(\"ROC AUC score:\\n\", roc_auc)"
   ]
  }
 ],
 "metadata": {
  "kernelspec": {
   "display_name": "Python 3 (ipykernel)",
   "language": "python",
   "name": "python3"
  },
  "language_info": {
   "codemirror_mode": {
    "name": "ipython",
    "version": 3
   },
   "file_extension": ".py",
   "mimetype": "text/x-python",
   "name": "python",
   "nbconvert_exporter": "python",
   "pygments_lexer": "ipython3",
   "version": "3.7.1"
  }
 },
 "nbformat": 4,
 "nbformat_minor": 5
}
